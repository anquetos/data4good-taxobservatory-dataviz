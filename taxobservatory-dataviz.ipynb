{
 "cells": [
  {
   "cell_type": "code",
   "execution_count": 611,
   "metadata": {},
   "outputs": [],
   "source": [
    "import pandas as pd\n",
    "import numpy as np\n",
    "import matplotlib.pyplot as plt\n",
    "import humanize\n",
    "import plotly.express as px"
   ]
  },
  {
   "cell_type": "markdown",
   "metadata": {},
   "source": [
    "# Data For Good - Tax Observatory Dataviz"
   ]
  },
  {
   "cell_type": "markdown",
   "metadata": {},
   "source": [
    "Visualizations for the EU Tax Observatory based on the [EU Tax Obs - Dataviz - Viz](https://docs.google.com/document/d/1q_7x8NrEWNsak9LSE3TxIiSphhVcqWqn6YeG1kQNQTk/edit#heading=h.97g77izer615) Google Docs."
   ]
  },
  {
   "cell_type": "markdown",
   "metadata": {},
   "source": [
    "## Table of contents\n",
    "* [Initialization](#initialization)\n",
    "* [#12 - available reports by company](#12---available-reports-by-company)\n",
    "* [#13 - company key financials kpis](#13---company-key-financials-kpis)\n",
    "* [#14 - company top jurisdictions for revenue](#14---company-top-jurisdictions-for-revenue)\n",
    "* [#15 - company’s % pre-tax profit and % employees by jurisdiction](#15---companys--pre-tax-profit-and--employees-by-jurisdiction)\n",
    "* [#18 - breakdown of revenue between related party and unrelated party in TH vs domestic vs non TH](#18---breakdown-of-revenue-between-related-party-and-unrelated-party-in-th-vs-domestic-vs-non-th)"
   ]
  },
  {
   "cell_type": "markdown",
   "metadata": {},
   "source": [
    "## Initialization"
   ]
  },
  {
   "cell_type": "code",
   "execution_count": 612,
   "metadata": {},
   "outputs": [],
   "source": [
    "# Import dataset in a DataFrame\n",
    "df = pd.read_csv('data_final_dataviz.csv', sep=',')"
   ]
  },
  {
   "cell_type": "markdown",
   "metadata": {},
   "source": [
    "In the website it will be possible to select a specific company. To work on the viz creation, we simulate the selection by picking a random company but also a random year."
   ]
  },
  {
   "cell_type": "code",
   "execution_count": 613,
   "metadata": {},
   "outputs": [],
   "source": [
    "# Select a random company and a random year\n",
    "def pick_random_company_and_year() -> tuple:\n",
    "    company = np.random.choice(df['mnc'].unique())\n",
    "    print(f'Selected company : {company}.')\n",
    "\n",
    "    year = np.random.choice(df.loc[df['mnc'] == company, 'year'].unique())\n",
    "    print(f'Selected year : {year}.')\n",
    "\n",
    "    return company, year"
   ]
  },
  {
   "cell_type": "code",
   "execution_count": 614,
   "metadata": {},
   "outputs": [
    {
     "name": "stdout",
     "output_type": "stream",
     "text": [
      "Selected company : ØRSTED.\n",
      "Selected year : 2022.\n"
     ]
    }
   ],
   "source": [
    "company, year = pick_random_company_and_year()\n",
    "# company, year = 'SHELL', 2020"
   ]
  },
  {
   "cell_type": "markdown",
   "metadata": {},
   "source": [
    "## #12 - available reports by company"
   ]
  },
  {
   "cell_type": "markdown",
   "metadata": {},
   "source": [
    "|viz|how to compute|how to manage negative values|where / variant needed|comment|\n",
    "|-|-|-|-|-|\n",
    "|tbd (goal is on company page, to show reports tracked, so could be just a table showing year available for a company)|-||`company explo` need a filter by company||"
   ]
  },
  {
   "cell_type": "code",
   "execution_count": 615,
   "metadata": {},
   "outputs": [],
   "source": [
    "def compute_company_available_reports(df: pd.DataFrame, company: str) -> dict:\n",
    "    \"\"\"Compute the number of reports tracked for a specific company and the \n",
    "    available fiscal years.\n",
    "\n",
    "    Args:\n",
    "        df (pd.DataFrame): CbCRs database.\n",
    "        company (str): company name.\n",
    "\n",
    "    Returns:\n",
    "        dict: numbers of reports and fiscal years.\n",
    "    \"\"\"\n",
    "    available_years = df.loc[df['mnc'] == company, 'year'].unique()\n",
    "    n_reports = len(available_years)\n",
    "\n",
    "    # Convert type of items from 'int' to 'str' in available years list\n",
    "    years_string_list = [str(year) for year in available_years]\n",
    "    \n",
    "    # Summarize all available years in one string\n",
    "    if len(years_string_list) == 1:\n",
    "        years_string = years_string_list[0]\n",
    "    elif len(years_string_list) > 1:\n",
    "        years_string = ', '.join(years_string_list[:-1])\n",
    "        years_string += ' and ' + years_string_list[-1]\n",
    "\n",
    "    # Create a dictionnary with the results\n",
    "    data = {\n",
    "        'Company': company,\n",
    "        'Reports': n_reports,\n",
    "        'Fiscal year(s) available': years_string\n",
    "    }\n",
    "\n",
    "    return data\n",
    "\n",
    "\n",
    "def display_company_available_reports(\n",
    "        df: pd.DataFrame, company: str, hide_company: bool=True) -> pd.DataFrame:\n",
    "    \"\"\"Display the number of reports tracked for a specific company and the \n",
    "    available fiscal years.\n",
    "\n",
    "    Args:\n",
    "        df (pd.DataFrame): CbCRs database.\n",
    "        company (str): company name.\n",
    "        hide_company (bool, optional): hide company name in final table. Defaults to True.\n",
    "\n",
    "    Returns:\n",
    "        pd.DataFrame: numbers of reports and fiscal years.\n",
    "    \"\"\"\n",
    "    \n",
    "    # Compute data\n",
    "    data = compute_company_available_reports(df=df, company=company)\n",
    "\n",
    "    # Create the table\n",
    "    df = pd.DataFrame.from_dict(data=data, orient='index')\n",
    "\n",
    "    if hide_company:\n",
    "        return df[1:].style.hide(axis='columns')\n",
    "\n",
    "    return df.style.hide(axis='columns')"
   ]
  },
  {
   "cell_type": "code",
   "execution_count": 616,
   "metadata": {},
   "outputs": [
    {
     "data": {
      "text/html": [
       "<style type=\"text/css\">\n",
       "</style>\n",
       "<table id=\"T_2fd1b\">\n",
       "  <thead>\n",
       "  </thead>\n",
       "  <tbody>\n",
       "    <tr>\n",
       "      <th id=\"T_2fd1b_level0_row0\" class=\"row_heading level0 row0\" >Reports</th>\n",
       "      <td id=\"T_2fd1b_row0_col0\" class=\"data row0 col0\" >3</td>\n",
       "    </tr>\n",
       "    <tr>\n",
       "      <th id=\"T_2fd1b_level0_row1\" class=\"row_heading level0 row1\" >Fiscal year(s) available</th>\n",
       "      <td id=\"T_2fd1b_row1_col0\" class=\"data row1 col0\" >2020, 2021 and 2022</td>\n",
       "    </tr>\n",
       "  </tbody>\n",
       "</table>\n"
      ],
      "text/plain": [
       "<pandas.io.formats.style.Styler at 0x24cc678a810>"
      ]
     },
     "execution_count": 616,
     "metadata": {},
     "output_type": "execute_result"
    }
   ],
   "source": [
    "display_company_available_reports(df=df, company=company, hide_company=True)"
   ]
  },
  {
   "cell_type": "markdown",
   "metadata": {},
   "source": [
    "## #13 - company key financials kpis"
   ]
  },
  {
   "cell_type": "markdown",
   "metadata": {},
   "source": [
    "**kpis** : hq country, total revenue, total unrelated party revenues, total related party revenues, pre-tax profits, taxes paid, employees.\n",
    "\n",
    "|viz|how to compute|how to manage negative values|where / variant needed|comment|\n",
    "|-|-|-|-|-|\n",
    "|raw figure for each, or table with indicator name in col A, value in col B|hq country : -<br><br>metrics : sum (metric) by year by mnc|**giulia : keep all values, even negative values**|`company explo` need a filter by company||"
   ]
  },
  {
   "cell_type": "code",
   "execution_count": 617,
   "metadata": {},
   "outputs": [],
   "source": [
    "def compute_company_key_financials_kpis(\n",
    "        df: pd.DataFrame, company: str, year: int=None) -> dict:\n",
    "    \"\"\"Compute key financial KPIs for a company.\n",
    "\n",
    "    Args:\n",
    "        df (pd.DataFrame): CbCRs database.\n",
    "        company (str): Company name\n",
    "        year (int, optional): fiscal year to filter the results with. Defaults to None.\n",
    "\n",
    "    Returns:\n",
    "        dict: company key financial KPIs.\n",
    "    \"\"\"\n",
    "    \n",
    "    kpis_list = ['total_revenues', 'unrelated_revenues', 'related_revenues', \n",
    "                 'profit_before_tax', 'tax_paid', 'employees']\n",
    "    \n",
    "    years_list = df.loc[df['mnc'] == company, 'year'].unique()\n",
    "\n",
    "    # Compute sum of kpis\n",
    "    if not year or year not in years_list:\n",
    "        df = (df.loc[df['mnc'] == company]\n",
    "            .groupby(['year', 'upe_name'], as_index=False)[kpis_list]\n",
    "            .sum()\n",
    "        )\n",
    "    else:\n",
    "        df = (df.loc[(df['mnc'] == company) & (df['year'] == year)]\n",
    "              .groupby(['year', 'upe_name'], as_index=False)[kpis_list]\n",
    "              .sum())\n",
    "\n",
    "    df = df.set_index('year')\n",
    "\n",
    "    # Make financial numbers easily readable with 'humanize' package\n",
    "    for column in df.columns:\n",
    "        if column not in ['employees', 'upe_name']:\n",
    "            df[column] = df[column].apply(\n",
    "                lambda x: humanize.intword(x) if isinstance(x, (int, float)) else x)\n",
    "            df[column] = '€ ' + df[column]\n",
    "        elif column == 'employees':\n",
    "            df[column] = df[column].astype(int)\n",
    "\n",
    "    # Clean columns string\n",
    "    df = df.rename(columns={'upe_name': 'headquarter'})\n",
    "    df.columns = df.columns.str.replace('_', ' ').str.capitalize()\n",
    "\n",
    "    # Create a dictionnary with the results\n",
    "    data = df.to_dict(orient='index')\n",
    "\n",
    "    return data\n",
    "\n",
    "\n",
    "def display_company_key_financials_kpis(\n",
    "        df: pd.DataFrame, company: str, year: int=None) -> pd.DataFrame:\n",
    "    \"\"\"Display key financial KPIs for a company.\n",
    "\n",
    "    Args:\n",
    "        df (pd.DataFrame): CbCRs database.\n",
    "        company (str): Company name\n",
    "        year (int, optional): fiscal year to filter the results with. Defaults to None.\n",
    "\n",
    "    Returns:\n",
    "        pd.DataFrame: company key financial KPIs.\n",
    "    \"\"\"\n",
    "    \n",
    "    # Compute data\n",
    "    data = compute_company_key_financials_kpis(df=df, company=company, year=year)\n",
    "\n",
    "    # Create the table\n",
    "    df = pd.DataFrame.from_dict(data)\n",
    "\n",
    "    return df"
   ]
  },
  {
   "cell_type": "code",
   "execution_count": 618,
   "metadata": {},
   "outputs": [
    {
     "data": {
      "text/html": [
       "<div>\n",
       "<style scoped>\n",
       "    .dataframe tbody tr th:only-of-type {\n",
       "        vertical-align: middle;\n",
       "    }\n",
       "\n",
       "    .dataframe tbody tr th {\n",
       "        vertical-align: top;\n",
       "    }\n",
       "\n",
       "    .dataframe thead th {\n",
       "        text-align: right;\n",
       "    }\n",
       "</style>\n",
       "<table border=\"1\" class=\"dataframe\">\n",
       "  <thead>\n",
       "    <tr style=\"text-align: right;\">\n",
       "      <th></th>\n",
       "      <th>2020</th>\n",
       "      <th>2021</th>\n",
       "      <th>2022</th>\n",
       "    </tr>\n",
       "  </thead>\n",
       "  <tbody>\n",
       "    <tr>\n",
       "      <th>Headquarter</th>\n",
       "      <td>Denmark</td>\n",
       "      <td>Denmark</td>\n",
       "      <td>Denmark</td>\n",
       "    </tr>\n",
       "    <tr>\n",
       "      <th>Total revenues</th>\n",
       "      <td>€ 9.3 billion</td>\n",
       "      <td>€ 14.4 billion</td>\n",
       "      <td>€ 23.2 billion</td>\n",
       "    </tr>\n",
       "    <tr>\n",
       "      <th>Unrelated revenues</th>\n",
       "      <td>€ 6.7 billion</td>\n",
       "      <td>€ 10.4 billion</td>\n",
       "      <td>€ 17.8 billion</td>\n",
       "    </tr>\n",
       "    <tr>\n",
       "      <th>Related revenues</th>\n",
       "      <td>€ 2.7 billion</td>\n",
       "      <td>€ 4.0 billion</td>\n",
       "      <td>€ 5.8 billion</td>\n",
       "    </tr>\n",
       "    <tr>\n",
       "      <th>Profit before tax</th>\n",
       "      <td>€ 2.3 billion</td>\n",
       "      <td>€ 1.8 billion</td>\n",
       "      <td>€ 2.4 billion</td>\n",
       "    </tr>\n",
       "    <tr>\n",
       "      <th>Tax paid</th>\n",
       "      <td>€ 150.0 million</td>\n",
       "      <td>€ 185.6 million</td>\n",
       "      <td>€ 169.8 million</td>\n",
       "    </tr>\n",
       "    <tr>\n",
       "      <th>Employees</th>\n",
       "      <td>6179</td>\n",
       "      <td>6836</td>\n",
       "      <td>8027</td>\n",
       "    </tr>\n",
       "  </tbody>\n",
       "</table>\n",
       "</div>"
      ],
      "text/plain": [
       "                               2020             2021             2022\n",
       "Headquarter                 Denmark          Denmark          Denmark\n",
       "Total revenues        € 9.3 billion   € 14.4 billion   € 23.2 billion\n",
       "Unrelated revenues    € 6.7 billion   € 10.4 billion   € 17.8 billion\n",
       "Related revenues      € 2.7 billion    € 4.0 billion    € 5.8 billion\n",
       "Profit before tax     € 2.3 billion    € 1.8 billion    € 2.4 billion\n",
       "Tax paid            € 150.0 million  € 185.6 million  € 169.8 million\n",
       "Employees                      6179             6836             8027"
      ]
     },
     "execution_count": 618,
     "metadata": {},
     "output_type": "execute_result"
    }
   ],
   "source": [
    "display_company_key_financials_kpis(df=df, company=company)"
   ]
  },
  {
   "cell_type": "markdown",
   "metadata": {},
   "source": [
    "## #14 - company top jurisdictions for revenue"
   ]
  },
  {
   "cell_type": "markdown",
   "metadata": {},
   "source": [
    "|viz|how to compute|how to manage negative values|where / variant needed|comment|\n",
    "|-|-|-|-|-|\n",
    "|horizontal bar chart showing % total revenue for top 9 jurisdictions + rest as “OTHERS”|sum(revenue) by company x hq country x year, display top 9 and group remaining countries||`company explo` need a filter by company||"
   ]
  },
  {
   "cell_type": "markdown",
   "metadata": {},
   "source": [
    "* Traiter les cas où il y a déjà une ligne other.\n",
    "* calculer le revenue total si unrelated et related sont remplis mais pas total.\n",
    "* Afficher qu'il n'y a pas d'informations disponible si graphique vide."
   ]
  },
  {
   "cell_type": "code",
   "execution_count": 619,
   "metadata": {},
   "outputs": [],
   "source": [
    "def compute_top_jurisdictions_revenue(\n",
    "        df: pd.DataFrame=df, company: str=company, year:int=year) -> dict:\n",
    "    \n",
    "    df = df.loc[(df['mnc'] == company) & (df['year'] == year), ['jur_name', 'total_revenues']]\n",
    "    df = df.fillna(0)\n",
    "    df = df.sort_values(by='total_revenues', ascending=False)\n",
    "\n",
    "    top = df[:9].copy()\n",
    "\n",
    "    others = df[9:]['total_revenues'].sum()\n",
    "    top.loc[9] = ['Others', others]\n",
    "\n",
    "    top['total_revenues_%'] = top['total_revenues'] / top['total_revenues'].sum() * 100\n",
    "\n",
    "    top = top.sort_values(by='total_revenues_%').reset_index(drop=True)\n",
    "\n",
    "    data = top.to_dict()\n",
    "    \n",
    "    return data"
   ]
  },
  {
   "cell_type": "code",
   "execution_count": 620,
   "metadata": {},
   "outputs": [
    {
     "data": {
      "text/html": [
       "<div>\n",
       "<style scoped>\n",
       "    .dataframe tbody tr th:only-of-type {\n",
       "        vertical-align: middle;\n",
       "    }\n",
       "\n",
       "    .dataframe tbody tr th {\n",
       "        vertical-align: top;\n",
       "    }\n",
       "\n",
       "    .dataframe thead th {\n",
       "        text-align: right;\n",
       "    }\n",
       "</style>\n",
       "<table border=\"1\" class=\"dataframe\">\n",
       "  <thead>\n",
       "    <tr style=\"text-align: right;\">\n",
       "      <th></th>\n",
       "      <th>jur_name</th>\n",
       "      <th>total_revenues</th>\n",
       "      <th>total_revenues_%</th>\n",
       "    </tr>\n",
       "  </thead>\n",
       "  <tbody>\n",
       "    <tr>\n",
       "      <th>0</th>\n",
       "      <td>Others</td>\n",
       "      <td>0.000000e+00</td>\n",
       "      <td>0.000000</td>\n",
       "    </tr>\n",
       "    <tr>\n",
       "      <th>1</th>\n",
       "      <td>Singapore</td>\n",
       "      <td>8.602613e+06</td>\n",
       "      <td>0.037129</td>\n",
       "    </tr>\n",
       "    <tr>\n",
       "      <th>2</th>\n",
       "      <td>Malaysia</td>\n",
       "      <td>2.889940e+07</td>\n",
       "      <td>0.124732</td>\n",
       "    </tr>\n",
       "    <tr>\n",
       "      <th>3</th>\n",
       "      <td>Poland</td>\n",
       "      <td>3.951825e+07</td>\n",
       "      <td>0.170563</td>\n",
       "    </tr>\n",
       "    <tr>\n",
       "      <th>4</th>\n",
       "      <td>Sweden</td>\n",
       "      <td>9.704823e+07</td>\n",
       "      <td>0.418866</td>\n",
       "    </tr>\n",
       "    <tr>\n",
       "      <th>5</th>\n",
       "      <td>United States of America</td>\n",
       "      <td>3.316038e+08</td>\n",
       "      <td>1.431224</td>\n",
       "    </tr>\n",
       "    <tr>\n",
       "      <th>6</th>\n",
       "      <td>Germany</td>\n",
       "      <td>4.958600e+08</td>\n",
       "      <td>2.140164</td>\n",
       "    </tr>\n",
       "    <tr>\n",
       "      <th>7</th>\n",
       "      <td>Taiwan</td>\n",
       "      <td>7.398247e+08</td>\n",
       "      <td>3.193131</td>\n",
       "    </tr>\n",
       "    <tr>\n",
       "      <th>8</th>\n",
       "      <td>United Kingdom</td>\n",
       "      <td>5.199473e+09</td>\n",
       "      <td>22.441260</td>\n",
       "    </tr>\n",
       "    <tr>\n",
       "      <th>9</th>\n",
       "      <td>Denmark</td>\n",
       "      <td>1.622843e+10</td>\n",
       "      <td>70.042931</td>\n",
       "    </tr>\n",
       "  </tbody>\n",
       "</table>\n",
       "</div>"
      ],
      "text/plain": [
       "                   jur_name  total_revenues  total_revenues_%\n",
       "0                    Others    0.000000e+00          0.000000\n",
       "1                 Singapore    8.602613e+06          0.037129\n",
       "2                  Malaysia    2.889940e+07          0.124732\n",
       "3                    Poland    3.951825e+07          0.170563\n",
       "4                    Sweden    9.704823e+07          0.418866\n",
       "5  United States of America    3.316038e+08          1.431224\n",
       "6                   Germany    4.958600e+08          2.140164\n",
       "7                    Taiwan    7.398247e+08          3.193131\n",
       "8            United Kingdom    5.199473e+09         22.441260\n",
       "9                   Denmark    1.622843e+10         70.042931"
      ]
     },
     "execution_count": 620,
     "metadata": {},
     "output_type": "execute_result"
    }
   ],
   "source": [
    "pd.DataFrame(compute_top_jurisdictions_revenue())"
   ]
  },
  {
   "cell_type": "code",
   "execution_count": 621,
   "metadata": {},
   "outputs": [
    {
     "data": {
      "image/png": "[encoded data removed]",
      "text/plain": [
       "<Figure size 640x480 with 1 Axes>"
      ]
     },
     "metadata": {},
     "output_type": "display_data"
    }
   ],
   "source": [
    "def plot_jurisdictions_top_revenue():\n",
    "\n",
    "    top = pd.DataFrame(compute_top_jurisdictions_revenue())\n",
    "\n",
    "    fig, ax = plt.subplots()\n",
    "    bar = ax.barh(y=top['jur_name'], width=top['total_revenues_%'])\n",
    "\n",
    "    ax.bar_label(bar, fmt='{:.1f} %', padding=1)\n",
    "\n",
    "    ax.tick_params(axis='x', rotation=0)\n",
    "    ax.set_xlabel('total_revenue_%')\n",
    "    ax.set_ylabel('jur_name')\n",
    "\n",
    "    fig.suptitle(f'Company top jurisdictions for revenue - {company}, {year}')\n",
    "\n",
    "    plt.tight_layout()\n",
    "    plt.show()\n",
    "\n",
    "plot_jurisdictions_top_revenue()"
   ]
  },
  {
   "cell_type": "markdown",
   "metadata": {},
   "source": [
    "## #15 - company’s % pre-tax profit and % employees by jurisdiction"
   ]
  },
  {
   "cell_type": "markdown",
   "metadata": {},
   "source": [
    "|viz|how to compute|how to manage negative values|where / variant needed|comment|\n",
    "|-|-|-|-|-|\n",
    "|horizontal bar chart with one bar for % pre tax profit, the other for % employees, in different colors rank by % pre-tax profit descending|for a company : filter (profit >0) profits by JUR / total profit vs employees by JUR / total employees|**giulia : keep only positive values**|`company explo` need a filter by company||"
   ]
  },
  {
   "cell_type": "code",
   "execution_count": 622,
   "metadata": {},
   "outputs": [],
   "source": [
    "def compute_pretax_profit_and_employees_rank(\n",
    "        df: pd.DataFrame=df, company: str=company, year: int=year) -> dict:\n",
    "    \n",
    "    df = df.loc[\n",
    "        (df['mnc'] == company) & (df['year'] == year) & (df['profit_before_tax'] > 0), \n",
    "        ['jur_name', 'profit_before_tax', 'employees']\n",
    "    ]\n",
    "\n",
    "    # df = df.fillna(0)\n",
    "    df = df.sort_values(by='profit_before_tax').reset_index(drop=True)\n",
    "\n",
    "    df['profit_before_tax_%'] = df['profit_before_tax'] / df['profit_before_tax'].sum() * 100\n",
    "    df['employees_%'] = df['employees'] / df['employees'].sum() * 100\n",
    "\n",
    "    data = df.to_dict()\n",
    "\n",
    "    return data"
   ]
  },
  {
   "cell_type": "code",
   "execution_count": 623,
   "metadata": {},
   "outputs": [
    {
     "data": {
      "text/html": [
       "<div>\n",
       "<style scoped>\n",
       "    .dataframe tbody tr th:only-of-type {\n",
       "        vertical-align: middle;\n",
       "    }\n",
       "\n",
       "    .dataframe tbody tr th {\n",
       "        vertical-align: top;\n",
       "    }\n",
       "\n",
       "    .dataframe thead th {\n",
       "        text-align: right;\n",
       "    }\n",
       "</style>\n",
       "<table border=\"1\" class=\"dataframe\">\n",
       "  <thead>\n",
       "    <tr style=\"text-align: right;\">\n",
       "      <th></th>\n",
       "      <th>jur_name</th>\n",
       "      <th>profit_before_tax</th>\n",
       "      <th>employees</th>\n",
       "      <th>profit_before_tax_%</th>\n",
       "      <th>employees_%</th>\n",
       "    </tr>\n",
       "  </thead>\n",
       "  <tbody>\n",
       "    <tr>\n",
       "      <th>0</th>\n",
       "      <td>Poland</td>\n",
       "      <td>9.409108e+05</td>\n",
       "      <td>519.0</td>\n",
       "      <td>0.032605</td>\n",
       "      <td>7.257726</td>\n",
       "    </tr>\n",
       "    <tr>\n",
       "      <th>1</th>\n",
       "      <td>Singapore</td>\n",
       "      <td>2.822732e+06</td>\n",
       "      <td>13.0</td>\n",
       "      <td>0.097815</td>\n",
       "      <td>0.181793</td>\n",
       "    </tr>\n",
       "    <tr>\n",
       "      <th>2</th>\n",
       "      <td>Malaysia</td>\n",
       "      <td>3.225980e+06</td>\n",
       "      <td>574.0</td>\n",
       "      <td>0.111789</td>\n",
       "      <td>8.026849</td>\n",
       "    </tr>\n",
       "    <tr>\n",
       "      <th>3</th>\n",
       "      <td>France</td>\n",
       "      <td>3.629227e+06</td>\n",
       "      <td>51.0</td>\n",
       "      <td>0.125763</td>\n",
       "      <td>0.713187</td>\n",
       "    </tr>\n",
       "    <tr>\n",
       "      <th>4</th>\n",
       "      <td>Ireland</td>\n",
       "      <td>4.099683e+07</td>\n",
       "      <td>102.0</td>\n",
       "      <td>1.420653</td>\n",
       "      <td>1.426374</td>\n",
       "    </tr>\n",
       "    <tr>\n",
       "      <th>5</th>\n",
       "      <td>Netherlands</td>\n",
       "      <td>1.350879e+08</td>\n",
       "      <td>88.0</td>\n",
       "      <td>4.681168</td>\n",
       "      <td>1.230597</td>\n",
       "    </tr>\n",
       "    <tr>\n",
       "      <th>6</th>\n",
       "      <td>Germany</td>\n",
       "      <td>2.418141e+08</td>\n",
       "      <td>331.0</td>\n",
       "      <td>8.379524</td>\n",
       "      <td>4.628723</td>\n",
       "    </tr>\n",
       "    <tr>\n",
       "      <th>7</th>\n",
       "      <td>Denmark</td>\n",
       "      <td>1.129765e+09</td>\n",
       "      <td>4219.0</td>\n",
       "      <td>39.149471</td>\n",
       "      <td>58.998741</td>\n",
       "    </tr>\n",
       "    <tr>\n",
       "      <th>8</th>\n",
       "      <td>United Kingdom</td>\n",
       "      <td>1.327491e+09</td>\n",
       "      <td>1254.0</td>\n",
       "      <td>46.001211</td>\n",
       "      <td>17.536009</td>\n",
       "    </tr>\n",
       "  </tbody>\n",
       "</table>\n",
       "</div>"
      ],
      "text/plain": [
       "         jur_name  profit_before_tax  employees  profit_before_tax_%  \\\n",
       "0          Poland       9.409108e+05      519.0             0.032605   \n",
       "1       Singapore       2.822732e+06       13.0             0.097815   \n",
       "2        Malaysia       3.225980e+06      574.0             0.111789   \n",
       "3          France       3.629227e+06       51.0             0.125763   \n",
       "4         Ireland       4.099683e+07      102.0             1.420653   \n",
       "5     Netherlands       1.350879e+08       88.0             4.681168   \n",
       "6         Germany       2.418141e+08      331.0             8.379524   \n",
       "7         Denmark       1.129765e+09     4219.0            39.149471   \n",
       "8  United Kingdom       1.327491e+09     1254.0            46.001211   \n",
       "\n",
       "   employees_%  \n",
       "0     7.257726  \n",
       "1     0.181793  \n",
       "2     8.026849  \n",
       "3     0.713187  \n",
       "4     1.426374  \n",
       "5     1.230597  \n",
       "6     4.628723  \n",
       "7    58.998741  \n",
       "8    17.536009  "
      ]
     },
     "execution_count": 623,
     "metadata": {},
     "output_type": "execute_result"
    }
   ],
   "source": [
    "pd.DataFrame(compute_pretax_profit_and_employees_rank())"
   ]
  },
  {
   "cell_type": "code",
   "execution_count": 624,
   "metadata": {},
   "outputs": [
    {
     "data": {
      "image/png": "[encoded data removed]",
      "text/plain": [
       "<Figure size 640x480 with 1 Axes>"
      ]
     },
     "metadata": {},
     "output_type": "display_data"
    }
   ],
   "source": [
    "def plot_pretax_profit_and_employees_rank():\n",
    "\n",
    "    rank = pd.DataFrame(compute_pretax_profit_and_employees_rank())\n",
    "\n",
    "    jurisdictions = rank['jur_name'].values\n",
    "    bar_width = 0.42\n",
    "    bar_offsets = [-bar_width, 0, bar_width]\n",
    "\n",
    "    fig_height = max(4.8, (0.48*len(jurisdictions)))\n",
    "    fig, ax = plt.subplots(figsize=(6.4, fig_height))\n",
    "\n",
    "    for i, (column, values) in enumerate(rank[['employees_%', 'profit_before_tax_%']].items()):\n",
    "        bar_positions = []\n",
    "        for j in range(len(jurisdictions)):\n",
    "            bar_positions.append(j + bar_offsets[i])\n",
    "        bars = ax.barh(bar_positions, values, height=bar_width, label=column)\n",
    "        ax.bar_label(bars, fmt='{:.2f} %', padding=1)\n",
    "\n",
    "    ax.set_xlabel('%')\n",
    "    ax.set_yticks(range(len(jurisdictions)))\n",
    "    ax.set_yticklabels(jurisdictions)\n",
    "    ax.set_ylabel('jur_name')\n",
    "    ax.set_xscale('symlog', linthresh=1)\n",
    "    ax.legend(loc='lower right')\n",
    "       \n",
    "    fig.suptitle(f'company % pre-tax profit and % employees - {company}, {year}')\n",
    "\n",
    "    plt.tight_layout()\n",
    "    plt.show()\n",
    "\n",
    "plot_pretax_profit_and_employees_rank()"
   ]
  },
  {
   "cell_type": "markdown",
   "metadata": {},
   "source": [
    "## #18 - breakdown of revenue between related party and unrelated party in TH vs domestic vs non TH"
   ]
  },
  {
   "cell_type": "markdown",
   "metadata": {},
   "source": [
    "|viz|how to compute|how to manage negative values|where / variant needed|comment|\n",
    "|-|-|-|-|-|\n",
    "|horizontal barchart % of revenue from related-party revenue, and % revenue from unrelated party, show value for domestic (hq country) vs tax havens vs. non havens|get total revenue in TH, in domestic country, in non TH then show the % coming from unrelated party revenue and related party revenue (sum of both should equal total revenue)||`company explo` need a filter by company|what if sum or unrelated party revenue  and related party revenue does not equal to total revenue ? safeguard ?|"
   ]
  },
  {
   "cell_type": "code",
   "execution_count": 625,
   "metadata": {},
   "outputs": [],
   "source": [
    "def compute_related_and_unrelated_revenues_breakdown(\n",
    "        df: pd.DataFrame, company: str, year: int) -> dict:\n",
    "    \"\"\"Compute related and unrelated revenues in tax heaven, non tax heaven and\n",
    "    domestic jusrisdictions.\n",
    "\n",
    "    Args:\n",
    "        df (pd.DataFrame): CbCRs database.\n",
    "        company (str): Company name\n",
    "        year (int): fiscal year to filter the results with.\n",
    "\n",
    "    Returns:\n",
    "        dict: revenues percentage for different type of jurisdictions.\n",
    "    \"\"\"\n",
    "    \n",
    "    # Create a filtered version of the dataset\n",
    "    df_temp = df.loc[(df['mnc'] == company) & (df['year'] == year)].copy()\n",
    "\n",
    "    # Create a boolean column to check if 'jur_code' is the domestic country\n",
    "    df_temp['domestic'] = df_temp.apply(\n",
    "        lambda row: row['jur_code'] == row['upe_code'], axis='columns')\n",
    "\n",
    "    # Calculate missing values in 'related_revenues' if 'unrelated_revenues' and 'total_revenues' are available\n",
    "    df_temp.loc[\n",
    "        df_temp['unrelated_revenues'].notna() \n",
    "        & df_temp['total_revenues'].notna() \n",
    "        & df_temp['related_revenues'].isna(), \n",
    "        'related_revenues'\n",
    "    ] = df_temp['total_revenues'] - df_temp['unrelated_revenues']\n",
    "\n",
    "    # Calculate missing values in 'unrelated_revenues' if 'related_revenues' and 'total_revenues' are available\n",
    "    df_temp.loc[\n",
    "        df_temp['related_revenues'].notna() \n",
    "        & df_temp['total_revenues'].notna() \n",
    "        & df_temp['unrelated_revenues'].isna(), \n",
    "        'unrelated_revenues'\n",
    "    ] = df_temp['total_revenues'] - df_temp['related_revenues']\n",
    "\n",
    "    # Remove columns where 'unrelated_revenues' or 'related_revenues' is missing\n",
    "    df_temp = df_temp.dropna(subset=['unrelated_revenues', 'related_revenues'])\n",
    "\n",
    "    # Compute kpis in a new DataFrame\n",
    "    data = pd.DataFrame()\n",
    "    data['tax_haven'] = df_temp.loc[\n",
    "        df_temp['jur_tax_haven'] == True, ['unrelated_revenues', 'related_revenues']].sum()\n",
    "    data['non_tax_haven'] = df_temp.loc[\n",
    "        df_temp['jur_tax_haven'] == False, ['unrelated_revenues', 'related_revenues']].sum()\n",
    "    data['domestic'] = df_temp.loc[\n",
    "        df_temp['domestic'] == True, ['unrelated_revenues', 'related_revenues']].sum()\n",
    "\n",
    "    # Replace values with share (%) of 'unrelated/related revenues'\n",
    "    data = data.div(data.sum(axis='rows'), axis='columns')\n",
    "\n",
    "    # Convert DataFrame to dictionnary\n",
    "    data = data.to_dict()\n",
    "\n",
    "    return data\n",
    "\n",
    "\n",
    "def display_related_and_unrelated_revenues_breakdown(\n",
    "        df: pd.DataFrame, company: str, year: int):\n",
    "    \"\"\"Display related and unrelated revenues in tax heaven, non tax heaven and\n",
    "    domestic jusrisdictions.\n",
    "\n",
    "    Args:\n",
    "        df (pd.DataFrame): CbCRs database.\n",
    "        company (str): Company name\n",
    "        year (int): fiscal year to filter the results with.\n",
    "    \"\"\"\n",
    "    \n",
    "    # Compute data\n",
    "    data = compute_related_and_unrelated_revenues_breakdown(df=df, company=company, year=year)\n",
    "\n",
    "    # Create DataFrame\n",
    "    df = pd.DataFrame.from_dict(data, orient='index')\n",
    "\n",
    "    # Rename columns and indexes\n",
    "    df.columns = df.columns.str.replace('_', ' ').str.capitalize()\n",
    "    df.index = df.index.str.replace('_', ' ').str.capitalize()\n",
    "    \n",
    "    # Create figure\n",
    "    fig = px.bar(df, x=['Unrelated revenues', 'Related revenues'], y=df.index,\n",
    "                  orientation='h', title='Breakdown of revenue', text_auto='.0%')\n",
    "\n",
    "    # Update layout settings\n",
    "    fig.update_layout(\n",
    "        xaxis=dict(\n",
    "            title=None,\n",
    "            tickformat='.0%'\n",
    "        ),\n",
    "        yaxis_title=None,\n",
    "        legend=dict(\n",
    "            title=dict(text=''),\n",
    "            orientation='h',\n",
    "            y=1.1\n",
    "        ),\n",
    "        plot_bgcolor='white',\n",
    "        width=800,\n",
    "        height=480\n",
    "    )\n",
    "\n",
    "    # Define position of text values\n",
    "    for col in ['Unrelated revenues', 'Related revenues']:\n",
    "        \n",
    "        values_positions = ['outside' if value <= 0.05 else 'inside' for value in df[col]]\n",
    "    \n",
    "        fig.update_traces(\n",
    "            textangle=0,\n",
    "            textposition=values_positions,\n",
    "            selector=dict(name=col)\n",
    "        )\n",
    "\n",
    "    # Add annotation if no values are availables (no bar displayed)\n",
    "    for i, index in enumerate(df.index):\n",
    "        if df.loc[index].isna().all():\n",
    "            fig.add_annotation(\n",
    "                    x=0.5,\n",
    "                    y=df.index[i],\n",
    "                    text='Information not provided by the company',\n",
    "                    showarrow=False,\n",
    "                    font=dict(color='black', size=13)\n",
    "                )\n",
    "    \n",
    "    # Define style of hover on bars\n",
    "    fig.update_traces(hovertemplate='%{y}: %{x}')\n",
    "\n",
    "    fig.show()"
   ]
  },
  {
   "cell_type": "code",
   "execution_count": 626,
   "metadata": {},
   "outputs": [
    {
     "data": {
      "application/vnd.plotly.v1+json": {
       "config": {
        "plotlyServerURL": "https://plot.ly"
       },
       "data": [
        {
         "alignmentgroup": "True",
         "hovertemplate": "%{y}: %{x}",
         "legendgroup": "Unrelated revenues",
         "marker": {
          "color": "#636efa",
          "pattern": {
           "shape": ""
          }
         },
         "name": "Unrelated revenues",
         "offsetgroup": "Unrelated revenues",
         "orientation": "h",
         "showlegend": true,
         "textangle": 0,
         "textposition": [
          "inside",
          "inside",
          "inside"
         ],
         "texttemplate": "%{x:.0%}",
         "type": "bar",
         "x": [
          0.29687499999999994,
          0.7619815908906249,
          0.9195497502754011
         ],
         "xaxis": "x",
         "y": [
          "Tax haven",
          "Non tax haven",
          "Domestic"
         ],
         "yaxis": "y"
        },
        {
         "alignmentgroup": "True",
         "hovertemplate": "%{y}: %{x}",
         "legendgroup": "Related revenues",
         "marker": {
          "color": "#EF553B",
          "pattern": {
           "shape": ""
          }
         },
         "name": "Related revenues",
         "offsetgroup": "Related revenues",
         "orientation": "h",
         "showlegend": true,
         "textangle": 0,
         "textposition": [
          "inside",
          "inside",
          "inside"
         ],
         "texttemplate": "%{x:.0%}",
         "type": "bar",
         "x": [
          0.7031249999999999,
          0.23801840910937522,
          0.0804502497245989
         ],
         "xaxis": "x",
         "y": [
          "Tax haven",
          "Non tax haven",
          "Domestic"
         ],
         "yaxis": "y"
        }
       ],
       "layout": {
        "barmode": "relative",
        "height": 480,
        "legend": {
         "orientation": "h",
         "title": {
          "text": ""
         },
         "tracegroupgap": 0,
         "y": 1.1
        },
        "plot_bgcolor": "white",
        "template": {
         "data": {
          "bar": [
           {
            "error_x": {
             "color": "#2a3f5f"
            },
            "error_y": {
             "color": "#2a3f5f"
            },
            "marker": {
             "line": {
              "color": "#E5ECF6",
              "width": 0.5
             },
             "pattern": {
              "fillmode": "overlay",
              "size": 10,
              "solidity": 0.2
             }
            },
            "type": "bar"
           }
          ],
          "barpolar": [
           {
            "marker": {
             "line": {
              "color": "#E5ECF6",
              "width": 0.5
             },
             "pattern": {
              "fillmode": "overlay",
              "size": 10,
              "solidity": 0.2
             }
            },
            "type": "barpolar"
           }
          ],
          "carpet": [
           {
            "aaxis": {
             "endlinecolor": "#2a3f5f",
             "gridcolor": "white",
             "linecolor": "white",
             "minorgridcolor": "white",
             "startlinecolor": "#2a3f5f"
            },
            "baxis": {
             "endlinecolor": "#2a3f5f",
             "gridcolor": "white",
             "linecolor": "white",
             "minorgridcolor": "white",
             "startlinecolor": "#2a3f5f"
            },
            "type": "carpet"
           }
          ],
          "choropleth": [
           {
            "colorbar": {
             "outlinewidth": 0,
             "ticks": ""
            },
            "type": "choropleth"
           }
          ],
          "contour": [
           {
            "colorbar": {
             "outlinewidth": 0,
             "ticks": ""
            },
            "colorscale": [
             [
              0,
              "#0d0887"
             ],
             [
              0.1111111111111111,
              "#46039f"
             ],
             [
              0.2222222222222222,
              "#7201a8"
             ],
             [
              0.3333333333333333,
              "#9c179e"
             ],
             [
              0.4444444444444444,
              "#bd3786"
             ],
             [
              0.5555555555555556,
              "#d8576b"
             ],
             [
              0.6666666666666666,
              "#ed7953"
             ],
             [
              0.7777777777777778,
              "#fb9f3a"
             ],
             [
              0.8888888888888888,
              "#fdca26"
             ],
             [
              1,
              "#f0f921"
             ]
            ],
            "type": "contour"
           }
          ],
          "contourcarpet": [
           {
            "colorbar": {
             "outlinewidth": 0,
             "ticks": ""
            },
            "type": "contourcarpet"
           }
          ],
          "heatmap": [
           {
            "colorbar": {
             "outlinewidth": 0,
             "ticks": ""
            },
            "colorscale": [
             [
              0,
              "#0d0887"
             ],
             [
              0.1111111111111111,
              "#46039f"
             ],
             [
              0.2222222222222222,
              "#7201a8"
             ],
             [
              0.3333333333333333,
              "#9c179e"
             ],
             [
              0.4444444444444444,
              "#bd3786"
             ],
             [
              0.5555555555555556,
              "#d8576b"
             ],
             [
              0.6666666666666666,
              "#ed7953"
             ],
             [
              0.7777777777777778,
              "#fb9f3a"
             ],
             [
              0.8888888888888888,
              "#fdca26"
             ],
             [
              1,
              "#f0f921"
             ]
            ],
            "type": "heatmap"
           }
          ],
          "heatmapgl": [
           {
            "colorbar": {
             "outlinewidth": 0,
             "ticks": ""
            },
            "colorscale": [
             [
              0,
              "#0d0887"
             ],
             [
              0.1111111111111111,
              "#46039f"
             ],
             [
              0.2222222222222222,
              "#7201a8"
             ],
             [
              0.3333333333333333,
              "#9c179e"
             ],
             [
              0.4444444444444444,
              "#bd3786"
             ],
             [
              0.5555555555555556,
              "#d8576b"
             ],
             [
              0.6666666666666666,
              "#ed7953"
             ],
             [
              0.7777777777777778,
              "#fb9f3a"
             ],
             [
              0.8888888888888888,
              "#fdca26"
             ],
             [
              1,
              "#f0f921"
             ]
            ],
            "type": "heatmapgl"
           }
          ],
          "histogram": [
           {
            "marker": {
             "pattern": {
              "fillmode": "overlay",
              "size": 10,
              "solidity": 0.2
             }
            },
            "type": "histogram"
           }
          ],
          "histogram2d": [
           {
            "colorbar": {
             "outlinewidth": 0,
             "ticks": ""
            },
            "colorscale": [
             [
              0,
              "#0d0887"
             ],
             [
              0.1111111111111111,
              "#46039f"
             ],
             [
              0.2222222222222222,
              "#7201a8"
             ],
             [
              0.3333333333333333,
              "#9c179e"
             ],
             [
              0.4444444444444444,
              "#bd3786"
             ],
             [
              0.5555555555555556,
              "#d8576b"
             ],
             [
              0.6666666666666666,
              "#ed7953"
             ],
             [
              0.7777777777777778,
              "#fb9f3a"
             ],
             [
              0.8888888888888888,
              "#fdca26"
             ],
             [
              1,
              "#f0f921"
             ]
            ],
            "type": "histogram2d"
           }
          ],
          "histogram2dcontour": [
           {
            "colorbar": {
             "outlinewidth": 0,
             "ticks": ""
            },
            "colorscale": [
             [
              0,
              "#0d0887"
             ],
             [
              0.1111111111111111,
              "#46039f"
             ],
             [
              0.2222222222222222,
              "#7201a8"
             ],
             [
              0.3333333333333333,
              "#9c179e"
             ],
             [
              0.4444444444444444,
              "#bd3786"
             ],
             [
              0.5555555555555556,
              "#d8576b"
             ],
             [
              0.6666666666666666,
              "#ed7953"
             ],
             [
              0.7777777777777778,
              "#fb9f3a"
             ],
             [
              0.8888888888888888,
              "#fdca26"
             ],
             [
              1,
              "#f0f921"
             ]
            ],
            "type": "histogram2dcontour"
           }
          ],
          "mesh3d": [
           {
            "colorbar": {
             "outlinewidth": 0,
             "ticks": ""
            },
            "type": "mesh3d"
           }
          ],
          "parcoords": [
           {
            "line": {
             "colorbar": {
              "outlinewidth": 0,
              "ticks": ""
             }
            },
            "type": "parcoords"
           }
          ],
          "pie": [
           {
            "automargin": true,
            "type": "pie"
           }
          ],
          "scatter": [
           {
            "fillpattern": {
             "fillmode": "overlay",
             "size": 10,
             "solidity": 0.2
            },
            "type": "scatter"
           }
          ],
          "scatter3d": [
           {
            "line": {
             "colorbar": {
              "outlinewidth": 0,
              "ticks": ""
             }
            },
            "marker": {
             "colorbar": {
              "outlinewidth": 0,
              "ticks": ""
             }
            },
            "type": "scatter3d"
           }
          ],
          "scattercarpet": [
           {
            "marker": {
             "colorbar": {
              "outlinewidth": 0,
              "ticks": ""
             }
            },
            "type": "scattercarpet"
           }
          ],
          "scattergeo": [
           {
            "marker": {
             "colorbar": {
              "outlinewidth": 0,
              "ticks": ""
             }
            },
            "type": "scattergeo"
           }
          ],
          "scattergl": [
           {
            "marker": {
             "colorbar": {
              "outlinewidth": 0,
              "ticks": ""
             }
            },
            "type": "scattergl"
           }
          ],
          "scattermapbox": [
           {
            "marker": {
             "colorbar": {
              "outlinewidth": 0,
              "ticks": ""
             }
            },
            "type": "scattermapbox"
           }
          ],
          "scatterpolar": [
           {
            "marker": {
             "colorbar": {
              "outlinewidth": 0,
              "ticks": ""
             }
            },
            "type": "scatterpolar"
           }
          ],
          "scatterpolargl": [
           {
            "marker": {
             "colorbar": {
              "outlinewidth": 0,
              "ticks": ""
             }
            },
            "type": "scatterpolargl"
           }
          ],
          "scatterternary": [
           {
            "marker": {
             "colorbar": {
              "outlinewidth": 0,
              "ticks": ""
             }
            },
            "type": "scatterternary"
           }
          ],
          "surface": [
           {
            "colorbar": {
             "outlinewidth": 0,
             "ticks": ""
            },
            "colorscale": [
             [
              0,
              "#0d0887"
             ],
             [
              0.1111111111111111,
              "#46039f"
             ],
             [
              0.2222222222222222,
              "#7201a8"
             ],
             [
              0.3333333333333333,
              "#9c179e"
             ],
             [
              0.4444444444444444,
              "#bd3786"
             ],
             [
              0.5555555555555556,
              "#d8576b"
             ],
             [
              0.6666666666666666,
              "#ed7953"
             ],
             [
              0.7777777777777778,
              "#fb9f3a"
             ],
             [
              0.8888888888888888,
              "#fdca26"
             ],
             [
              1,
              "#f0f921"
             ]
            ],
            "type": "surface"
           }
          ],
          "table": [
           {
            "cells": {
             "fill": {
              "color": "#EBF0F8"
             },
             "line": {
              "color": "white"
             }
            },
            "header": {
             "fill": {
              "color": "#C8D4E3"
             },
             "line": {
              "color": "white"
             }
            },
            "type": "table"
           }
          ]
         },
         "layout": {
          "annotationdefaults": {
           "arrowcolor": "#2a3f5f",
           "arrowhead": 0,
           "arrowwidth": 1
          },
          "autotypenumbers": "strict",
          "coloraxis": {
           "colorbar": {
            "outlinewidth": 0,
            "ticks": ""
           }
          },
          "colorscale": {
           "diverging": [
            [
             0,
             "#8e0152"
            ],
            [
             0.1,
             "#c51b7d"
            ],
            [
             0.2,
             "#de77ae"
            ],
            [
             0.3,
             "#f1b6da"
            ],
            [
             0.4,
             "#fde0ef"
            ],
            [
             0.5,
             "#f7f7f7"
            ],
            [
             0.6,
             "#e6f5d0"
            ],
            [
             0.7,
             "#b8e186"
            ],
            [
             0.8,
             "#7fbc41"
            ],
            [
             0.9,
             "#4d9221"
            ],
            [
             1,
             "#276419"
            ]
           ],
           "sequential": [
            [
             0,
             "#0d0887"
            ],
            [
             0.1111111111111111,
             "#46039f"
            ],
            [
             0.2222222222222222,
             "#7201a8"
            ],
            [
             0.3333333333333333,
             "#9c179e"
            ],
            [
             0.4444444444444444,
             "#bd3786"
            ],
            [
             0.5555555555555556,
             "#d8576b"
            ],
            [
             0.6666666666666666,
             "#ed7953"
            ],
            [
             0.7777777777777778,
             "#fb9f3a"
            ],
            [
             0.8888888888888888,
             "#fdca26"
            ],
            [
             1,
             "#f0f921"
            ]
           ],
           "sequentialminus": [
            [
             0,
             "#0d0887"
            ],
            [
             0.1111111111111111,
             "#46039f"
            ],
            [
             0.2222222222222222,
             "#7201a8"
            ],
            [
             0.3333333333333333,
             "#9c179e"
            ],
            [
             0.4444444444444444,
             "#bd3786"
            ],
            [
             0.5555555555555556,
             "#d8576b"
            ],
            [
             0.6666666666666666,
             "#ed7953"
            ],
            [
             0.7777777777777778,
             "#fb9f3a"
            ],
            [
             0.8888888888888888,
             "#fdca26"
            ],
            [
             1,
             "#f0f921"
            ]
           ]
          },
          "colorway": [
           "#636efa",
           "#EF553B",
           "#00cc96",
           "#ab63fa",
           "#FFA15A",
           "#19d3f3",
           "#FF6692",
           "#B6E880",
           "#FF97FF",
           "#FECB52"
          ],
          "font": {
           "color": "#2a3f5f"
          },
          "geo": {
           "bgcolor": "white",
           "lakecolor": "white",
           "landcolor": "#E5ECF6",
           "showlakes": true,
           "showland": true,
           "subunitcolor": "white"
          },
          "hoverlabel": {
           "align": "left"
          },
          "hovermode": "closest",
          "mapbox": {
           "style": "light"
          },
          "paper_bgcolor": "white",
          "plot_bgcolor": "#E5ECF6",
          "polar": {
           "angularaxis": {
            "gridcolor": "white",
            "linecolor": "white",
            "ticks": ""
           },
           "bgcolor": "#E5ECF6",
           "radialaxis": {
            "gridcolor": "white",
            "linecolor": "white",
            "ticks": ""
           }
          },
          "scene": {
           "xaxis": {
            "backgroundcolor": "#E5ECF6",
            "gridcolor": "white",
            "gridwidth": 2,
            "linecolor": "white",
            "showbackground": true,
            "ticks": "",
            "zerolinecolor": "white"
           },
           "yaxis": {
            "backgroundcolor": "#E5ECF6",
            "gridcolor": "white",
            "gridwidth": 2,
            "linecolor": "white",
            "showbackground": true,
            "ticks": "",
            "zerolinecolor": "white"
           },
           "zaxis": {
            "backgroundcolor": "#E5ECF6",
            "gridcolor": "white",
            "gridwidth": 2,
            "linecolor": "white",
            "showbackground": true,
            "ticks": "",
            "zerolinecolor": "white"
           }
          },
          "shapedefaults": {
           "line": {
            "color": "#2a3f5f"
           }
          },
          "ternary": {
           "aaxis": {
            "gridcolor": "white",
            "linecolor": "white",
            "ticks": ""
           },
           "baxis": {
            "gridcolor": "white",
            "linecolor": "white",
            "ticks": ""
           },
           "bgcolor": "#E5ECF6",
           "caxis": {
            "gridcolor": "white",
            "linecolor": "white",
            "ticks": ""
           }
          },
          "title": {
           "x": 0.05
          },
          "xaxis": {
           "automargin": true,
           "gridcolor": "white",
           "linecolor": "white",
           "ticks": "",
           "title": {
            "standoff": 15
           },
           "zerolinecolor": "white",
           "zerolinewidth": 2
          },
          "yaxis": {
           "automargin": true,
           "gridcolor": "white",
           "linecolor": "white",
           "ticks": "",
           "title": {
            "standoff": 15
           },
           "zerolinecolor": "white",
           "zerolinewidth": 2
          }
         }
        },
        "title": {
         "text": "Breakdown of revenue"
        },
        "width": 800,
        "xaxis": {
         "anchor": "y",
         "domain": [
          0,
          1
         ],
         "tickformat": ".0%",
         "title": {}
        },
        "yaxis": {
         "anchor": "x",
         "domain": [
          0,
          1
         ],
         "title": {}
        }
       }
      }
     },
     "metadata": {},
     "output_type": "display_data"
    }
   ],
   "source": [
    "display_related_and_unrelated_revenues_breakdown(df=df, company=company, year=year)"
   ]
  }
 ],
 "metadata": {
  "kernelspec": {
   "display_name": ".venv",
   "language": "python",
   "name": "python3"
  },
  "language_info": {
   "codemirror_mode": {
    "name": "ipython",
    "version": 3
   },
   "file_extension": ".py",
   "mimetype": "text/x-python",
   "name": "python",
   "nbconvert_exporter": "python",
   "pygments_lexer": "ipython3",
   "version": "3.12.0"
  }
 },
 "nbformat": 4,
 "nbformat_minor": 2
}
