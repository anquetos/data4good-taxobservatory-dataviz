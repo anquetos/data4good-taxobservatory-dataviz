{
 "cells": [
  {
   "cell_type": "code",
   "execution_count": 103,
   "metadata": {},
   "outputs": [],
   "source": [
    "import pandas as pd\n",
    "import numpy as np\n",
    "import matplotlib.pyplot as plt\n",
    "import humanize\n",
    "import plotly.express as px"
   ]
  },
  {
   "cell_type": "markdown",
   "metadata": {},
   "source": [
    "# Data For Good - Tax Observatory Dataviz"
   ]
  },
  {
   "cell_type": "markdown",
   "metadata": {},
   "source": [
    "Visualizations for the EU Tax Observatory based on the [EU Tax Obs - Dataviz - Viz](https://docs.google.com/document/d/1q_7x8NrEWNsak9LSE3TxIiSphhVcqWqn6YeG1kQNQTk/edit#heading=h.97g77izer615) Google Docs."
   ]
  },
  {
   "cell_type": "markdown",
   "metadata": {},
   "source": [
    "## Table of contents\n",
    "* [Initialization](#initialization)\n",
    "* [Utils](#utils)\n",
    "* [#12 - available reports by company](#12---available-reports-by-company)\n",
    "* [#13 - company key financials kpis](#13---company-key-financials-kpis)\n",
    "* [#14 - company top jurisdictions for revenue](#14---company-top-jurisdictions-for-revenue)\n",
    "* [#15 - company’s % pre-tax profit and % employees by jurisdiction](#15---companys--pre-tax-profit-and--employees-by-jurisdiction)\n",
    "* [#18 - breakdown of revenue between related party and unrelated party in TH vs domestic vs non TH](#18---breakdown-of-revenue-between-related-party-and-unrelated-party-in-th-vs-domestic-vs-non-th)"
   ]
  },
  {
   "cell_type": "markdown",
   "metadata": {},
   "source": [
    "## Initialization"
   ]
  },
  {
   "cell_type": "code",
   "execution_count": 104,
   "metadata": {},
   "outputs": [],
   "source": [
    "# Import dataset in a DataFrame\n",
    "df = pd.read_csv('data_final_dataviz.csv', sep=',')"
   ]
  },
  {
   "cell_type": "markdown",
   "metadata": {},
   "source": [
    "In the website it will be possible to select a specific company. To work on the viz creation, we simulate the selection by picking a random company but also a random year."
   ]
  },
  {
   "cell_type": "code",
   "execution_count": 105,
   "metadata": {},
   "outputs": [],
   "source": [
    "# Select a random company and a random year\n",
    "def pick_random_company_and_year() -> tuple:\n",
    "    company = np.random.choice(df['mnc'].unique())\n",
    "    print(f'Selected company : {company}.')\n",
    "\n",
    "    year = np.random.choice(df.loc[df['mnc'] == company, 'year'].unique())\n",
    "    print(f'Selected year : {year}.')\n",
    "\n",
    "    return company, year"
   ]
  },
  {
   "cell_type": "code",
   "execution_count": 106,
   "metadata": {},
   "outputs": [
    {
     "name": "stdout",
     "output_type": "stream",
     "text": [
      "Selected company : PRUDENTIAL.\n",
      "Selected year : 2019.\n"
     ]
    }
   ],
   "source": [
    "company, year = pick_random_company_and_year()\n",
    "# company, year = 'SHELL', 2020"
   ]
  },
  {
   "cell_type": "markdown",
   "metadata": {},
   "source": [
    "## Utils"
   ]
  },
  {
   "cell_type": "code",
   "execution_count": 107,
   "metadata": {},
   "outputs": [],
   "source": [
    "def compute_missing_values(df: pd.DataFrame=df):\n",
    "    df = df.loc[df['year'] == 2022, ['mnc', 'year', 'profit_before_tax', 'employees']]\n",
    "\n",
    "    df['both'] = np.where(\n",
    "        df['profit_before_tax'].isna() & df['employees'].isna(),\n",
    "        np.nan,\n",
    "        9999\n",
    "    )\n",
    "\n",
    "    mnc_list = df['mnc'].unique()\n",
    "\n",
    "    data = pd.DataFrame()\n",
    "\n",
    "    for mnc in mnc_list:\n",
    "        n_rows = len(df.loc[df['mnc'] == mnc])\n",
    "        data[mnc] = df.loc[\n",
    "            df['mnc'] == mnc, ['profit_before_tax', 'employees', 'both']\n",
    "        ].isna().sum() / n_rows\n",
    "\n",
    "    return data.T"
   ]
  },
  {
   "cell_type": "code",
   "execution_count": 108,
   "metadata": {},
   "outputs": [],
   "source": [
    "# df_na = compute_missing_values()\n",
    "# df_na.to_csv('na2022.csv')"
   ]
  },
  {
   "cell_type": "markdown",
   "metadata": {},
   "source": [
    "## #12 - available reports by company"
   ]
  },
  {
   "cell_type": "markdown",
   "metadata": {},
   "source": [
    "|viz|how to compute|how to manage negative values|where / variant needed|comment|\n",
    "|-|-|-|-|-|\n",
    "|tbd (goal is on company page, to show reports tracked, so could be just a table showing year available for a company)|-||`company explo` need a filter by company||"
   ]
  },
  {
   "cell_type": "code",
   "execution_count": 109,
   "metadata": {},
   "outputs": [],
   "source": [
    "def compute_company_available_reports(df: pd.DataFrame, company: str) -> dict:\n",
    "    \"\"\"Compute the number of reports tracked for a specific company and the \n",
    "    available fiscal years.\n",
    "\n",
    "    Args:\n",
    "        df (pd.DataFrame): CbCRs database.\n",
    "        company (str): company name.\n",
    "\n",
    "    Returns:\n",
    "        dict: numbers of reports and fiscal years.\n",
    "    \"\"\"\n",
    "    available_years = df.loc[df['mnc'] == company, 'year'].unique()\n",
    "    n_reports = len(available_years)\n",
    "\n",
    "    # Convert type of items from 'int' to 'str' in available years list\n",
    "    years_string_list = [str(year) for year in available_years]\n",
    "    \n",
    "    # Summarize all available years in one string\n",
    "    if len(years_string_list) == 1:\n",
    "        years_string = years_string_list[0]\n",
    "    elif len(years_string_list) > 1:\n",
    "        years_string = ', '.join(years_string_list[:-1])\n",
    "        years_string += ' and ' + years_string_list[-1]\n",
    "\n",
    "    # Create a dictionnary with the results\n",
    "    data = {\n",
    "        'Company': company,\n",
    "        'Reports': n_reports,\n",
    "        'Fiscal year(s) available': years_string\n",
    "    }\n",
    "\n",
    "    return data\n",
    "\n",
    "\n",
    "def display_company_available_reports(\n",
    "        df: pd.DataFrame, company: str, hide_company: bool=True) -> pd.DataFrame:\n",
    "    \"\"\"Display the number of reports tracked for a specific company and the \n",
    "    available fiscal years.\n",
    "\n",
    "    Args:\n",
    "        df (pd.DataFrame): CbCRs database.\n",
    "        company (str): company name.\n",
    "        hide_company (bool, optional): hide company name in final table. Defaults to True.\n",
    "\n",
    "    Returns:\n",
    "        pd.DataFrame: numbers of reports and fiscal years.\n",
    "    \"\"\"\n",
    "    \n",
    "    # Compute data\n",
    "    data = compute_company_available_reports(df=df, company=company)\n",
    "\n",
    "    # Create the table\n",
    "    df = pd.DataFrame.from_dict(data=data, orient='index')\n",
    "\n",
    "    if hide_company:\n",
    "        return df[1:].style.hide(axis='columns')\n",
    "\n",
    "    return df.style.hide(axis='columns')"
   ]
  },
  {
   "cell_type": "code",
   "execution_count": 110,
   "metadata": {},
   "outputs": [
    {
     "data": {
      "text/html": [
       "<style type=\"text/css\">\n",
       "</style>\n",
       "<table id=\"T_3d2a2\">\n",
       "  <thead>\n",
       "  </thead>\n",
       "  <tbody>\n",
       "    <tr>\n",
       "      <th id=\"T_3d2a2_level0_row0\" class=\"row_heading level0 row0\" >Reports</th>\n",
       "      <td id=\"T_3d2a2_row0_col0\" class=\"data row0 col0\" >4</td>\n",
       "    </tr>\n",
       "    <tr>\n",
       "      <th id=\"T_3d2a2_level0_row1\" class=\"row_heading level0 row1\" >Fiscal year(s) available</th>\n",
       "      <td id=\"T_3d2a2_row1_col0\" class=\"data row1 col0\" >2018, 2019, 2020 and 2021</td>\n",
       "    </tr>\n",
       "  </tbody>\n",
       "</table>\n"
      ],
      "text/plain": [
       "<pandas.io.formats.style.Styler at 0x196f11fcb00>"
      ]
     },
     "execution_count": 110,
     "metadata": {},
     "output_type": "execute_result"
    }
   ],
   "source": [
    "display_company_available_reports(df=df, company=company, hide_company=True)"
   ]
  },
  {
   "cell_type": "markdown",
   "metadata": {},
   "source": [
    "## #13 - company key financials kpis"
   ]
  },
  {
   "cell_type": "markdown",
   "metadata": {},
   "source": [
    "**kpis** : hq country, total revenue, total unrelated party revenues, total related party revenues, pre-tax profits, taxes paid, employees.\n",
    "\n",
    "|viz|how to compute|how to manage negative values|where / variant needed|comment|\n",
    "|-|-|-|-|-|\n",
    "|raw figure for each, or table with indicator name in col A, value in col B|hq country : -<br><br>metrics : sum (metric) by year by mnc|**giulia : keep all values, even negative values**|`company explo` need a filter by company||"
   ]
  },
  {
   "cell_type": "code",
   "execution_count": 111,
   "metadata": {},
   "outputs": [],
   "source": [
    "def compute_company_key_financials_kpis(\n",
    "        df: pd.DataFrame, company: str, year: int=None) -> dict:\n",
    "    \"\"\"Compute key financial KPIs for a company.\n",
    "\n",
    "    Args:\n",
    "        df (pd.DataFrame): CbCRs database.\n",
    "        company (str): Company name\n",
    "        year (int, optional): fiscal year to filter the results with. Defaults to None.\n",
    "\n",
    "    Returns:\n",
    "        dict: company key financial KPIs.\n",
    "    \"\"\"\n",
    "    \n",
    "    kpis_list = ['total_revenues', 'unrelated_revenues', 'related_revenues', \n",
    "                 'profit_before_tax', 'tax_paid', 'employees']\n",
    "    \n",
    "    years_list = df.loc[df['mnc'] == company, 'year'].unique()\n",
    "\n",
    "    # Compute sum of kpis\n",
    "    if not year or year not in years_list:\n",
    "        df = (df.loc[df['mnc'] == company]\n",
    "            .groupby(['year', 'upe_name'], as_index=False)[kpis_list]\n",
    "            .sum()\n",
    "        )\n",
    "    else:\n",
    "        df = (df.loc[(df['mnc'] == company) & (df['year'] == year)]\n",
    "              .groupby(['year', 'upe_name'], as_index=False)[kpis_list]\n",
    "              .sum())\n",
    "\n",
    "    df = df.set_index('year')\n",
    "\n",
    "    # Make financial numbers easily readable with 'humanize' package\n",
    "    for column in df.columns:\n",
    "        if column not in ['employees', 'upe_name']:\n",
    "            df[column] = df[column].apply(\n",
    "                lambda x: humanize.intword(x) if isinstance(x, (int, float)) else x)\n",
    "            df[column] = '€ ' + df[column]\n",
    "        elif column == 'employees':\n",
    "            df[column] = df[column].astype(int)\n",
    "\n",
    "    # Clean columns string\n",
    "    df = df.rename(columns={'upe_name': 'headquarter'})\n",
    "    df.columns = df.columns.str.replace('_', ' ').str.capitalize()\n",
    "\n",
    "    # Create a dictionnary with the results\n",
    "    data = df.to_dict(orient='index')\n",
    "\n",
    "    return data\n",
    "\n",
    "\n",
    "def display_company_key_financials_kpis(\n",
    "        df: pd.DataFrame, company: str, year: int=None) -> pd.DataFrame:\n",
    "    \"\"\"Display key financial KPIs for a company.\n",
    "\n",
    "    Args:\n",
    "        df (pd.DataFrame): CbCRs database.\n",
    "        company (str): Company name\n",
    "        year (int, optional): fiscal year to filter the results with. Defaults to None.\n",
    "\n",
    "    Returns:\n",
    "        pd.DataFrame: company key financial KPIs.\n",
    "    \"\"\"\n",
    "    \n",
    "    # Compute data\n",
    "    data = compute_company_key_financials_kpis(df=df, company=company, year=year)\n",
    "\n",
    "    # Create the table\n",
    "    df = pd.DataFrame.from_dict(data)\n",
    "\n",
    "    return df"
   ]
  },
  {
   "cell_type": "code",
   "execution_count": 112,
   "metadata": {},
   "outputs": [
    {
     "data": {
      "text/html": [
       "<div>\n",
       "<style scoped>\n",
       "    .dataframe tbody tr th:only-of-type {\n",
       "        vertical-align: middle;\n",
       "    }\n",
       "\n",
       "    .dataframe tbody tr th {\n",
       "        vertical-align: top;\n",
       "    }\n",
       "\n",
       "    .dataframe thead th {\n",
       "        text-align: right;\n",
       "    }\n",
       "</style>\n",
       "<table border=\"1\" class=\"dataframe\">\n",
       "  <thead>\n",
       "    <tr style=\"text-align: right;\">\n",
       "      <th></th>\n",
       "      <th>2018</th>\n",
       "      <th>2019</th>\n",
       "      <th>2020</th>\n",
       "      <th>2021</th>\n",
       "    </tr>\n",
       "  </thead>\n",
       "  <tbody>\n",
       "    <tr>\n",
       "      <th>Headquarter</th>\n",
       "      <td>United Kingdom</td>\n",
       "      <td>United Kingdom</td>\n",
       "      <td>United Kingdom</td>\n",
       "      <td>United Kingdom</td>\n",
       "    </tr>\n",
       "    <tr>\n",
       "      <th>Total revenues</th>\n",
       "      <td>€ 28.9 billion</td>\n",
       "      <td>€ 84.1 billion</td>\n",
       "      <td>€ 49.3 billion</td>\n",
       "      <td>€ 22.7 billion</td>\n",
       "    </tr>\n",
       "    <tr>\n",
       "      <th>Unrelated revenues</th>\n",
       "      <td>€ 0</td>\n",
       "      <td>€ 0</td>\n",
       "      <td>€ 0</td>\n",
       "      <td>€ 0</td>\n",
       "    </tr>\n",
       "    <tr>\n",
       "      <th>Related revenues</th>\n",
       "      <td>€ 0</td>\n",
       "      <td>€ 0</td>\n",
       "      <td>€ 0</td>\n",
       "      <td>€ 0</td>\n",
       "    </tr>\n",
       "    <tr>\n",
       "      <th>Profit before tax</th>\n",
       "      <td>€ 3.5 billion</td>\n",
       "      <td>€ 1.8 billion</td>\n",
       "      <td>€ 1.7 billion</td>\n",
       "      <td>€ 2.3 billion</td>\n",
       "    </tr>\n",
       "    <tr>\n",
       "      <th>Tax paid</th>\n",
       "      <td>€ 636.4 million</td>\n",
       "      <td>€ 591.3 million</td>\n",
       "      <td>€ 435.1 million</td>\n",
       "      <td>€ 308.6 million</td>\n",
       "    </tr>\n",
       "    <tr>\n",
       "      <th>Employees</th>\n",
       "      <td>28206</td>\n",
       "      <td>19004</td>\n",
       "      <td>17256</td>\n",
       "      <td>13837</td>\n",
       "    </tr>\n",
       "  </tbody>\n",
       "</table>\n",
       "</div>"
      ],
      "text/plain": [
       "                               2018             2019             2020  \\\n",
       "Headquarter          United Kingdom   United Kingdom   United Kingdom   \n",
       "Total revenues       € 28.9 billion   € 84.1 billion   € 49.3 billion   \n",
       "Unrelated revenues              € 0              € 0              € 0   \n",
       "Related revenues                € 0              € 0              € 0   \n",
       "Profit before tax     € 3.5 billion    € 1.8 billion    € 1.7 billion   \n",
       "Tax paid            € 636.4 million  € 591.3 million  € 435.1 million   \n",
       "Employees                     28206            19004            17256   \n",
       "\n",
       "                               2021  \n",
       "Headquarter          United Kingdom  \n",
       "Total revenues       € 22.7 billion  \n",
       "Unrelated revenues              € 0  \n",
       "Related revenues                € 0  \n",
       "Profit before tax     € 2.3 billion  \n",
       "Tax paid            € 308.6 million  \n",
       "Employees                     13837  "
      ]
     },
     "execution_count": 112,
     "metadata": {},
     "output_type": "execute_result"
    }
   ],
   "source": [
    "display_company_key_financials_kpis(df=df, company=company)"
   ]
  },
  {
   "cell_type": "markdown",
   "metadata": {},
   "source": [
    "## #14 - company top jurisdictions for revenue"
   ]
  },
  {
   "cell_type": "markdown",
   "metadata": {},
   "source": [
    "|viz|how to compute|how to manage negative values|where / variant needed|comment|\n",
    "|-|-|-|-|-|\n",
    "|horizontal bar chart showing % total revenue for top 9 jurisdictions + rest as “OTHERS”|sum(revenue) by company x hq country x year, display top 9 and group remaining countries||`company explo` need a filter by company||"
   ]
  },
  {
   "cell_type": "code",
   "execution_count": 113,
   "metadata": {},
   "outputs": [],
   "source": [
    "def compute_top_jurisdictions_revenue(\n",
    "    df: pd.DataFrame, company: str, year: int) -> dict:\n",
    "    \"\"\"Rank jurisdictions on their percentage of total revenues in a top 10.\n",
    "    When there are more than 10 jurisdictions, the tenth represent all \n",
    "    jurisdictions below 9.\n",
    "\n",
    "    Args:\n",
    "        df (pd.DataFrame): CbCRs database.\n",
    "        company (str): Company name\n",
    "        year (int): fiscal year.\n",
    "\n",
    "    Returns:\n",
    "        dict: Top 10 jurisdictions for percentage of total revenues.\n",
    "    \"\"\"\n",
    "    \n",
    "    df = df.loc[\n",
    "        (df['mnc'] == company) & (df['year'] == year), \n",
    "        ['jur_name', 'related_revenues', 'unrelated_revenues', 'total_revenues']\n",
    "    ]\n",
    "\n",
    "    # Calculate missing values in 'total_revenues' if 'related_revenues' and \n",
    "    # 'unrelated_revenues' are available\n",
    "    df.loc[\n",
    "        df['related_revenues'].notna() \n",
    "        & df['unrelated_revenues'].notna()\n",
    "        & df['total_revenues'].isna(),\n",
    "        'total_revenues'\n",
    "    ] = df['related_revenues'] + df['unrelated_revenues']\n",
    "\n",
    "    # Subset DataFrame\n",
    "    df = df[['jur_name', 'total_revenues']]\n",
    "\n",
    "    # Remove rows where 'total_revenues' is missing\n",
    "    df = df.dropna(subset=['total_revenues'])\n",
    "\n",
    "    # Group same 'jur_name' (sometimes several 'Other')\n",
    "    # e.g. SWISS LIFE, 2021\n",
    "    df = df.groupby('jur_name', as_index=False).sum()\n",
    "\n",
    "    # Filter the top 10 'jur_name' for 'total_revenues'\n",
    "    if len(df) > 10:\n",
    "        # Check if 'Other' already in 'jur_name' and add the revenues\n",
    "        # of the 'jur_name' below top 10 to its value\n",
    "        if 'Other' in df['jur_name'].values:\n",
    "            top = df.nlargest(10, 'total_revenues')\n",
    "            below_top_revenues = df.loc[\n",
    "                ~df['jur_name'].isin(top['jur_name']), 'total_revenues'].sum()\n",
    "            top.loc[top['jur_name'] == 'Other', 'total_revenues'] += below_top_revenues\n",
    "            top = top.reset_index(drop=True)\n",
    "        else:\n",
    "            # Keep top 9 and group all revenues of the rest in 'Others'\n",
    "            top = df.nlargest(9, 'total_revenues')\n",
    "            below_top_revenues = df.loc[\n",
    "                ~df['jur_name'].isin(top['jur_name']), 'total_revenues'].sum()\n",
    "            top = top.reset_index(drop=True)\n",
    "            top.loc[9] = ['Others', below_top_revenues]\n",
    "    else:\n",
    "        top = df\n",
    "    \n",
    "    # Rename 'Other' to 'Others'\n",
    "    top.loc[top['jur_name'] == 'Other', 'jur_name'] = 'Others'\n",
    "\n",
    "    # Compute percentage of revenue\n",
    "    top['total_revenues_%'] = top['total_revenues'] / top['total_revenues'].sum()\n",
    "  \n",
    "    # Convert DataFrame to dictionnary\n",
    "    data = top.to_dict()\n",
    "    \n",
    "    return data\n",
    "\n",
    "\n",
    "def display_jurisdictions_top_revenue(df: pd.DataFrame, company: str, year: int):\n",
    "    \"\"\"Display top 10 jurisdictions for percentage of total revenues in an\n",
    "    horizontal bar chart.\n",
    "\n",
    "    Args:\n",
    "        df (pd.DataFrame): CbCRs database.\n",
    "        company (str): Company name\n",
    "        year (int): fiscal year.\n",
    "    \"\"\"\n",
    "    \n",
    "    # Compute data\n",
    "    data = compute_top_jurisdictions_revenue(df=df, company=company, year=year)\n",
    "\n",
    "    # Create DataFrame\n",
    "    df = pd.DataFrame.from_dict(data)\n",
    "    df = df.sort_values(by='total_revenues_%')\n",
    "    \n",
    "    # Create figure\n",
    "    fig = px.bar(df, x='total_revenues_%', y='jur_name',\n",
    "                  orientation='h', title='Top jurisdictions for revenue', text_auto='.1%')\n",
    "\n",
    "    # Update layout settings\n",
    "    fig.update_layout(\n",
    "        xaxis=dict(\n",
    "            title='Percentage of total revenue',\n",
    "            tickformat='.0%'\n",
    "        ),\n",
    "        yaxis_title=None,\n",
    "        plot_bgcolor='white',\n",
    "        width=800,\n",
    "        height=480\n",
    "    )\n",
    "\n",
    "    # Define position of text values\n",
    "    values_positions = [\n",
    "        'outside' if value <= 0.05 else 'inside' for value in df['total_revenues_%']]\n",
    "\n",
    "    fig.update_traces(\n",
    "        textangle=0,\n",
    "        textposition=values_positions,\n",
    "        selector=dict(name='')\n",
    "    )\n",
    "\n",
    "    # Define style of hover on bars\n",
    "    fig.update_traces(hovertemplate='%{y}: %{x: .3%}')\n",
    "\n",
    "    fig.show()"
   ]
  },
  {
   "cell_type": "code",
   "execution_count": 124,
   "metadata": {},
   "outputs": [
    {
     "data": {
      "application/vnd.plotly.v1+json": {
       "config": {
        "plotlyServerURL": "https://plot.ly"
       },
       "data": [
        {
         "alignmentgroup": "True",
         "hovertemplate": "%{y}: %{x: .3%}",
         "legendgroup": "",
         "marker": {
          "color": "#636efa",
          "pattern": {
           "shape": ""
          }
         },
         "name": "",
         "offsetgroup": "",
         "orientation": "h",
         "showlegend": false,
         "textangle": 0,
         "textposition": [
          "outside",
          "outside",
          "outside",
          "outside",
          "outside",
          "outside",
          "outside",
          "inside",
          "inside",
          "inside"
         ],
         "texttemplate": "%{x:.1%}",
         "type": "bar",
         "x": [
          0.003791620200732834,
          0.008262970633529819,
          0.015123997663427329,
          0.01812967978333599,
          0.021273432106632684,
          0.024427805214805375,
          0.025033189952737504,
          0.08783389092453933,
          0.20638309171047742,
          0.5897403218097818
         ],
         "xaxis": "x",
         "y": [
          "Others",
          "Philippines",
          "Thailand",
          "Viet Nam",
          "Taiwan",
          "Indonesia",
          "Malaysia",
          "Singapore",
          "Hong Kong",
          "United States of America"
         ],
         "yaxis": "y"
        }
       ],
       "layout": {
        "barmode": "relative",
        "height": 480,
        "legend": {
         "tracegroupgap": 0
        },
        "plot_bgcolor": "white",
        "template": {
         "data": {
          "bar": [
           {
            "error_x": {
             "color": "#2a3f5f"
            },
            "error_y": {
             "color": "#2a3f5f"
            },
            "marker": {
             "line": {
              "color": "#E5ECF6",
              "width": 0.5
             },
             "pattern": {
              "fillmode": "overlay",
              "size": 10,
              "solidity": 0.2
             }
            },
            "type": "bar"
           }
          ],
          "barpolar": [
           {
            "marker": {
             "line": {
              "color": "#E5ECF6",
              "width": 0.5
             },
             "pattern": {
              "fillmode": "overlay",
              "size": 10,
              "solidity": 0.2
             }
            },
            "type": "barpolar"
           }
          ],
          "carpet": [
           {
            "aaxis": {
             "endlinecolor": "#2a3f5f",
             "gridcolor": "white",
             "linecolor": "white",
             "minorgridcolor": "white",
             "startlinecolor": "#2a3f5f"
            },
            "baxis": {
             "endlinecolor": "#2a3f5f",
             "gridcolor": "white",
             "linecolor": "white",
             "minorgridcolor": "white",
             "startlinecolor": "#2a3f5f"
            },
            "type": "carpet"
           }
          ],
          "choropleth": [
           {
            "colorbar": {
             "outlinewidth": 0,
             "ticks": ""
            },
            "type": "choropleth"
           }
          ],
          "contour": [
           {
            "colorbar": {
             "outlinewidth": 0,
             "ticks": ""
            },
            "colorscale": [
             [
              0,
              "#0d0887"
             ],
             [
              0.1111111111111111,
              "#46039f"
             ],
             [
              0.2222222222222222,
              "#7201a8"
             ],
             [
              0.3333333333333333,
              "#9c179e"
             ],
             [
              0.4444444444444444,
              "#bd3786"
             ],
             [
              0.5555555555555556,
              "#d8576b"
             ],
             [
              0.6666666666666666,
              "#ed7953"
             ],
             [
              0.7777777777777778,
              "#fb9f3a"
             ],
             [
              0.8888888888888888,
              "#fdca26"
             ],
             [
              1,
              "#f0f921"
             ]
            ],
            "type": "contour"
           }
          ],
          "contourcarpet": [
           {
            "colorbar": {
             "outlinewidth": 0,
             "ticks": ""
            },
            "type": "contourcarpet"
           }
          ],
          "heatmap": [
           {
            "colorbar": {
             "outlinewidth": 0,
             "ticks": ""
            },
            "colorscale": [
             [
              0,
              "#0d0887"
             ],
             [
              0.1111111111111111,
              "#46039f"
             ],
             [
              0.2222222222222222,
              "#7201a8"
             ],
             [
              0.3333333333333333,
              "#9c179e"
             ],
             [
              0.4444444444444444,
              "#bd3786"
             ],
             [
              0.5555555555555556,
              "#d8576b"
             ],
             [
              0.6666666666666666,
              "#ed7953"
             ],
             [
              0.7777777777777778,
              "#fb9f3a"
             ],
             [
              0.8888888888888888,
              "#fdca26"
             ],
             [
              1,
              "#f0f921"
             ]
            ],
            "type": "heatmap"
           }
          ],
          "heatmapgl": [
           {
            "colorbar": {
             "outlinewidth": 0,
             "ticks": ""
            },
            "colorscale": [
             [
              0,
              "#0d0887"
             ],
             [
              0.1111111111111111,
              "#46039f"
             ],
             [
              0.2222222222222222,
              "#7201a8"
             ],
             [
              0.3333333333333333,
              "#9c179e"
             ],
             [
              0.4444444444444444,
              "#bd3786"
             ],
             [
              0.5555555555555556,
              "#d8576b"
             ],
             [
              0.6666666666666666,
              "#ed7953"
             ],
             [
              0.7777777777777778,
              "#fb9f3a"
             ],
             [
              0.8888888888888888,
              "#fdca26"
             ],
             [
              1,
              "#f0f921"
             ]
            ],
            "type": "heatmapgl"
           }
          ],
          "histogram": [
           {
            "marker": {
             "pattern": {
              "fillmode": "overlay",
              "size": 10,
              "solidity": 0.2
             }
            },
            "type": "histogram"
           }
          ],
          "histogram2d": [
           {
            "colorbar": {
             "outlinewidth": 0,
             "ticks": ""
            },
            "colorscale": [
             [
              0,
              "#0d0887"
             ],
             [
              0.1111111111111111,
              "#46039f"
             ],
             [
              0.2222222222222222,
              "#7201a8"
             ],
             [
              0.3333333333333333,
              "#9c179e"
             ],
             [
              0.4444444444444444,
              "#bd3786"
             ],
             [
              0.5555555555555556,
              "#d8576b"
             ],
             [
              0.6666666666666666,
              "#ed7953"
             ],
             [
              0.7777777777777778,
              "#fb9f3a"
             ],
             [
              0.8888888888888888,
              "#fdca26"
             ],
             [
              1,
              "#f0f921"
             ]
            ],
            "type": "histogram2d"
           }
          ],
          "histogram2dcontour": [
           {
            "colorbar": {
             "outlinewidth": 0,
             "ticks": ""
            },
            "colorscale": [
             [
              0,
              "#0d0887"
             ],
             [
              0.1111111111111111,
              "#46039f"
             ],
             [
              0.2222222222222222,
              "#7201a8"
             ],
             [
              0.3333333333333333,
              "#9c179e"
             ],
             [
              0.4444444444444444,
              "#bd3786"
             ],
             [
              0.5555555555555556,
              "#d8576b"
             ],
             [
              0.6666666666666666,
              "#ed7953"
             ],
             [
              0.7777777777777778,
              "#fb9f3a"
             ],
             [
              0.8888888888888888,
              "#fdca26"
             ],
             [
              1,
              "#f0f921"
             ]
            ],
            "type": "histogram2dcontour"
           }
          ],
          "mesh3d": [
           {
            "colorbar": {
             "outlinewidth": 0,
             "ticks": ""
            },
            "type": "mesh3d"
           }
          ],
          "parcoords": [
           {
            "line": {
             "colorbar": {
              "outlinewidth": 0,
              "ticks": ""
             }
            },
            "type": "parcoords"
           }
          ],
          "pie": [
           {
            "automargin": true,
            "type": "pie"
           }
          ],
          "scatter": [
           {
            "fillpattern": {
             "fillmode": "overlay",
             "size": 10,
             "solidity": 0.2
            },
            "type": "scatter"
           }
          ],
          "scatter3d": [
           {
            "line": {
             "colorbar": {
              "outlinewidth": 0,
              "ticks": ""
             }
            },
            "marker": {
             "colorbar": {
              "outlinewidth": 0,
              "ticks": ""
             }
            },
            "type": "scatter3d"
           }
          ],
          "scattercarpet": [
           {
            "marker": {
             "colorbar": {
              "outlinewidth": 0,
              "ticks": ""
             }
            },
            "type": "scattercarpet"
           }
          ],
          "scattergeo": [
           {
            "marker": {
             "colorbar": {
              "outlinewidth": 0,
              "ticks": ""
             }
            },
            "type": "scattergeo"
           }
          ],
          "scattergl": [
           {
            "marker": {
             "colorbar": {
              "outlinewidth": 0,
              "ticks": ""
             }
            },
            "type": "scattergl"
           }
          ],
          "scattermapbox": [
           {
            "marker": {
             "colorbar": {
              "outlinewidth": 0,
              "ticks": ""
             }
            },
            "type": "scattermapbox"
           }
          ],
          "scatterpolar": [
           {
            "marker": {
             "colorbar": {
              "outlinewidth": 0,
              "ticks": ""
             }
            },
            "type": "scatterpolar"
           }
          ],
          "scatterpolargl": [
           {
            "marker": {
             "colorbar": {
              "outlinewidth": 0,
              "ticks": ""
             }
            },
            "type": "scatterpolargl"
           }
          ],
          "scatterternary": [
           {
            "marker": {
             "colorbar": {
              "outlinewidth": 0,
              "ticks": ""
             }
            },
            "type": "scatterternary"
           }
          ],
          "surface": [
           {
            "colorbar": {
             "outlinewidth": 0,
             "ticks": ""
            },
            "colorscale": [
             [
              0,
              "#0d0887"
             ],
             [
              0.1111111111111111,
              "#46039f"
             ],
             [
              0.2222222222222222,
              "#7201a8"
             ],
             [
              0.3333333333333333,
              "#9c179e"
             ],
             [
              0.4444444444444444,
              "#bd3786"
             ],
             [
              0.5555555555555556,
              "#d8576b"
             ],
             [
              0.6666666666666666,
              "#ed7953"
             ],
             [
              0.7777777777777778,
              "#fb9f3a"
             ],
             [
              0.8888888888888888,
              "#fdca26"
             ],
             [
              1,
              "#f0f921"
             ]
            ],
            "type": "surface"
           }
          ],
          "table": [
           {
            "cells": {
             "fill": {
              "color": "#EBF0F8"
             },
             "line": {
              "color": "white"
             }
            },
            "header": {
             "fill": {
              "color": "#C8D4E3"
             },
             "line": {
              "color": "white"
             }
            },
            "type": "table"
           }
          ]
         },
         "layout": {
          "annotationdefaults": {
           "arrowcolor": "#2a3f5f",
           "arrowhead": 0,
           "arrowwidth": 1
          },
          "autotypenumbers": "strict",
          "coloraxis": {
           "colorbar": {
            "outlinewidth": 0,
            "ticks": ""
           }
          },
          "colorscale": {
           "diverging": [
            [
             0,
             "#8e0152"
            ],
            [
             0.1,
             "#c51b7d"
            ],
            [
             0.2,
             "#de77ae"
            ],
            [
             0.3,
             "#f1b6da"
            ],
            [
             0.4,
             "#fde0ef"
            ],
            [
             0.5,
             "#f7f7f7"
            ],
            [
             0.6,
             "#e6f5d0"
            ],
            [
             0.7,
             "#b8e186"
            ],
            [
             0.8,
             "#7fbc41"
            ],
            [
             0.9,
             "#4d9221"
            ],
            [
             1,
             "#276419"
            ]
           ],
           "sequential": [
            [
             0,
             "#0d0887"
            ],
            [
             0.1111111111111111,
             "#46039f"
            ],
            [
             0.2222222222222222,
             "#7201a8"
            ],
            [
             0.3333333333333333,
             "#9c179e"
            ],
            [
             0.4444444444444444,
             "#bd3786"
            ],
            [
             0.5555555555555556,
             "#d8576b"
            ],
            [
             0.6666666666666666,
             "#ed7953"
            ],
            [
             0.7777777777777778,
             "#fb9f3a"
            ],
            [
             0.8888888888888888,
             "#fdca26"
            ],
            [
             1,
             "#f0f921"
            ]
           ],
           "sequentialminus": [
            [
             0,
             "#0d0887"
            ],
            [
             0.1111111111111111,
             "#46039f"
            ],
            [
             0.2222222222222222,
             "#7201a8"
            ],
            [
             0.3333333333333333,
             "#9c179e"
            ],
            [
             0.4444444444444444,
             "#bd3786"
            ],
            [
             0.5555555555555556,
             "#d8576b"
            ],
            [
             0.6666666666666666,
             "#ed7953"
            ],
            [
             0.7777777777777778,
             "#fb9f3a"
            ],
            [
             0.8888888888888888,
             "#fdca26"
            ],
            [
             1,
             "#f0f921"
            ]
           ]
          },
          "colorway": [
           "#636efa",
           "#EF553B",
           "#00cc96",
           "#ab63fa",
           "#FFA15A",
           "#19d3f3",
           "#FF6692",
           "#B6E880",
           "#FF97FF",
           "#FECB52"
          ],
          "font": {
           "color": "#2a3f5f"
          },
          "geo": {
           "bgcolor": "white",
           "lakecolor": "white",
           "landcolor": "#E5ECF6",
           "showlakes": true,
           "showland": true,
           "subunitcolor": "white"
          },
          "hoverlabel": {
           "align": "left"
          },
          "hovermode": "closest",
          "mapbox": {
           "style": "light"
          },
          "paper_bgcolor": "white",
          "plot_bgcolor": "#E5ECF6",
          "polar": {
           "angularaxis": {
            "gridcolor": "white",
            "linecolor": "white",
            "ticks": ""
           },
           "bgcolor": "#E5ECF6",
           "radialaxis": {
            "gridcolor": "white",
            "linecolor": "white",
            "ticks": ""
           }
          },
          "scene": {
           "xaxis": {
            "backgroundcolor": "#E5ECF6",
            "gridcolor": "white",
            "gridwidth": 2,
            "linecolor": "white",
            "showbackground": true,
            "ticks": "",
            "zerolinecolor": "white"
           },
           "yaxis": {
            "backgroundcolor": "#E5ECF6",
            "gridcolor": "white",
            "gridwidth": 2,
            "linecolor": "white",
            "showbackground": true,
            "ticks": "",
            "zerolinecolor": "white"
           },
           "zaxis": {
            "backgroundcolor": "#E5ECF6",
            "gridcolor": "white",
            "gridwidth": 2,
            "linecolor": "white",
            "showbackground": true,
            "ticks": "",
            "zerolinecolor": "white"
           }
          },
          "shapedefaults": {
           "line": {
            "color": "#2a3f5f"
           }
          },
          "ternary": {
           "aaxis": {
            "gridcolor": "white",
            "linecolor": "white",
            "ticks": ""
           },
           "baxis": {
            "gridcolor": "white",
            "linecolor": "white",
            "ticks": ""
           },
           "bgcolor": "#E5ECF6",
           "caxis": {
            "gridcolor": "white",
            "linecolor": "white",
            "ticks": ""
           }
          },
          "title": {
           "x": 0.05
          },
          "xaxis": {
           "automargin": true,
           "gridcolor": "white",
           "linecolor": "white",
           "ticks": "",
           "title": {
            "standoff": 15
           },
           "zerolinecolor": "white",
           "zerolinewidth": 2
          },
          "yaxis": {
           "automargin": true,
           "gridcolor": "white",
           "linecolor": "white",
           "ticks": "",
           "title": {
            "standoff": 15
           },
           "zerolinecolor": "white",
           "zerolinewidth": 2
          }
         }
        },
        "title": {
         "text": "Top jurisdictions for revenue"
        },
        "width": 800,
        "xaxis": {
         "anchor": "y",
         "domain": [
          0,
          1
         ],
         "tickformat": ".0%",
         "title": {
          "text": "Percentage of total revenue"
         }
        },
        "yaxis": {
         "anchor": "x",
         "domain": [
          0,
          1
         ],
         "title": {}
        }
       }
      }
     },
     "metadata": {},
     "output_type": "display_data"
    }
   ],
   "source": [
    "display_jurisdictions_top_revenue(df=df, company=company, year=year)"
   ]
  },
  {
   "cell_type": "markdown",
   "metadata": {},
   "source": [
    "## #15 - company’s % pre-tax profit and % employees by jurisdiction"
   ]
  },
  {
   "cell_type": "markdown",
   "metadata": {},
   "source": [
    "|viz|how to compute|how to manage negative values|where / variant needed|comment|\n",
    "|-|-|-|-|-|\n",
    "|horizontal bar chart with one bar for % pre tax profit, the other for % employees, in different colors rank by % pre-tax profit descending|for a company : filter (profit >0) profits by JUR / total profit vs employees by JUR / total employees|**giulia : keep only positive values**|`company explo` need a filter by company||"
   ]
  },
  {
   "cell_type": "code",
   "execution_count": 116,
   "metadata": {},
   "outputs": [],
   "source": [
    "def compute_pretax_profit_and_employees_rank(\n",
    "        df: pd.DataFrame=df, company: str=company, year: int=year) -> dict:\n",
    "    \n",
    "    df = df.loc[\n",
    "        (df['mnc'] == company) & (df['year'] == year) & (df['profit_before_tax'] > 0), \n",
    "        ['jur_name', 'profit_before_tax', 'employees']\n",
    "    ]\n",
    "\n",
    "    # df = df.fillna(0)\n",
    "    df = df.sort_values(by='profit_before_tax').reset_index(drop=True)\n",
    "\n",
    "    df['profit_before_tax_%'] = df['profit_before_tax'] / df['profit_before_tax'].sum() * 100\n",
    "    df['employees_%'] = df['employees'] / df['employees'].sum() * 100\n",
    "\n",
    "    data = df.to_dict()\n",
    "\n",
    "    return data"
   ]
  },
  {
   "cell_type": "code",
   "execution_count": 117,
   "metadata": {},
   "outputs": [
    {
     "name": "stdout",
     "output_type": "stream",
     "text": [
      "PRUDENTIAL 2019\n"
     ]
    }
   ],
   "source": [
    "print(company, year)"
   ]
  },
  {
   "cell_type": "code",
   "execution_count": 118,
   "metadata": {},
   "outputs": [
    {
     "data": {
      "text/html": [
       "<div>\n",
       "<style scoped>\n",
       "    .dataframe tbody tr th:only-of-type {\n",
       "        vertical-align: middle;\n",
       "    }\n",
       "\n",
       "    .dataframe tbody tr th {\n",
       "        vertical-align: top;\n",
       "    }\n",
       "\n",
       "    .dataframe thead th {\n",
       "        text-align: right;\n",
       "    }\n",
       "</style>\n",
       "<table border=\"1\" class=\"dataframe\">\n",
       "  <thead>\n",
       "    <tr style=\"text-align: right;\">\n",
       "      <th></th>\n",
       "      <th>mnc</th>\n",
       "      <th>year</th>\n",
       "      <th>jur_name</th>\n",
       "      <th>employees</th>\n",
       "    </tr>\n",
       "  </thead>\n",
       "  <tbody>\n",
       "    <tr>\n",
       "      <th>6051</th>\n",
       "      <td>PRUDENTIAL</td>\n",
       "      <td>2019</td>\n",
       "      <td>United States of America</td>\n",
       "      <td>4018.0</td>\n",
       "    </tr>\n",
       "    <tr>\n",
       "      <th>6052</th>\n",
       "      <td>PRUDENTIAL</td>\n",
       "      <td>2019</td>\n",
       "      <td>Indonesia</td>\n",
       "      <td>1959.0</td>\n",
       "    </tr>\n",
       "    <tr>\n",
       "      <th>6053</th>\n",
       "      <td>PRUDENTIAL</td>\n",
       "      <td>2019</td>\n",
       "      <td>United Kingdom</td>\n",
       "      <td>408.0</td>\n",
       "    </tr>\n",
       "    <tr>\n",
       "      <th>6054</th>\n",
       "      <td>PRUDENTIAL</td>\n",
       "      <td>2019</td>\n",
       "      <td>Singapore</td>\n",
       "      <td>1722.0</td>\n",
       "    </tr>\n",
       "    <tr>\n",
       "      <th>6055</th>\n",
       "      <td>PRUDENTIAL</td>\n",
       "      <td>2019</td>\n",
       "      <td>Malaysia</td>\n",
       "      <td>2091.0</td>\n",
       "    </tr>\n",
       "    <tr>\n",
       "      <th>6056</th>\n",
       "      <td>PRUDENTIAL</td>\n",
       "      <td>2019</td>\n",
       "      <td>Hong Kong</td>\n",
       "      <td>1839.0</td>\n",
       "    </tr>\n",
       "    <tr>\n",
       "      <th>6057</th>\n",
       "      <td>PRUDENTIAL</td>\n",
       "      <td>2019</td>\n",
       "      <td>Philippines</td>\n",
       "      <td>758.0</td>\n",
       "    </tr>\n",
       "    <tr>\n",
       "      <th>6058</th>\n",
       "      <td>PRUDENTIAL</td>\n",
       "      <td>2019</td>\n",
       "      <td>Viet Nam</td>\n",
       "      <td>3861.0</td>\n",
       "    </tr>\n",
       "    <tr>\n",
       "      <th>6059</th>\n",
       "      <td>PRUDENTIAL</td>\n",
       "      <td>2019</td>\n",
       "      <td>Thailand</td>\n",
       "      <td>901.0</td>\n",
       "    </tr>\n",
       "    <tr>\n",
       "      <th>6060</th>\n",
       "      <td>PRUDENTIAL</td>\n",
       "      <td>2019</td>\n",
       "      <td>Taiwan</td>\n",
       "      <td>795.0</td>\n",
       "    </tr>\n",
       "    <tr>\n",
       "      <th>6061</th>\n",
       "      <td>PRUDENTIAL</td>\n",
       "      <td>2019</td>\n",
       "      <td>Japan</td>\n",
       "      <td>45.0</td>\n",
       "    </tr>\n",
       "    <tr>\n",
       "      <th>6062</th>\n",
       "      <td>PRUDENTIAL</td>\n",
       "      <td>2019</td>\n",
       "      <td>Other</td>\n",
       "      <td>607.0</td>\n",
       "    </tr>\n",
       "  </tbody>\n",
       "</table>\n",
       "</div>"
      ],
      "text/plain": [
       "             mnc  year                  jur_name  employees\n",
       "6051  PRUDENTIAL  2019  United States of America     4018.0\n",
       "6052  PRUDENTIAL  2019                 Indonesia     1959.0\n",
       "6053  PRUDENTIAL  2019            United Kingdom      408.0\n",
       "6054  PRUDENTIAL  2019                 Singapore     1722.0\n",
       "6055  PRUDENTIAL  2019                  Malaysia     2091.0\n",
       "6056  PRUDENTIAL  2019                 Hong Kong     1839.0\n",
       "6057  PRUDENTIAL  2019               Philippines      758.0\n",
       "6058  PRUDENTIAL  2019                  Viet Nam     3861.0\n",
       "6059  PRUDENTIAL  2019                  Thailand      901.0\n",
       "6060  PRUDENTIAL  2019                    Taiwan      795.0\n",
       "6061  PRUDENTIAL  2019                     Japan       45.0\n",
       "6062  PRUDENTIAL  2019                     Other      607.0"
      ]
     },
     "execution_count": 118,
     "metadata": {},
     "output_type": "execute_result"
    }
   ],
   "source": [
    "df.loc[(df['mnc'] == company) & (df['year'] == year), ['mnc', 'year', 'jur_name', 'employees']]"
   ]
  },
  {
   "cell_type": "code",
   "execution_count": 119,
   "metadata": {},
   "outputs": [
    {
     "data": {
      "text/html": [
       "<div>\n",
       "<style scoped>\n",
       "    .dataframe tbody tr th:only-of-type {\n",
       "        vertical-align: middle;\n",
       "    }\n",
       "\n",
       "    .dataframe tbody tr th {\n",
       "        vertical-align: top;\n",
       "    }\n",
       "\n",
       "    .dataframe thead th {\n",
       "        text-align: right;\n",
       "    }\n",
       "</style>\n",
       "<table border=\"1\" class=\"dataframe\">\n",
       "  <thead>\n",
       "    <tr style=\"text-align: right;\">\n",
       "      <th></th>\n",
       "      <th>jur_name</th>\n",
       "      <th>profit_before_tax</th>\n",
       "      <th>employees</th>\n",
       "      <th>profit_before_tax_%</th>\n",
       "      <th>employees_%</th>\n",
       "    </tr>\n",
       "  </thead>\n",
       "  <tbody>\n",
       "    <tr>\n",
       "      <th>0</th>\n",
       "      <td>Japan</td>\n",
       "      <td>5.359536e+06</td>\n",
       "      <td>45.0</td>\n",
       "      <td>0.166574</td>\n",
       "      <td>0.308684</td>\n",
       "    </tr>\n",
       "    <tr>\n",
       "      <th>1</th>\n",
       "      <td>Other</td>\n",
       "      <td>1.250558e+07</td>\n",
       "      <td>607.0</td>\n",
       "      <td>0.388673</td>\n",
       "      <td>4.163808</td>\n",
       "    </tr>\n",
       "    <tr>\n",
       "      <th>2</th>\n",
       "      <td>Thailand</td>\n",
       "      <td>1.089772e+08</td>\n",
       "      <td>901.0</td>\n",
       "      <td>3.387007</td>\n",
       "      <td>6.180546</td>\n",
       "    </tr>\n",
       "    <tr>\n",
       "      <th>3</th>\n",
       "      <td>Philippines</td>\n",
       "      <td>1.170165e+08</td>\n",
       "      <td>758.0</td>\n",
       "      <td>3.636868</td>\n",
       "      <td>5.199616</td>\n",
       "    </tr>\n",
       "    <tr>\n",
       "      <th>4</th>\n",
       "      <td>Viet Nam</td>\n",
       "      <td>1.875837e+08</td>\n",
       "      <td>3861.0</td>\n",
       "      <td>5.830094</td>\n",
       "      <td>26.485115</td>\n",
       "    </tr>\n",
       "    <tr>\n",
       "      <th>5</th>\n",
       "      <td>Taiwan</td>\n",
       "      <td>2.152747e+08</td>\n",
       "      <td>795.0</td>\n",
       "      <td>6.690727</td>\n",
       "      <td>5.453423</td>\n",
       "    </tr>\n",
       "    <tr>\n",
       "      <th>6</th>\n",
       "      <td>Malaysia</td>\n",
       "      <td>3.081733e+08</td>\n",
       "      <td>2091.0</td>\n",
       "      <td>9.578012</td>\n",
       "      <td>14.343531</td>\n",
       "    </tr>\n",
       "    <tr>\n",
       "      <th>7</th>\n",
       "      <td>Indonesia</td>\n",
       "      <td>5.029031e+08</td>\n",
       "      <td>1959.0</td>\n",
       "      <td>15.630205</td>\n",
       "      <td>13.438057</td>\n",
       "    </tr>\n",
       "    <tr>\n",
       "      <th>8</th>\n",
       "      <td>Hong Kong</td>\n",
       "      <td>8.039303e+08</td>\n",
       "      <td>1839.0</td>\n",
       "      <td>24.986119</td>\n",
       "      <td>12.614899</td>\n",
       "    </tr>\n",
       "    <tr>\n",
       "      <th>9</th>\n",
       "      <td>Singapore</td>\n",
       "      <td>9.557838e+08</td>\n",
       "      <td>1722.0</td>\n",
       "      <td>29.705719</td>\n",
       "      <td>11.812320</td>\n",
       "    </tr>\n",
       "  </tbody>\n",
       "</table>\n",
       "</div>"
      ],
      "text/plain": [
       "      jur_name  profit_before_tax  employees  profit_before_tax_%  employees_%\n",
       "0        Japan       5.359536e+06       45.0             0.166574     0.308684\n",
       "1        Other       1.250558e+07      607.0             0.388673     4.163808\n",
       "2     Thailand       1.089772e+08      901.0             3.387007     6.180546\n",
       "3  Philippines       1.170165e+08      758.0             3.636868     5.199616\n",
       "4     Viet Nam       1.875837e+08     3861.0             5.830094    26.485115\n",
       "5       Taiwan       2.152747e+08      795.0             6.690727     5.453423\n",
       "6     Malaysia       3.081733e+08     2091.0             9.578012    14.343531\n",
       "7    Indonesia       5.029031e+08     1959.0            15.630205    13.438057\n",
       "8    Hong Kong       8.039303e+08     1839.0            24.986119    12.614899\n",
       "9    Singapore       9.557838e+08     1722.0            29.705719    11.812320"
      ]
     },
     "execution_count": 119,
     "metadata": {},
     "output_type": "execute_result"
    }
   ],
   "source": [
    "pd.DataFrame(compute_pretax_profit_and_employees_rank())"
   ]
  },
  {
   "cell_type": "code",
   "execution_count": 120,
   "metadata": {},
   "outputs": [
    {
     "data": {
      "image/png": "[encoded data removed]",
      "text/plain": [
       "<Figure size 640x480 with 1 Axes>"
      ]
     },
     "metadata": {},
     "output_type": "display_data"
    }
   ],
   "source": [
    "def plot_pretax_profit_and_employees_rank():\n",
    "\n",
    "    rank = pd.DataFrame(compute_pretax_profit_and_employees_rank())\n",
    "\n",
    "    jurisdictions = rank['jur_name'].values\n",
    "    bar_width = 0.42\n",
    "    bar_offsets = [-bar_width, 0, bar_width]\n",
    "\n",
    "    fig_height = max(4.8, (0.48*len(jurisdictions)))\n",
    "    fig, ax = plt.subplots(figsize=(6.4, fig_height))\n",
    "\n",
    "    for i, (column, values) in enumerate(rank[['employees_%', 'profit_before_tax_%']].items()):\n",
    "        bar_positions = []\n",
    "        for j in range(len(jurisdictions)):\n",
    "            bar_positions.append(j + bar_offsets[i])\n",
    "        bars = ax.barh(bar_positions, values, height=bar_width, label=column)\n",
    "        ax.bar_label(bars, fmt='{:.2f} %', padding=1)\n",
    "\n",
    "    ax.set_xlabel('%')\n",
    "    ax.set_yticks(range(len(jurisdictions)))\n",
    "    ax.set_yticklabels(jurisdictions)\n",
    "    ax.set_ylabel('jur_name')\n",
    "    ax.set_xscale('symlog', linthresh=1)\n",
    "    ax.legend(loc='lower right')\n",
    "       \n",
    "    fig.suptitle(f'company % pre-tax profit and % employees - {company}, {year}')\n",
    "\n",
    "    plt.tight_layout()\n",
    "    plt.show()\n",
    "\n",
    "plot_pretax_profit_and_employees_rank()"
   ]
  },
  {
   "cell_type": "markdown",
   "metadata": {},
   "source": [
    "## #18 - breakdown of revenue between related party and unrelated party in TH vs domestic vs non TH"
   ]
  },
  {
   "cell_type": "markdown",
   "metadata": {},
   "source": [
    "|viz|how to compute|how to manage negative values|where / variant needed|comment|\n",
    "|-|-|-|-|-|\n",
    "|horizontal barchart % of revenue from related-party revenue, and % revenue from unrelated party, show value for domestic (hq country) vs tax havens vs. non havens|get total revenue in TH, in domestic country, in non TH then show the % coming from unrelated party revenue and related party revenue (sum of both should equal total revenue)||`company explo` need a filter by company|what if sum or unrelated party revenue  and related party revenue does not equal to total revenue ? safeguard ?|"
   ]
  },
  {
   "cell_type": "code",
   "execution_count": 121,
   "metadata": {},
   "outputs": [],
   "source": [
    "def compute_related_and_unrelated_revenues_breakdown(\n",
    "        df: pd.DataFrame, company: str, year: int) -> dict:\n",
    "    \"\"\"Compute related and unrelated revenues in tax heaven, non tax heaven and\n",
    "    domestic jusrisdictions.\n",
    "\n",
    "    Args:\n",
    "        df (pd.DataFrame): CbCRs database.\n",
    "        company (str): Company name\n",
    "        year (int): fiscal year to filter the results with.\n",
    "\n",
    "    Returns:\n",
    "        dict: revenues percentage for different type of jurisdictions.\n",
    "    \"\"\"\n",
    "    \n",
    "    # Create a filtered version of the dataset\n",
    "    df_temp = df.loc[(df['mnc'] == company) & (df['year'] == year)].copy()\n",
    "\n",
    "    # Create a boolean column to check if 'jur_code' is the domestic country\n",
    "    df_temp['domestic'] = df_temp.apply(\n",
    "        lambda row: row['jur_code'] == row['upe_code'], axis='columns')\n",
    "\n",
    "    # Calculate missing values in 'related_revenues' if 'unrelated_revenues' and 'total_revenues' are available\n",
    "    df_temp.loc[\n",
    "        df_temp['unrelated_revenues'].notna() \n",
    "        & df_temp['total_revenues'].notna() \n",
    "        & df_temp['related_revenues'].isna(), \n",
    "        'related_revenues'\n",
    "    ] = df_temp['total_revenues'] - df_temp['unrelated_revenues']\n",
    "\n",
    "    # Calculate missing values in 'unrelated_revenues' if 'related_revenues' and 'total_revenues' are available\n",
    "    df_temp.loc[\n",
    "        df_temp['related_revenues'].notna() \n",
    "        & df_temp['total_revenues'].notna() \n",
    "        & df_temp['unrelated_revenues'].isna(), \n",
    "        'unrelated_revenues'\n",
    "    ] = df_temp['total_revenues'] - df_temp['related_revenues']\n",
    "\n",
    "    # Remove columns where 'unrelated_revenues' or 'related_revenues' is missing\n",
    "    df_temp = df_temp.dropna(subset=['unrelated_revenues', 'related_revenues'])\n",
    "\n",
    "    # Compute kpis in a new DataFrame\n",
    "    data = pd.DataFrame()\n",
    "    data['tax_haven'] = df_temp.loc[\n",
    "        df_temp['jur_tax_haven'] == True, ['unrelated_revenues', 'related_revenues']].sum()\n",
    "    data['non_tax_haven'] = df_temp.loc[\n",
    "        df_temp['jur_tax_haven'] == False, ['unrelated_revenues', 'related_revenues']].sum()\n",
    "    data['domestic'] = df_temp.loc[\n",
    "        df_temp['domestic'] == True, ['unrelated_revenues', 'related_revenues']].sum()\n",
    "\n",
    "    # Replace values with share (%) of 'unrelated/related revenues'\n",
    "    data = data.div(data.sum(axis='rows'), axis='columns')\n",
    "\n",
    "    # Convert DataFrame to dictionnary\n",
    "    data = data.to_dict()\n",
    "\n",
    "    return data\n",
    "\n",
    "\n",
    "def display_related_and_unrelated_revenues_breakdown(\n",
    "        df: pd.DataFrame, company: str, year: int):\n",
    "    \"\"\"Display related and unrelated revenues in tax heaven, non tax heaven and\n",
    "    domestic jusrisdictions.\n",
    "\n",
    "    Args:\n",
    "        df (pd.DataFrame): CbCRs database.\n",
    "        company (str): Company name\n",
    "        year (int): fiscal year to filter the results with.\n",
    "    \"\"\"\n",
    "    \n",
    "    # Compute data\n",
    "    data = compute_related_and_unrelated_revenues_breakdown(df=df, company=company, year=year)\n",
    "\n",
    "    # Create DataFrame\n",
    "    df = pd.DataFrame.from_dict(data, orient='index')\n",
    "\n",
    "    # Rename columns and indexes\n",
    "    df.columns = df.columns.str.replace('_', ' ').str.capitalize()\n",
    "    df.index = df.index.str.replace('_', ' ').str.capitalize()\n",
    "    \n",
    "    # Create figure\n",
    "    fig = px.bar(df, x=['Unrelated revenues', 'Related revenues'], y=df.index,\n",
    "                  orientation='h', title='Breakdown of revenue', text_auto='.0%')\n",
    "\n",
    "    # Update layout settings\n",
    "    fig.update_layout(\n",
    "        xaxis=dict(\n",
    "            title=None,\n",
    "            tickformat='.0%'\n",
    "        ),\n",
    "        yaxis_title=None,\n",
    "        legend=dict(\n",
    "            title=dict(text=''),\n",
    "            orientation='h',\n",
    "            y=1.1\n",
    "        ),\n",
    "        plot_bgcolor='white',\n",
    "        width=800,\n",
    "        height=480\n",
    "    )\n",
    "\n",
    "    # Define position of text values\n",
    "    for col in ['Unrelated revenues', 'Related revenues']:\n",
    "        \n",
    "        values_positions = ['outside' if value <= 0.05 else 'inside' for value in df[col]]\n",
    "    \n",
    "        fig.update_traces(\n",
    "            textangle=0,\n",
    "            textposition=values_positions,\n",
    "            selector=dict(name=col)\n",
    "        )\n",
    "\n",
    "    # Add annotation if no values are availables (no bar displayed)\n",
    "    for i, index in enumerate(df.index):\n",
    "        if df.loc[index].isna().all():\n",
    "            fig.add_annotation(\n",
    "                    x=0.5,\n",
    "                    y=df.index[i],\n",
    "                    text='Information not provided by the company',\n",
    "                    showarrow=False,\n",
    "                    font=dict(color='black', size=13)\n",
    "                )\n",
    "    \n",
    "    # Define style of hover on bars\n",
    "    fig.update_traces(hovertemplate='%{y}: %{x}')\n",
    "\n",
    "    fig.show()"
   ]
  },
  {
   "cell_type": "code",
   "execution_count": 122,
   "metadata": {},
   "outputs": [
    {
     "data": {
      "application/vnd.plotly.v1+json": {
       "config": {
        "plotlyServerURL": "https://plot.ly"
       },
       "data": [
        {
         "alignmentgroup": "True",
         "hovertemplate": "%{y}: %{x}",
         "legendgroup": "Unrelated revenues",
         "marker": {
          "color": "#636efa",
          "pattern": {
           "shape": ""
          }
         },
         "name": "Unrelated revenues",
         "offsetgroup": "Unrelated revenues",
         "orientation": "h",
         "showlegend": true,
         "textangle": 0,
         "textposition": [
          "inside",
          "inside",
          "inside"
         ],
         "texttemplate": "%{x:.0%}",
         "type": "bar",
         "x": [
          null,
          null,
          null
         ],
         "xaxis": "x",
         "y": [
          "Tax haven",
          "Non tax haven",
          "Domestic"
         ],
         "yaxis": "y"
        },
        {
         "alignmentgroup": "True",
         "hovertemplate": "%{y}: %{x}",
         "legendgroup": "Related revenues",
         "marker": {
          "color": "#EF553B",
          "pattern": {
           "shape": ""
          }
         },
         "name": "Related revenues",
         "offsetgroup": "Related revenues",
         "orientation": "h",
         "showlegend": true,
         "textangle": 0,
         "textposition": [
          "inside",
          "inside",
          "inside"
         ],
         "texttemplate": "%{x:.0%}",
         "type": "bar",
         "x": [
          null,
          null,
          null
         ],
         "xaxis": "x",
         "y": [
          "Tax haven",
          "Non tax haven",
          "Domestic"
         ],
         "yaxis": "y"
        }
       ],
       "layout": {
        "annotations": [
         {
          "font": {
           "color": "black",
           "size": 13
          },
          "showarrow": false,
          "text": "Information not provided by the company",
          "x": 0.5,
          "y": "Tax haven"
         },
         {
          "font": {
           "color": "black",
           "size": 13
          },
          "showarrow": false,
          "text": "Information not provided by the company",
          "x": 0.5,
          "y": "Non tax haven"
         },
         {
          "font": {
           "color": "black",
           "size": 13
          },
          "showarrow": false,
          "text": "Information not provided by the company",
          "x": 0.5,
          "y": "Domestic"
         }
        ],
        "barmode": "relative",
        "height": 480,
        "legend": {
         "orientation": "h",
         "title": {
          "text": ""
         },
         "tracegroupgap": 0,
         "y": 1.1
        },
        "plot_bgcolor": "white",
        "template": {
         "data": {
          "bar": [
           {
            "error_x": {
             "color": "#2a3f5f"
            },
            "error_y": {
             "color": "#2a3f5f"
            },
            "marker": {
             "line": {
              "color": "#E5ECF6",
              "width": 0.5
             },
             "pattern": {
              "fillmode": "overlay",
              "size": 10,
              "solidity": 0.2
             }
            },
            "type": "bar"
           }
          ],
          "barpolar": [
           {
            "marker": {
             "line": {
              "color": "#E5ECF6",
              "width": 0.5
             },
             "pattern": {
              "fillmode": "overlay",
              "size": 10,
              "solidity": 0.2
             }
            },
            "type": "barpolar"
           }
          ],
          "carpet": [
           {
            "aaxis": {
             "endlinecolor": "#2a3f5f",
             "gridcolor": "white",
             "linecolor": "white",
             "minorgridcolor": "white",
             "startlinecolor": "#2a3f5f"
            },
            "baxis": {
             "endlinecolor": "#2a3f5f",
             "gridcolor": "white",
             "linecolor": "white",
             "minorgridcolor": "white",
             "startlinecolor": "#2a3f5f"
            },
            "type": "carpet"
           }
          ],
          "choropleth": [
           {
            "colorbar": {
             "outlinewidth": 0,
             "ticks": ""
            },
            "type": "choropleth"
           }
          ],
          "contour": [
           {
            "colorbar": {
             "outlinewidth": 0,
             "ticks": ""
            },
            "colorscale": [
             [
              0,
              "#0d0887"
             ],
             [
              0.1111111111111111,
              "#46039f"
             ],
             [
              0.2222222222222222,
              "#7201a8"
             ],
             [
              0.3333333333333333,
              "#9c179e"
             ],
             [
              0.4444444444444444,
              "#bd3786"
             ],
             [
              0.5555555555555556,
              "#d8576b"
             ],
             [
              0.6666666666666666,
              "#ed7953"
             ],
             [
              0.7777777777777778,
              "#fb9f3a"
             ],
             [
              0.8888888888888888,
              "#fdca26"
             ],
             [
              1,
              "#f0f921"
             ]
            ],
            "type": "contour"
           }
          ],
          "contourcarpet": [
           {
            "colorbar": {
             "outlinewidth": 0,
             "ticks": ""
            },
            "type": "contourcarpet"
           }
          ],
          "heatmap": [
           {
            "colorbar": {
             "outlinewidth": 0,
             "ticks": ""
            },
            "colorscale": [
             [
              0,
              "#0d0887"
             ],
             [
              0.1111111111111111,
              "#46039f"
             ],
             [
              0.2222222222222222,
              "#7201a8"
             ],
             [
              0.3333333333333333,
              "#9c179e"
             ],
             [
              0.4444444444444444,
              "#bd3786"
             ],
             [
              0.5555555555555556,
              "#d8576b"
             ],
             [
              0.6666666666666666,
              "#ed7953"
             ],
             [
              0.7777777777777778,
              "#fb9f3a"
             ],
             [
              0.8888888888888888,
              "#fdca26"
             ],
             [
              1,
              "#f0f921"
             ]
            ],
            "type": "heatmap"
           }
          ],
          "heatmapgl": [
           {
            "colorbar": {
             "outlinewidth": 0,
             "ticks": ""
            },
            "colorscale": [
             [
              0,
              "#0d0887"
             ],
             [
              0.1111111111111111,
              "#46039f"
             ],
             [
              0.2222222222222222,
              "#7201a8"
             ],
             [
              0.3333333333333333,
              "#9c179e"
             ],
             [
              0.4444444444444444,
              "#bd3786"
             ],
             [
              0.5555555555555556,
              "#d8576b"
             ],
             [
              0.6666666666666666,
              "#ed7953"
             ],
             [
              0.7777777777777778,
              "#fb9f3a"
             ],
             [
              0.8888888888888888,
              "#fdca26"
             ],
             [
              1,
              "#f0f921"
             ]
            ],
            "type": "heatmapgl"
           }
          ],
          "histogram": [
           {
            "marker": {
             "pattern": {
              "fillmode": "overlay",
              "size": 10,
              "solidity": 0.2
             }
            },
            "type": "histogram"
           }
          ],
          "histogram2d": [
           {
            "colorbar": {
             "outlinewidth": 0,
             "ticks": ""
            },
            "colorscale": [
             [
              0,
              "#0d0887"
             ],
             [
              0.1111111111111111,
              "#46039f"
             ],
             [
              0.2222222222222222,
              "#7201a8"
             ],
             [
              0.3333333333333333,
              "#9c179e"
             ],
             [
              0.4444444444444444,
              "#bd3786"
             ],
             [
              0.5555555555555556,
              "#d8576b"
             ],
             [
              0.6666666666666666,
              "#ed7953"
             ],
             [
              0.7777777777777778,
              "#fb9f3a"
             ],
             [
              0.8888888888888888,
              "#fdca26"
             ],
             [
              1,
              "#f0f921"
             ]
            ],
            "type": "histogram2d"
           }
          ],
          "histogram2dcontour": [
           {
            "colorbar": {
             "outlinewidth": 0,
             "ticks": ""
            },
            "colorscale": [
             [
              0,
              "#0d0887"
             ],
             [
              0.1111111111111111,
              "#46039f"
             ],
             [
              0.2222222222222222,
              "#7201a8"
             ],
             [
              0.3333333333333333,
              "#9c179e"
             ],
             [
              0.4444444444444444,
              "#bd3786"
             ],
             [
              0.5555555555555556,
              "#d8576b"
             ],
             [
              0.6666666666666666,
              "#ed7953"
             ],
             [
              0.7777777777777778,
              "#fb9f3a"
             ],
             [
              0.8888888888888888,
              "#fdca26"
             ],
             [
              1,
              "#f0f921"
             ]
            ],
            "type": "histogram2dcontour"
           }
          ],
          "mesh3d": [
           {
            "colorbar": {
             "outlinewidth": 0,
             "ticks": ""
            },
            "type": "mesh3d"
           }
          ],
          "parcoords": [
           {
            "line": {
             "colorbar": {
              "outlinewidth": 0,
              "ticks": ""
             }
            },
            "type": "parcoords"
           }
          ],
          "pie": [
           {
            "automargin": true,
            "type": "pie"
           }
          ],
          "scatter": [
           {
            "fillpattern": {
             "fillmode": "overlay",
             "size": 10,
             "solidity": 0.2
            },
            "type": "scatter"
           }
          ],
          "scatter3d": [
           {
            "line": {
             "colorbar": {
              "outlinewidth": 0,
              "ticks": ""
             }
            },
            "marker": {
             "colorbar": {
              "outlinewidth": 0,
              "ticks": ""
             }
            },
            "type": "scatter3d"
           }
          ],
          "scattercarpet": [
           {
            "marker": {
             "colorbar": {
              "outlinewidth": 0,
              "ticks": ""
             }
            },
            "type": "scattercarpet"
           }
          ],
          "scattergeo": [
           {
            "marker": {
             "colorbar": {
              "outlinewidth": 0,
              "ticks": ""
             }
            },
            "type": "scattergeo"
           }
          ],
          "scattergl": [
           {
            "marker": {
             "colorbar": {
              "outlinewidth": 0,
              "ticks": ""
             }
            },
            "type": "scattergl"
           }
          ],
          "scattermapbox": [
           {
            "marker": {
             "colorbar": {
              "outlinewidth": 0,
              "ticks": ""
             }
            },
            "type": "scattermapbox"
           }
          ],
          "scatterpolar": [
           {
            "marker": {
             "colorbar": {
              "outlinewidth": 0,
              "ticks": ""
             }
            },
            "type": "scatterpolar"
           }
          ],
          "scatterpolargl": [
           {
            "marker": {
             "colorbar": {
              "outlinewidth": 0,
              "ticks": ""
             }
            },
            "type": "scatterpolargl"
           }
          ],
          "scatterternary": [
           {
            "marker": {
             "colorbar": {
              "outlinewidth": 0,
              "ticks": ""
             }
            },
            "type": "scatterternary"
           }
          ],
          "surface": [
           {
            "colorbar": {
             "outlinewidth": 0,
             "ticks": ""
            },
            "colorscale": [
             [
              0,
              "#0d0887"
             ],
             [
              0.1111111111111111,
              "#46039f"
             ],
             [
              0.2222222222222222,
              "#7201a8"
             ],
             [
              0.3333333333333333,
              "#9c179e"
             ],
             [
              0.4444444444444444,
              "#bd3786"
             ],
             [
              0.5555555555555556,
              "#d8576b"
             ],
             [
              0.6666666666666666,
              "#ed7953"
             ],
             [
              0.7777777777777778,
              "#fb9f3a"
             ],
             [
              0.8888888888888888,
              "#fdca26"
             ],
             [
              1,
              "#f0f921"
             ]
            ],
            "type": "surface"
           }
          ],
          "table": [
           {
            "cells": {
             "fill": {
              "color": "#EBF0F8"
             },
             "line": {
              "color": "white"
             }
            },
            "header": {
             "fill": {
              "color": "#C8D4E3"
             },
             "line": {
              "color": "white"
             }
            },
            "type": "table"
           }
          ]
         },
         "layout": {
          "annotationdefaults": {
           "arrowcolor": "#2a3f5f",
           "arrowhead": 0,
           "arrowwidth": 1
          },
          "autotypenumbers": "strict",
          "coloraxis": {
           "colorbar": {
            "outlinewidth": 0,
            "ticks": ""
           }
          },
          "colorscale": {
           "diverging": [
            [
             0,
             "#8e0152"
            ],
            [
             0.1,
             "#c51b7d"
            ],
            [
             0.2,
             "#de77ae"
            ],
            [
             0.3,
             "#f1b6da"
            ],
            [
             0.4,
             "#fde0ef"
            ],
            [
             0.5,
             "#f7f7f7"
            ],
            [
             0.6,
             "#e6f5d0"
            ],
            [
             0.7,
             "#b8e186"
            ],
            [
             0.8,
             "#7fbc41"
            ],
            [
             0.9,
             "#4d9221"
            ],
            [
             1,
             "#276419"
            ]
           ],
           "sequential": [
            [
             0,
             "#0d0887"
            ],
            [
             0.1111111111111111,
             "#46039f"
            ],
            [
             0.2222222222222222,
             "#7201a8"
            ],
            [
             0.3333333333333333,
             "#9c179e"
            ],
            [
             0.4444444444444444,
             "#bd3786"
            ],
            [
             0.5555555555555556,
             "#d8576b"
            ],
            [
             0.6666666666666666,
             "#ed7953"
            ],
            [
             0.7777777777777778,
             "#fb9f3a"
            ],
            [
             0.8888888888888888,
             "#fdca26"
            ],
            [
             1,
             "#f0f921"
            ]
           ],
           "sequentialminus": [
            [
             0,
             "#0d0887"
            ],
            [
             0.1111111111111111,
             "#46039f"
            ],
            [
             0.2222222222222222,
             "#7201a8"
            ],
            [
             0.3333333333333333,
             "#9c179e"
            ],
            [
             0.4444444444444444,
             "#bd3786"
            ],
            [
             0.5555555555555556,
             "#d8576b"
            ],
            [
             0.6666666666666666,
             "#ed7953"
            ],
            [
             0.7777777777777778,
             "#fb9f3a"
            ],
            [
             0.8888888888888888,
             "#fdca26"
            ],
            [
             1,
             "#f0f921"
            ]
           ]
          },
          "colorway": [
           "#636efa",
           "#EF553B",
           "#00cc96",
           "#ab63fa",
           "#FFA15A",
           "#19d3f3",
           "#FF6692",
           "#B6E880",
           "#FF97FF",
           "#FECB52"
          ],
          "font": {
           "color": "#2a3f5f"
          },
          "geo": {
           "bgcolor": "white",
           "lakecolor": "white",
           "landcolor": "#E5ECF6",
           "showlakes": true,
           "showland": true,
           "subunitcolor": "white"
          },
          "hoverlabel": {
           "align": "left"
          },
          "hovermode": "closest",
          "mapbox": {
           "style": "light"
          },
          "paper_bgcolor": "white",
          "plot_bgcolor": "#E5ECF6",
          "polar": {
           "angularaxis": {
            "gridcolor": "white",
            "linecolor": "white",
            "ticks": ""
           },
           "bgcolor": "#E5ECF6",
           "radialaxis": {
            "gridcolor": "white",
            "linecolor": "white",
            "ticks": ""
           }
          },
          "scene": {
           "xaxis": {
            "backgroundcolor": "#E5ECF6",
            "gridcolor": "white",
            "gridwidth": 2,
            "linecolor": "white",
            "showbackground": true,
            "ticks": "",
            "zerolinecolor": "white"
           },
           "yaxis": {
            "backgroundcolor": "#E5ECF6",
            "gridcolor": "white",
            "gridwidth": 2,
            "linecolor": "white",
            "showbackground": true,
            "ticks": "",
            "zerolinecolor": "white"
           },
           "zaxis": {
            "backgroundcolor": "#E5ECF6",
            "gridcolor": "white",
            "gridwidth": 2,
            "linecolor": "white",
            "showbackground": true,
            "ticks": "",
            "zerolinecolor": "white"
           }
          },
          "shapedefaults": {
           "line": {
            "color": "#2a3f5f"
           }
          },
          "ternary": {
           "aaxis": {
            "gridcolor": "white",
            "linecolor": "white",
            "ticks": ""
           },
           "baxis": {
            "gridcolor": "white",
            "linecolor": "white",
            "ticks": ""
           },
           "bgcolor": "#E5ECF6",
           "caxis": {
            "gridcolor": "white",
            "linecolor": "white",
            "ticks": ""
           }
          },
          "title": {
           "x": 0.05
          },
          "xaxis": {
           "automargin": true,
           "gridcolor": "white",
           "linecolor": "white",
           "ticks": "",
           "title": {
            "standoff": 15
           },
           "zerolinecolor": "white",
           "zerolinewidth": 2
          },
          "yaxis": {
           "automargin": true,
           "gridcolor": "white",
           "linecolor": "white",
           "ticks": "",
           "title": {
            "standoff": 15
           },
           "zerolinecolor": "white",
           "zerolinewidth": 2
          }
         }
        },
        "title": {
         "text": "Breakdown of revenue"
        },
        "width": 800,
        "xaxis": {
         "anchor": "y",
         "domain": [
          0,
          1
         ],
         "tickformat": ".0%",
         "title": {}
        },
        "yaxis": {
         "anchor": "x",
         "domain": [
          0,
          1
         ],
         "title": {}
        }
       }
      }
     },
     "metadata": {},
     "output_type": "display_data"
    }
   ],
   "source": [
    "display_related_and_unrelated_revenues_breakdown(df=df, company=company, year=year)"
   ]
  }
 ],
 "metadata": {
  "kernelspec": {
   "display_name": ".venv",
   "language": "python",
   "name": "python3"
  },
  "language_info": {
   "codemirror_mode": {
    "name": "ipython",
    "version": 3
   },
   "file_extension": ".py",
   "mimetype": "text/x-python",
   "name": "python",
   "nbconvert_exporter": "python",
   "pygments_lexer": "ipython3",
   "version": "3.12.0"
  }
 },
 "nbformat": 4,
 "nbformat_minor": 2
}
