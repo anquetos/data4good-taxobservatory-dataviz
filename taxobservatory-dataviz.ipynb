{
 "cells": [
  {
   "cell_type": "code",
   "execution_count": 720,
   "metadata": {},
   "outputs": [],
   "source": [
    "import pandas as pd\n",
    "import numpy as np\n",
    "import matplotlib.pyplot as plt\n",
    "from babel.numbers import get_currency_symbol\n",
    "import humanize"
   ]
  },
  {
   "cell_type": "markdown",
   "metadata": {},
   "source": [
    "# Data For Good - Tax Observatory Dataviz"
   ]
  },
  {
   "cell_type": "markdown",
   "metadata": {},
   "source": [
    "Visualizations for the EU Tax Observatory based on the [EU Tax Obs - Dataviz - Viz](https://docs.google.com/document/d/1q_7x8NrEWNsak9LSE3TxIiSphhVcqWqn6YeG1kQNQTk/edit#heading=h.97g77izer615) Google Docs."
   ]
  },
  {
   "cell_type": "markdown",
   "metadata": {},
   "source": [
    "## Table of contents\n",
    "* [Initialization](#initialization)\n",
    "* [#12 - available reports by company](#12---available-reports-by-company)\n",
    "* [#13 - company key financials kpis](#13---company-key-financials-kpis)\n",
    "* [#14 - company top jurisdictions for revenue](#14---company-top-jurisdictions-for-revenue)"
   ]
  },
  {
   "cell_type": "markdown",
   "metadata": {},
   "source": [
    "## Initialization"
   ]
  },
  {
   "cell_type": "code",
   "execution_count": 721,
   "metadata": {},
   "outputs": [],
   "source": [
    "# Import dataset in a DataFrame\n",
    "df = pd.read_csv('data_final_dataviz.csv', sep=',')"
   ]
  },
  {
   "cell_type": "markdown",
   "metadata": {},
   "source": [
    "In the website it will be possible to select a specific company. To work on the viz creation, we simulate the selection by picking a random company but also a random year."
   ]
  },
  {
   "cell_type": "code",
   "execution_count": 722,
   "metadata": {},
   "outputs": [],
   "source": [
    "# Select a random company and a random year\n",
    "def pick_random_company_and_year() -> tuple:\n",
    "    company = np.random.choice(df['mnc'].unique())\n",
    "    print(f'Selected company : {company}.')\n",
    "\n",
    "    year = np.random.choice(df.loc[df['mnc'] == company, 'year'].unique())\n",
    "    print(f'Selected year : {year}.')\n",
    "\n",
    "    return company, year"
   ]
  },
  {
   "cell_type": "code",
   "execution_count": 723,
   "metadata": {},
   "outputs": [
    {
     "name": "stdout",
     "output_type": "stream",
     "text": [
      "Selected company : MUNDYS.\n",
      "Selected year : 2022.\n"
     ]
    }
   ],
   "source": [
    "company, year = pick_random_company_and_year()\n",
    "# company, year = 'SHELL', 2020"
   ]
  },
  {
   "cell_type": "markdown",
   "metadata": {},
   "source": [
    "## #12 - available reports by company"
   ]
  },
  {
   "cell_type": "markdown",
   "metadata": {},
   "source": [
    "|viz|how to compute|how to manage negative values|where / variant needed|comment|\n",
    "|-|-|-|-|-|\n",
    "|tbd (goal is on company page, to show reports tracked, so could be just a table showing year available for a company)|-||`company explo` need a filter by company||"
   ]
  },
  {
   "cell_type": "code",
   "execution_count": 724,
   "metadata": {},
   "outputs": [
    {
     "data": {
      "text/html": [
       "<style type=\"text/css\">\n",
       "</style>\n",
       "<table id=\"T_d4c58\">\n",
       "  <thead>\n",
       "  </thead>\n",
       "  <tbody>\n",
       "    <tr>\n",
       "      <th id=\"T_d4c58_level0_row0\" class=\"row_heading level0 row0\" >Company</th>\n",
       "      <td id=\"T_d4c58_row0_col0\" class=\"data row0 col0\" >MUNDYS</td>\n",
       "    </tr>\n",
       "    <tr>\n",
       "      <th id=\"T_d4c58_level0_row1\" class=\"row_heading level0 row1\" >Reports</th>\n",
       "      <td id=\"T_d4c58_row1_col0\" class=\"data row1 col0\" >1</td>\n",
       "    </tr>\n",
       "    <tr>\n",
       "      <th id=\"T_d4c58_level0_row2\" class=\"row_heading level0 row2\" >Fiscal year(s) available</th>\n",
       "      <td id=\"T_d4c58_row2_col0\" class=\"data row2 col0\" >2022</td>\n",
       "    </tr>\n",
       "  </tbody>\n",
       "</table>\n"
      ],
      "text/plain": [
       "<pandas.io.formats.style.Styler at 0x1fa03dcb800>"
      ]
     },
     "execution_count": 724,
     "metadata": {},
     "output_type": "execute_result"
    }
   ],
   "source": [
    "def compute_company_available_reports(\n",
    "        df: pd.DataFrame=df, company: str=company) -> dict:\n",
    "    \n",
    "    available_years = df.loc[df['mnc'] == company, 'year'].unique()\n",
    "    n_reports = len(available_years)\n",
    "\n",
    "    # Convert type of items from 'int' to 'str' in available years list\n",
    "    years_string_list = [str(year) for year in available_years]\n",
    "    \n",
    "    if len(years_string_list) == 1:\n",
    "        years_string = years_string_list[0]\n",
    "    elif len(years_string_list) > 1:\n",
    "        years_string = ', '.join(years_string_list[:-1])\n",
    "        years_string += ' and ' + years_string_list[-1]\n",
    "\n",
    "    data = {\n",
    "        'Company': company,\n",
    "        'Reports': n_reports,\n",
    "        'Fiscal year(s) available': years_string\n",
    "    }\n",
    "\n",
    "    return data\n",
    "\n",
    "\n",
    "data =compute_company_available_reports()\n",
    "pd.DataFrame.from_dict(data=data, orient='index').style.hide(axis='columns')"
   ]
  },
  {
   "cell_type": "markdown",
   "metadata": {},
   "source": [
    "## #13 - company key financials kpis"
   ]
  },
  {
   "cell_type": "markdown",
   "metadata": {},
   "source": [
    "**kpis** : hq country, total revenue, total unrelated party revenues, total related party revenues, pre-tax profits, taxes paid, employees.\n",
    "\n",
    "|viz|how to compute|how to manage negative values|where / variant needed|comment|\n",
    "|-|-|-|-|-|\n",
    "|raw figure for each, or table with indicator name in col A, value in col B|hq country : -<br><br>metrics : sum (metric) by year by mnc|**giulia : keep all values, even negative values**|`company explo` need a filter by company||"
   ]
  },
  {
   "cell_type": "code",
   "execution_count": 725,
   "metadata": {},
   "outputs": [],
   "source": [
    "def compute_company_key_financials_kpis(\n",
    "        df: pd.DataFrame=df, company: str=company, year: int=None) -> dict:\n",
    "    \n",
    "    # List financial kpis\n",
    "    kpis_list = ['total_revenues', 'unrelated_revenues', 'related_revenues', \n",
    "                 'profit_before_tax', 'tax_paid', 'employees']\n",
    "    \n",
    "    years = df.loc[df['mnc'] == company, 'year'].unique()\n",
    "    currency = df['currency'].unique()[0]\n",
    "    currency_symbol = get_currency_symbol(currency, locale='en_US')\n",
    "\n",
    "    if not year or year not in years:\n",
    "        df = (df.loc[df['mnc'] == company]\n",
    "            .groupby(['year', 'upe_name'], as_index=False)[kpis_list]\n",
    "            .sum()\n",
    "        )\n",
    "    else:\n",
    "        df = (df.loc[(df['mnc'] == company) & (df['year'] == year)]\n",
    "              .groupby(['year', 'upe_name'], as_index=False)[kpis_list]\n",
    "              .sum())\n",
    "\n",
    "    df = df.set_index('year')\n",
    "\n",
    "    for column in df.columns:\n",
    "        if column not in ['employees', 'upe_name']:\n",
    "            df[column] = df[column].apply(\n",
    "                lambda x: humanize.intword(x) if isinstance(x, (int, float)) else x)\n",
    "            df[column] = currency_symbol + ' ' + df[column]\n",
    "        elif column == 'employees':\n",
    "            df[column] = df[column].astype(int)\n",
    "\n",
    "    df = df.rename(columns={'upe_name': 'headquarter'})\n",
    "    df.columns = df.columns.str.replace('_', ' ').str.capitalize()\n",
    "\n",
    "    data = df.to_dict(orient='index')\n",
    "\n",
    "    return data"
   ]
  },
  {
   "cell_type": "code",
   "execution_count": 726,
   "metadata": {},
   "outputs": [
    {
     "data": {
      "text/html": [
       "<div>\n",
       "<style scoped>\n",
       "    .dataframe tbody tr th:only-of-type {\n",
       "        vertical-align: middle;\n",
       "    }\n",
       "\n",
       "    .dataframe tbody tr th {\n",
       "        vertical-align: top;\n",
       "    }\n",
       "\n",
       "    .dataframe thead th {\n",
       "        text-align: right;\n",
       "    }\n",
       "</style>\n",
       "<table border=\"1\" class=\"dataframe\">\n",
       "  <thead>\n",
       "    <tr style=\"text-align: right;\">\n",
       "      <th></th>\n",
       "      <th>2022</th>\n",
       "    </tr>\n",
       "  </thead>\n",
       "  <tbody>\n",
       "    <tr>\n",
       "      <th>Headquarter</th>\n",
       "      <td>Italy</td>\n",
       "    </tr>\n",
       "    <tr>\n",
       "      <th>Total revenues</th>\n",
       "      <td>€ 14.6 billion</td>\n",
       "    </tr>\n",
       "    <tr>\n",
       "      <th>Unrelated revenues</th>\n",
       "      <td>€ 14.4 billion</td>\n",
       "    </tr>\n",
       "    <tr>\n",
       "      <th>Related revenues</th>\n",
       "      <td>€ 233.2 million</td>\n",
       "    </tr>\n",
       "    <tr>\n",
       "      <th>Profit before tax</th>\n",
       "      <td>€ 3.5 billion</td>\n",
       "    </tr>\n",
       "    <tr>\n",
       "      <th>Tax paid</th>\n",
       "      <td>€ 553.1 million</td>\n",
       "    </tr>\n",
       "    <tr>\n",
       "      <th>Employees</th>\n",
       "      <td>23374</td>\n",
       "    </tr>\n",
       "  </tbody>\n",
       "</table>\n",
       "</div>"
      ],
      "text/plain": [
       "                               2022\n",
       "Headquarter                   Italy\n",
       "Total revenues       € 14.6 billion\n",
       "Unrelated revenues   € 14.4 billion\n",
       "Related revenues    € 233.2 million\n",
       "Profit before tax     € 3.5 billion\n",
       "Tax paid            € 553.1 million\n",
       "Employees                     23374"
      ]
     },
     "execution_count": 726,
     "metadata": {},
     "output_type": "execute_result"
    }
   ],
   "source": [
    "data = compute_company_key_financials_kpis()\n",
    "pd.DataFrame.from_dict(data)"
   ]
  },
  {
   "cell_type": "markdown",
   "metadata": {},
   "source": [
    "## #14 - company top jurisdictions for revenue"
   ]
  },
  {
   "cell_type": "markdown",
   "metadata": {},
   "source": [
    "|viz|how to compute|how to manage negative values|where / variant needed|comment|\n",
    "|-|-|-|-|-|\n",
    "|horizontal bar chart showing % total revenue for top 9 jurisdictions + rest as “OTHERS”|sum(revenue) by company x hq country x year, display top 9 and group remaining countries||`company explo` need a filter by company||"
   ]
  },
  {
   "cell_type": "code",
   "execution_count": 727,
   "metadata": {},
   "outputs": [],
   "source": [
    "def compute_top_jurisdictions_revenue(\n",
    "        df: pd.DataFrame=df, company: str=company, year:int=year) -> dict:\n",
    "    \n",
    "    df = df.loc[(df['mnc'] == company) & (df['year'] == year), ['jur_name', 'total_revenues']]\n",
    "    df = df.fillna(0)\n",
    "    df = df.sort_values(by='total_revenues', ascending=False)\n",
    "\n",
    "    top = df[:9].copy()\n",
    "\n",
    "    others = df[9:]['total_revenues'].sum()\n",
    "    top.loc[9] = ['Others', others]\n",
    "\n",
    "    top['total_revenues_%'] = top['total_revenues'] / top['total_revenues'].sum() * 100\n",
    "\n",
    "    top = top.sort_values(by='total_revenues_%').reset_index(drop=True)\n",
    "\n",
    "    data = top.to_dict()\n",
    "    \n",
    "    return data"
   ]
  },
  {
   "cell_type": "code",
   "execution_count": 728,
   "metadata": {},
   "outputs": [
    {
     "data": {
      "text/html": [
       "<div>\n",
       "<style scoped>\n",
       "    .dataframe tbody tr th:only-of-type {\n",
       "        vertical-align: middle;\n",
       "    }\n",
       "\n",
       "    .dataframe tbody tr th {\n",
       "        vertical-align: top;\n",
       "    }\n",
       "\n",
       "    .dataframe thead th {\n",
       "        text-align: right;\n",
       "    }\n",
       "</style>\n",
       "<table border=\"1\" class=\"dataframe\">\n",
       "  <thead>\n",
       "    <tr style=\"text-align: right;\">\n",
       "      <th></th>\n",
       "      <th>jur_name</th>\n",
       "      <th>total_revenues</th>\n",
       "      <th>total_revenues_%</th>\n",
       "    </tr>\n",
       "  </thead>\n",
       "  <tbody>\n",
       "    <tr>\n",
       "      <th>0</th>\n",
       "      <td>United Kingdom</td>\n",
       "      <td>1.687000e+08</td>\n",
       "      <td>1.153189</td>\n",
       "    </tr>\n",
       "    <tr>\n",
       "      <th>1</th>\n",
       "      <td>Puerto Rico</td>\n",
       "      <td>1.875000e+08</td>\n",
       "      <td>1.281701</td>\n",
       "    </tr>\n",
       "    <tr>\n",
       "      <th>2</th>\n",
       "      <td>Argentina</td>\n",
       "      <td>4.022000e+08</td>\n",
       "      <td>2.749334</td>\n",
       "    </tr>\n",
       "    <tr>\n",
       "      <th>3</th>\n",
       "      <td>Others</td>\n",
       "      <td>6.495000e+08</td>\n",
       "      <td>4.439811</td>\n",
       "    </tr>\n",
       "    <tr>\n",
       "      <th>4</th>\n",
       "      <td>Mexico</td>\n",
       "      <td>7.461000e+08</td>\n",
       "      <td>5.100144</td>\n",
       "    </tr>\n",
       "    <tr>\n",
       "      <th>5</th>\n",
       "      <td>Spain</td>\n",
       "      <td>7.820000e+08</td>\n",
       "      <td>5.345547</td>\n",
       "    </tr>\n",
       "    <tr>\n",
       "      <th>6</th>\n",
       "      <td>Chile</td>\n",
       "      <td>1.540400e+09</td>\n",
       "      <td>10.529770</td>\n",
       "    </tr>\n",
       "    <tr>\n",
       "      <th>7</th>\n",
       "      <td>Brazil</td>\n",
       "      <td>1.571800e+09</td>\n",
       "      <td>10.744412</td>\n",
       "    </tr>\n",
       "    <tr>\n",
       "      <th>8</th>\n",
       "      <td>France</td>\n",
       "      <td>2.409600e+09</td>\n",
       "      <td>16.471392</td>\n",
       "    </tr>\n",
       "    <tr>\n",
       "      <th>9</th>\n",
       "      <td>Italy</td>\n",
       "      <td>6.171200e+09</td>\n",
       "      <td>42.184702</td>\n",
       "    </tr>\n",
       "  </tbody>\n",
       "</table>\n",
       "</div>"
      ],
      "text/plain": [
       "         jur_name  total_revenues  total_revenues_%\n",
       "0  United Kingdom    1.687000e+08          1.153189\n",
       "1     Puerto Rico    1.875000e+08          1.281701\n",
       "2       Argentina    4.022000e+08          2.749334\n",
       "3          Others    6.495000e+08          4.439811\n",
       "4          Mexico    7.461000e+08          5.100144\n",
       "5           Spain    7.820000e+08          5.345547\n",
       "6           Chile    1.540400e+09         10.529770\n",
       "7          Brazil    1.571800e+09         10.744412\n",
       "8          France    2.409600e+09         16.471392\n",
       "9           Italy    6.171200e+09         42.184702"
      ]
     },
     "execution_count": 728,
     "metadata": {},
     "output_type": "execute_result"
    }
   ],
   "source": [
    "pd.DataFrame(compute_top_jurisdictions_revenue())"
   ]
  },
  {
   "cell_type": "code",
   "execution_count": 729,
   "metadata": {},
   "outputs": [
    {
     "data": {
      "image/png": "[encoded data removed]",
      "text/plain": [
       "<Figure size 640x480 with 1 Axes>"
      ]
     },
     "metadata": {},
     "output_type": "display_data"
    }
   ],
   "source": [
    "def plot_jurisdictions_top_revenue():\n",
    "\n",
    "    top = pd.DataFrame(compute_top_jurisdictions_revenue())\n",
    "\n",
    "    fig, ax = plt.subplots()\n",
    "    bar = ax.barh(y=top['jur_name'], width=top['total_revenues_%'])\n",
    "\n",
    "    ax.bar_label(bar, fmt='{:.1f} %', padding=1)\n",
    "\n",
    "    ax.tick_params(axis='x', rotation=0)\n",
    "    ax.set_xlabel('total_revenue_%')\n",
    "    ax.set_ylabel('jur_name')\n",
    "\n",
    "    fig.suptitle(f'Company top jurisdictions for revenue - {company}, {year}')\n",
    "\n",
    "    plt.tight_layout()\n",
    "    plt.show()\n",
    "\n",
    "plot_jurisdictions_top_revenue()"
   ]
  },
  {
   "cell_type": "markdown",
   "metadata": {},
   "source": [
    "## #15 - company’s % pre-tax profit and % employees by jurisdiction"
   ]
  },
  {
   "cell_type": "markdown",
   "metadata": {},
   "source": [
    "|viz|how to compute|how to manage negative values|where / variant needed|comment|\n",
    "|-|-|-|-|-|\n",
    "|horizontal bar chart with one bar for % pre tax profit, the other for % employees, in different colors rank by % pre-tax profit descending|for a company : filter (profit >0) profits by JUR / total profit vs employees by JUR / total employees|**giulia : keep only positive values**|`company explo` need a filter by company||"
   ]
  },
  {
   "cell_type": "code",
   "execution_count": 730,
   "metadata": {},
   "outputs": [],
   "source": [
    "def compute_pretax_profit_and_employees_rank(\n",
    "        df: pd.DataFrame=df, company: str=company, year: int=year) -> dict:\n",
    "    \n",
    "    df = df.loc[\n",
    "        (df['mnc'] == company) & (df['year'] == year) & (df['profit_before_tax'] > 0), \n",
    "        ['jur_name', 'profit_before_tax', 'employees']\n",
    "    ]\n",
    "\n",
    "    df = df.fillna(0)\n",
    "    df = df.sort_values(by='profit_before_tax').reset_index(drop=True)\n",
    "\n",
    "    df['profit_before_tax_%'] = df['profit_before_tax'] / df['profit_before_tax'].sum() * 100\n",
    "    df['employees_%'] = df['employees'] / df['employees'].sum() * 100\n",
    "\n",
    "    data = df.to_dict()\n",
    "\n",
    "    return data"
   ]
  },
  {
   "cell_type": "code",
   "execution_count": 731,
   "metadata": {},
   "outputs": [
    {
     "data": {
      "text/html": [
       "<div>\n",
       "<style scoped>\n",
       "    .dataframe tbody tr th:only-of-type {\n",
       "        vertical-align: middle;\n",
       "    }\n",
       "\n",
       "    .dataframe tbody tr th {\n",
       "        vertical-align: top;\n",
       "    }\n",
       "\n",
       "    .dataframe thead th {\n",
       "        text-align: right;\n",
       "    }\n",
       "</style>\n",
       "<table border=\"1\" class=\"dataframe\">\n",
       "  <thead>\n",
       "    <tr style=\"text-align: right;\">\n",
       "      <th></th>\n",
       "      <th>jur_name</th>\n",
       "      <th>profit_before_tax</th>\n",
       "      <th>employees</th>\n",
       "      <th>profit_before_tax_%</th>\n",
       "      <th>employees_%</th>\n",
       "    </tr>\n",
       "  </thead>\n",
       "  <tbody>\n",
       "    <tr>\n",
       "      <th>0</th>\n",
       "      <td>Croatia</td>\n",
       "      <td>2.000000e+05</td>\n",
       "      <td>55.0</td>\n",
       "      <td>0.003807</td>\n",
       "      <td>0.358353</td>\n",
       "    </tr>\n",
       "    <tr>\n",
       "      <th>1</th>\n",
       "      <td>Hungary</td>\n",
       "      <td>5.000000e+05</td>\n",
       "      <td>36.0</td>\n",
       "      <td>0.009519</td>\n",
       "      <td>0.234558</td>\n",
       "    </tr>\n",
       "    <tr>\n",
       "      <th>2</th>\n",
       "      <td>China</td>\n",
       "      <td>8.000000e+05</td>\n",
       "      <td>31.0</td>\n",
       "      <td>0.015230</td>\n",
       "      <td>0.201981</td>\n",
       "    </tr>\n",
       "    <tr>\n",
       "      <th>3</th>\n",
       "      <td>Czechia</td>\n",
       "      <td>1.600000e+06</td>\n",
       "      <td>104.0</td>\n",
       "      <td>0.030460</td>\n",
       "      <td>0.677613</td>\n",
       "    </tr>\n",
       "    <tr>\n",
       "      <th>4</th>\n",
       "      <td>United Kingdom</td>\n",
       "      <td>3.600000e+06</td>\n",
       "      <td>1246.0</td>\n",
       "      <td>0.068535</td>\n",
       "      <td>8.118322</td>\n",
       "    </tr>\n",
       "    <tr>\n",
       "      <th>5</th>\n",
       "      <td>Austria</td>\n",
       "      <td>4.800000e+06</td>\n",
       "      <td>138.0</td>\n",
       "      <td>0.091380</td>\n",
       "      <td>0.899140</td>\n",
       "    </tr>\n",
       "    <tr>\n",
       "      <th>6</th>\n",
       "      <td>Netherlands</td>\n",
       "      <td>6.500000e+06</td>\n",
       "      <td>165.0</td>\n",
       "      <td>0.123744</td>\n",
       "      <td>1.075059</td>\n",
       "    </tr>\n",
       "    <tr>\n",
       "      <th>7</th>\n",
       "      <td>India</td>\n",
       "      <td>1.670000e+07</td>\n",
       "      <td>53.0</td>\n",
       "      <td>0.317926</td>\n",
       "      <td>0.345322</td>\n",
       "    </tr>\n",
       "    <tr>\n",
       "      <th>8</th>\n",
       "      <td>Argentina</td>\n",
       "      <td>2.280000e+07</td>\n",
       "      <td>1801.0</td>\n",
       "      <td>0.434054</td>\n",
       "      <td>11.734428</td>\n",
       "    </tr>\n",
       "    <tr>\n",
       "      <th>9</th>\n",
       "      <td>Germany</td>\n",
       "      <td>2.520000e+07</td>\n",
       "      <td>1064.0</td>\n",
       "      <td>0.479744</td>\n",
       "      <td>6.932499</td>\n",
       "    </tr>\n",
       "    <tr>\n",
       "      <th>10</th>\n",
       "      <td>Poland</td>\n",
       "      <td>2.520000e+07</td>\n",
       "      <td>328.0</td>\n",
       "      <td>0.479744</td>\n",
       "      <td>2.137086</td>\n",
       "    </tr>\n",
       "    <tr>\n",
       "      <th>11</th>\n",
       "      <td>Puerto Rico</td>\n",
       "      <td>4.630000e+07</td>\n",
       "      <td>98.0</td>\n",
       "      <td>0.881435</td>\n",
       "      <td>0.638520</td>\n",
       "    </tr>\n",
       "    <tr>\n",
       "      <th>12</th>\n",
       "      <td>Mexico</td>\n",
       "      <td>2.088000e+08</td>\n",
       "      <td>1435.0</td>\n",
       "      <td>3.975023</td>\n",
       "      <td>9.349752</td>\n",
       "    </tr>\n",
       "    <tr>\n",
       "      <th>13</th>\n",
       "      <td>France</td>\n",
       "      <td>7.980000e+08</td>\n",
       "      <td>2708.0</td>\n",
       "      <td>15.191898</td>\n",
       "      <td>17.643993</td>\n",
       "    </tr>\n",
       "    <tr>\n",
       "      <th>14</th>\n",
       "      <td>Chile</td>\n",
       "      <td>9.106000e+08</td>\n",
       "      <td>1575.0</td>\n",
       "      <td>17.335516</td>\n",
       "      <td>10.261923</td>\n",
       "    </tr>\n",
       "    <tr>\n",
       "      <th>15</th>\n",
       "      <td>Italy</td>\n",
       "      <td>3.181200e+09</td>\n",
       "      <td>4511.0</td>\n",
       "      <td>60.561986</td>\n",
       "      <td>29.391452</td>\n",
       "    </tr>\n",
       "  </tbody>\n",
       "</table>\n",
       "</div>"
      ],
      "text/plain": [
       "          jur_name  profit_before_tax  employees  profit_before_tax_%  \\\n",
       "0          Croatia       2.000000e+05       55.0             0.003807   \n",
       "1          Hungary       5.000000e+05       36.0             0.009519   \n",
       "2            China       8.000000e+05       31.0             0.015230   \n",
       "3          Czechia       1.600000e+06      104.0             0.030460   \n",
       "4   United Kingdom       3.600000e+06     1246.0             0.068535   \n",
       "5          Austria       4.800000e+06      138.0             0.091380   \n",
       "6      Netherlands       6.500000e+06      165.0             0.123744   \n",
       "7            India       1.670000e+07       53.0             0.317926   \n",
       "8        Argentina       2.280000e+07     1801.0             0.434054   \n",
       "9          Germany       2.520000e+07     1064.0             0.479744   \n",
       "10          Poland       2.520000e+07      328.0             0.479744   \n",
       "11     Puerto Rico       4.630000e+07       98.0             0.881435   \n",
       "12          Mexico       2.088000e+08     1435.0             3.975023   \n",
       "13          France       7.980000e+08     2708.0            15.191898   \n",
       "14           Chile       9.106000e+08     1575.0            17.335516   \n",
       "15           Italy       3.181200e+09     4511.0            60.561986   \n",
       "\n",
       "    employees_%  \n",
       "0      0.358353  \n",
       "1      0.234558  \n",
       "2      0.201981  \n",
       "3      0.677613  \n",
       "4      8.118322  \n",
       "5      0.899140  \n",
       "6      1.075059  \n",
       "7      0.345322  \n",
       "8     11.734428  \n",
       "9      6.932499  \n",
       "10     2.137086  \n",
       "11     0.638520  \n",
       "12     9.349752  \n",
       "13    17.643993  \n",
       "14    10.261923  \n",
       "15    29.391452  "
      ]
     },
     "execution_count": 731,
     "metadata": {},
     "output_type": "execute_result"
    }
   ],
   "source": [
    "pd.DataFrame(compute_pretax_profit_and_employees_rank())"
   ]
  },
  {
   "cell_type": "code",
   "execution_count": 732,
   "metadata": {},
   "outputs": [
    {
     "data": {
      "image/png": "[encoded data removed]",
      "text/plain": [
       "<Figure size 640x768 with 1 Axes>"
      ]
     },
     "metadata": {},
     "output_type": "display_data"
    }
   ],
   "source": [
    "def plot_pretax_profit_and_employees_rank():\n",
    "\n",
    "    rank = pd.DataFrame(compute_pretax_profit_and_employees_rank())\n",
    "\n",
    "    jurisdictions = rank['jur_name'].values\n",
    "    bar_width = 0.42\n",
    "    bar_offsets = [-bar_width, 0, bar_width]\n",
    "\n",
    "    fig_height = max(4.8, (0.48*len(jurisdictions)))\n",
    "    fig, ax = plt.subplots(figsize=(6.4, fig_height))\n",
    "\n",
    "    for i, (column, values) in enumerate(rank[['employees_%', 'profit_before_tax_%']].items()):\n",
    "        bar_positions = []\n",
    "        for j in range(len(jurisdictions)):\n",
    "            bar_positions.append(j + bar_offsets[i])\n",
    "        bars = ax.barh(bar_positions, values, height=bar_width, label=column)\n",
    "        ax.bar_label(bars, fmt='{:.2f} %', padding=1)\n",
    "\n",
    "    ax.set_xlabel('%')\n",
    "    ax.set_yticks(range(len(jurisdictions)))\n",
    "    ax.set_yticklabels(jurisdictions)\n",
    "    ax.set_ylabel('jur_name')\n",
    "    ax.set_xscale('symlog', linthresh=1)\n",
    "    ax.legend(loc='lower right')\n",
    "       \n",
    "    fig.suptitle(f'company % pre-tax profit and % employees - {company}, {year}')\n",
    "\n",
    "    plt.tight_layout()\n",
    "    plt.show()\n",
    "\n",
    "plot_pretax_profit_and_employees_rank()"
   ]
  },
  {
   "cell_type": "markdown",
   "metadata": {},
   "source": [
    "## #18 - breakdown of revenue between related party and unrelated party in TH vs domestic vs non TH"
   ]
  },
  {
   "cell_type": "markdown",
   "metadata": {},
   "source": [
    "|viz|how to compute|how to manage negative values|where / variant needed|comment|\n",
    "|-|-|-|-|-|\n",
    "|horizontal barchart % of revenue from related-party revenue, and % revenue from unrelated party, show value for domestic (hq country) vs tax havens vs. non havens|get total revenue in TH, in domestic country, in non TH then show the % coming from unrelated party revenue and related party revenue (sum of both should equal total revenue)||`company explo` need a filter by company|what if sum or unrelated party revenue  and related party revenue does not equal to total revenue ? safeguard ?|"
   ]
  },
  {
   "cell_type": "code",
   "execution_count": 753,
   "metadata": {},
   "outputs": [
    {
     "data": {
      "text/html": [
       "<div>\n",
       "<style scoped>\n",
       "    .dataframe tbody tr th:only-of-type {\n",
       "        vertical-align: middle;\n",
       "    }\n",
       "\n",
       "    .dataframe tbody tr th {\n",
       "        vertical-align: top;\n",
       "    }\n",
       "\n",
       "    .dataframe thead th {\n",
       "        text-align: right;\n",
       "    }\n",
       "</style>\n",
       "<table border=\"1\" class=\"dataframe\">\n",
       "  <thead>\n",
       "    <tr style=\"text-align: right;\">\n",
       "      <th></th>\n",
       "      <th>unrelated_revenues</th>\n",
       "      <th>related_revenues</th>\n",
       "      <th>total_revenues</th>\n",
       "    </tr>\n",
       "  </thead>\n",
       "  <tbody>\n",
       "    <tr>\n",
       "      <th>th_revenues</th>\n",
       "      <td>2.133000e+08</td>\n",
       "      <td>79000000.0</td>\n",
       "      <td>2.923000e+08</td>\n",
       "    </tr>\n",
       "    <tr>\n",
       "      <th>domestic_revenues</th>\n",
       "      <td>6.163200e+09</td>\n",
       "      <td>8000000.0</td>\n",
       "      <td>6.171200e+09</td>\n",
       "    </tr>\n",
       "    <tr>\n",
       "      <th>non_th_revenues</th>\n",
       "      <td>1.418250e+10</td>\n",
       "      <td>154200000.0</td>\n",
       "      <td>1.433670e+10</td>\n",
       "    </tr>\n",
       "  </tbody>\n",
       "</table>\n",
       "</div>"
      ],
      "text/plain": [
       "                   unrelated_revenues  related_revenues  total_revenues\n",
       "th_revenues              2.133000e+08        79000000.0    2.923000e+08\n",
       "domestic_revenues        6.163200e+09         8000000.0    6.171200e+09\n",
       "non_th_revenues          1.418250e+10       154200000.0    1.433670e+10"
      ]
     },
     "execution_count": 753,
     "metadata": {},
     "output_type": "execute_result"
    }
   ],
   "source": [
    "def compute_related_and_unrelated_revenues_breakdown(\n",
    "        df: pd.DataFrame=df, company: str=company, year: int=year) -> dict:\n",
    "    \n",
    "    df = df.loc[(df['mnc'] == company) & (df['year'] == year)]\n",
    "\n",
    "    revenues_columns = ['unrelated_revenues', 'related_revenues', 'total_revenues']\n",
    "\n",
    "    computed_df = pd.DataFrame()\n",
    "    computed_df['th_revenues'] = (\n",
    "        df.loc[df['jur_tax_haven'] == True, revenues_columns].sum())\n",
    "    computed_df['domestic_revenues'] = (\n",
    "        df.loc[df['jur_code'] == df['upe_code'], revenues_columns].sum())\n",
    "    computed_df['non_th_revenues'] = (\n",
    "        df.loc[df['jur_tax_haven'] == False, revenues_columns].sum())\n",
    "    \n",
    "    computed_df = computed_df.T\n",
    "\n",
    "    # computed_df['unrelated_revenues_%'] = computed_df['unrelated_revenues'] / computed_df['total_revenues'] * 100\n",
    "    # computed_df['related_revenues_%'] = computed_df['related_revenues'] / computed_df['total_revenues'] * 100\n",
    "\n",
    "    return computed_df\n",
    "\n",
    "compute_related_and_unrelated_revenues_breakdown()"
   ]
  },
  {
   "cell_type": "code",
   "execution_count": 754,
   "metadata": {},
   "outputs": [
    {
     "data": {
      "text/html": [
       "<div>\n",
       "<style scoped>\n",
       "    .dataframe tbody tr th:only-of-type {\n",
       "        vertical-align: middle;\n",
       "    }\n",
       "\n",
       "    .dataframe tbody tr th {\n",
       "        vertical-align: top;\n",
       "    }\n",
       "\n",
       "    .dataframe thead th {\n",
       "        text-align: right;\n",
       "    }\n",
       "</style>\n",
       "<table border=\"1\" class=\"dataframe\">\n",
       "  <thead>\n",
       "    <tr style=\"text-align: right;\">\n",
       "      <th></th>\n",
       "      <th>unrelated_revenues</th>\n",
       "      <th>related_revenues</th>\n",
       "    </tr>\n",
       "  </thead>\n",
       "  <tbody>\n",
       "    <tr>\n",
       "      <th>th_revenues</th>\n",
       "      <td>72.972973</td>\n",
       "      <td>27.027027</td>\n",
       "    </tr>\n",
       "    <tr>\n",
       "      <th>domestic_revenues</th>\n",
       "      <td>99.870366</td>\n",
       "      <td>0.129634</td>\n",
       "    </tr>\n",
       "    <tr>\n",
       "      <th>non_th_revenues</th>\n",
       "      <td>98.924439</td>\n",
       "      <td>1.075561</td>\n",
       "    </tr>\n",
       "  </tbody>\n",
       "</table>\n",
       "</div>"
      ],
      "text/plain": [
       "                   unrelated_revenues  related_revenues\n",
       "th_revenues                 72.972973         27.027027\n",
       "domestic_revenues           99.870366          0.129634\n",
       "non_th_revenues             98.924439          1.075561"
      ]
     },
     "execution_count": 754,
     "metadata": {},
     "output_type": "execute_result"
    }
   ],
   "source": [
    "z = compute_related_and_unrelated_revenues_breakdown()[['unrelated_revenues', 'related_revenues']]\n",
    "z = z.div(z.sum(axis=1), axis=0) * 100\n",
    "z"
   ]
  },
  {
   "cell_type": "code",
   "execution_count": 756,
   "metadata": {},
   "outputs": [
    {
     "data": {
      "image/png": "[encoded data removed]",
      "text/plain": [
       "<Figure size 640x480 with 1 Axes>"
      ]
     },
     "metadata": {},
     "output_type": "display_data"
    }
   ],
   "source": [
    "fig, ax = plt.subplots()\n",
    "\n",
    "test = compute_related_and_unrelated_revenues_breakdown()[['unrelated_revenues', 'related_revenues']]\n",
    "z.plot(kind='barh', stacked=True, ax=ax)\n",
    "\n",
    "fig.suptitle(f'{company} - {year}')\n",
    "plt.show()"
   ]
  }
 ],
 "metadata": {
  "kernelspec": {
   "display_name": ".venv",
   "language": "python",
   "name": "python3"
  },
  "language_info": {
   "codemirror_mode": {
    "name": "ipython",
    "version": 3
   },
   "file_extension": ".py",
   "mimetype": "text/x-python",
   "name": "python",
   "nbconvert_exporter": "python",
   "pygments_lexer": "ipython3",
   "version": "3.12.0"
  }
 },
 "nbformat": 4,
 "nbformat_minor": 2
}
