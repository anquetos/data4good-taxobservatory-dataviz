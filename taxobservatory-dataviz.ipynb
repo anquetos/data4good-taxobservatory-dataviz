{
 "cells": [
  {
   "cell_type": "code",
   "execution_count": 242,
   "metadata": {},
   "outputs": [],
   "source": [
    "import pandas as pd\n",
    "import numpy as np\n",
    "import matplotlib.pyplot as plt\n",
    "from babel.numbers import get_currency_symbol\n",
    "import humanize"
   ]
  },
  {
   "cell_type": "markdown",
   "metadata": {},
   "source": [
    "# Data For Good - Tax Observatory Dataviz"
   ]
  },
  {
   "cell_type": "markdown",
   "metadata": {},
   "source": [
    "Visualizations for the EU Tax Observatory based on the [EU Tax Obs - Dataviz - Viz](https://docs.google.com/document/d/1q_7x8NrEWNsak9LSE3TxIiSphhVcqWqn6YeG1kQNQTk/edit#heading=h.97g77izer615) Google Docs."
   ]
  },
  {
   "cell_type": "markdown",
   "metadata": {},
   "source": [
    "## Table of contents\n",
    "* [Initialization](#initialization)\n",
    "* [#12 - available reports by company](#12---available-reports-by-company)\n",
    "* [#13 - company key financials kpis](#13---company-key-financials-kpis)\n",
    "* [#14 - company top jurisdictions for revenue](#14---company-top-jurisdictions-for-revenue)"
   ]
  },
  {
   "cell_type": "markdown",
   "metadata": {},
   "source": [
    "## Initialization"
   ]
  },
  {
   "cell_type": "code",
   "execution_count": 243,
   "metadata": {},
   "outputs": [],
   "source": [
    "# Import dataset in a DataFrame\n",
    "df = pd.read_csv('data_final_dataviz.csv', sep=',')"
   ]
  },
  {
   "cell_type": "markdown",
   "metadata": {},
   "source": [
    "In the website it will be possible to select a specific company. To work on the viz creation, we simulate the selection by picking a random company but also a random year."
   ]
  },
  {
   "cell_type": "code",
   "execution_count": 244,
   "metadata": {},
   "outputs": [],
   "source": [
    "# Select a random company and a random year\n",
    "def pick_random_company_and_year() -> tuple:\n",
    "    company = np.random.choice(df['mnc'].unique())\n",
    "    print(f'Selected company : {company}.')\n",
    "\n",
    "    year = np.random.choice(df.loc[df['mnc'] == company, 'year'].unique())\n",
    "    print(f'Selected year : {year}.')\n",
    "\n",
    "    return company, year"
   ]
  },
  {
   "cell_type": "code",
   "execution_count": 245,
   "metadata": {},
   "outputs": [
    {
     "name": "stdout",
     "output_type": "stream",
     "text": [
      "Selected company : TELEFONICA.\n",
      "Selected year : 2019.\n"
     ]
    }
   ],
   "source": [
    "company, year = pick_random_company_and_year()\n",
    "# company, year = 'SHELL', 2020"
   ]
  },
  {
   "cell_type": "markdown",
   "metadata": {},
   "source": [
    "## #12 - available reports by company"
   ]
  },
  {
   "cell_type": "markdown",
   "metadata": {},
   "source": [
    "|viz|how to compute|how to manage negative values|where / variant needed|comment|\n",
    "|-|-|-|-|-|\n",
    "|tbd (goal is on company page, to show reports tracked, so could be just a table showing year available for a company)|-||`company explo` need a filter by company||"
   ]
  },
  {
   "cell_type": "code",
   "execution_count": 246,
   "metadata": {},
   "outputs": [
    {
     "data": {
      "text/html": [
       "<style type=\"text/css\">\n",
       "</style>\n",
       "<table id=\"T_f6d61\">\n",
       "  <thead>\n",
       "  </thead>\n",
       "  <tbody>\n",
       "    <tr>\n",
       "      <th id=\"T_f6d61_level0_row0\" class=\"row_heading level0 row0\" >Company</th>\n",
       "      <td id=\"T_f6d61_row0_col0\" class=\"data row0 col0\" >TELEFONICA</td>\n",
       "    </tr>\n",
       "    <tr>\n",
       "      <th id=\"T_f6d61_level0_row1\" class=\"row_heading level0 row1\" >Reports</th>\n",
       "      <td id=\"T_f6d61_row1_col0\" class=\"data row1 col0\" >3</td>\n",
       "    </tr>\n",
       "    <tr>\n",
       "      <th id=\"T_f6d61_level0_row2\" class=\"row_heading level0 row2\" >Fiscal year(s) available</th>\n",
       "      <td id=\"T_f6d61_row2_col0\" class=\"data row2 col0\" >2019, 2020 and 2021</td>\n",
       "    </tr>\n",
       "  </tbody>\n",
       "</table>\n"
      ],
      "text/plain": [
       "<pandas.io.formats.style.Styler at 0x22cae2bac00>"
      ]
     },
     "execution_count": 246,
     "metadata": {},
     "output_type": "execute_result"
    }
   ],
   "source": [
    "def compute_company_available_reports(\n",
    "        df: pd.DataFrame=df, company: str=company) -> dict:\n",
    "    \n",
    "    available_years = df.loc[df['mnc'] == company, 'year'].unique()\n",
    "    n_reports = len(available_years)\n",
    "\n",
    "    # Convert type of items from 'int' to 'str' in available years list\n",
    "    years_string_list = [str(year) for year in available_years]\n",
    "    \n",
    "    if len(years_string_list) == 1:\n",
    "        years_string = years_string_list[0]\n",
    "    elif len(years_string_list) > 1:\n",
    "        years_string = ', '.join(years_string_list[:-1])\n",
    "        years_string += ' and ' + years_string_list[-1]\n",
    "\n",
    "    data = {\n",
    "        'Company': company,\n",
    "        'Reports': n_reports,\n",
    "        'Fiscal year(s) available': years_string\n",
    "    }\n",
    "\n",
    "    return data\n",
    "\n",
    "\n",
    "data =compute_company_available_reports()\n",
    "pd.DataFrame.from_dict(data=data, orient='index').style.hide(axis='columns')"
   ]
  },
  {
   "cell_type": "markdown",
   "metadata": {},
   "source": [
    "## #13 - company key financials kpis"
   ]
  },
  {
   "cell_type": "markdown",
   "metadata": {},
   "source": [
    "**kpis** : hq country, total revenue, total unrelated party revenues, total related party revenues, pre-tax profits, taxes paid, employees.\n",
    "\n",
    "|viz|how to compute|how to manage negative values|where / variant needed|comment|\n",
    "|-|-|-|-|-|\n",
    "|raw figure for each, or table with indicator name in col A, value in col B|hq country : -<br><br>metrics : sum (metric) by year by mnc|**giulia : keep all values, even negative values**|`company explo` need a filter by company||"
   ]
  },
  {
   "cell_type": "code",
   "execution_count": 257,
   "metadata": {},
   "outputs": [
    {
     "data": {
      "text/html": [
       "<div>\n",
       "<style scoped>\n",
       "    .dataframe tbody tr th:only-of-type {\n",
       "        vertical-align: middle;\n",
       "    }\n",
       "\n",
       "    .dataframe tbody tr th {\n",
       "        vertical-align: top;\n",
       "    }\n",
       "\n",
       "    .dataframe thead th {\n",
       "        text-align: right;\n",
       "    }\n",
       "</style>\n",
       "<table border=\"1\" class=\"dataframe\">\n",
       "  <thead>\n",
       "    <tr style=\"text-align: right;\">\n",
       "      <th></th>\n",
       "      <th>2019</th>\n",
       "      <th>2020</th>\n",
       "      <th>2021</th>\n",
       "    </tr>\n",
       "  </thead>\n",
       "  <tbody>\n",
       "    <tr>\n",
       "      <th>Headquarter</th>\n",
       "      <td>Spain</td>\n",
       "      <td>Spain</td>\n",
       "      <td>Spain</td>\n",
       "    </tr>\n",
       "    <tr>\n",
       "      <th>Total revenues</th>\n",
       "      <td>€ 49.3 billion</td>\n",
       "      <td>€ 49.9 billion</td>\n",
       "      <td>€ 55.8 billion</td>\n",
       "    </tr>\n",
       "    <tr>\n",
       "      <th>Unrelated revenues</th>\n",
       "      <td>€ 48.0 billion</td>\n",
       "      <td>€ 46.7 billion</td>\n",
       "      <td>€ 53.1 billion</td>\n",
       "    </tr>\n",
       "    <tr>\n",
       "      <th>Related revenues</th>\n",
       "      <td>€ 1.3 billion</td>\n",
       "      <td>€ 3.2 billion</td>\n",
       "      <td>€ 2.7 billion</td>\n",
       "    </tr>\n",
       "    <tr>\n",
       "      <th>Profit before tax</th>\n",
       "      <td>€ 2.1 billion</td>\n",
       "      <td>€ 2.0 billion</td>\n",
       "      <td>€ 11.6 billion</td>\n",
       "    </tr>\n",
       "    <tr>\n",
       "      <th>Tax paid</th>\n",
       "      <td>€ 776.0 million</td>\n",
       "      <td>€ 589.0 million</td>\n",
       "      <td>€ 488.0 million</td>\n",
       "    </tr>\n",
       "    <tr>\n",
       "      <th>Employees</th>\n",
       "      <td>116938</td>\n",
       "      <td>112780</td>\n",
       "      <td>107323</td>\n",
       "    </tr>\n",
       "  </tbody>\n",
       "</table>\n",
       "</div>"
      ],
      "text/plain": [
       "                               2019             2020             2021\n",
       "Headquarter                   Spain            Spain            Spain\n",
       "Total revenues       € 49.3 billion   € 49.9 billion   € 55.8 billion\n",
       "Unrelated revenues   € 48.0 billion   € 46.7 billion   € 53.1 billion\n",
       "Related revenues      € 1.3 billion    € 3.2 billion    € 2.7 billion\n",
       "Profit before tax     € 2.1 billion    € 2.0 billion   € 11.6 billion\n",
       "Tax paid            € 776.0 million  € 589.0 million  € 488.0 million\n",
       "Employees                    116938           112780           107323"
      ]
     },
     "execution_count": 257,
     "metadata": {},
     "output_type": "execute_result"
    }
   ],
   "source": [
    "def compute_company_key_financials_kpis(\n",
    "        df: pd.DataFrame=df, company: str=company, year: int=None):\n",
    "    \n",
    "    # List financial kpis\n",
    "    kpis_list = ['total_revenues', 'unrelated_revenues', 'related_revenues', \n",
    "                 'profit_before_tax', 'tax_paid', 'employees']\n",
    "    \n",
    "    years = df.loc[df['mnc'] == company, 'year'].unique()\n",
    "    currency = df['currency'].unique()[0]\n",
    "    currency_symbol = get_currency_symbol(currency, locale='en_US')\n",
    "\n",
    "    if not year or year not in years:\n",
    "        df = df.loc[df['mnc'] == company].groupby(['year', 'upe_name'])[kpis_list].sum().reset_index()\n",
    "    else:\n",
    "        df = df.loc[(df['mnc'] == company) & (df['year'] == year)].groupby(['year', 'upe_name'])[kpis_list].sum().reset_index()\n",
    "\n",
    "\n",
    "    df = df.set_index('year')\n",
    "    df.index.name = None\n",
    "    \n",
    "    for column in df.columns:\n",
    "        if column not in ['employees', 'upe_name']:\n",
    "            df[column] = df[column].apply(lambda x: humanize.intword(x) if isinstance(x, (int, float)) else x)\n",
    "            df[column] = currency_symbol + ' ' + df[column]\n",
    "        elif column == 'employees':\n",
    "            df[column] = df[column].astype(int)\n",
    "\n",
    "\n",
    "    df = df.rename(columns={'upe_name': 'headquarter'})\n",
    "    df.columns = df.columns.str.replace('_', ' ').str.capitalize()\n",
    "\n",
    "    df = df.T\n",
    "\n",
    "    return df\n",
    "\n",
    "\n",
    "compute_company_key_financials_kpis()"
   ]
  },
  {
   "cell_type": "markdown",
   "metadata": {},
   "source": [
    "## #14 - company top jurisdictions for revenue"
   ]
  },
  {
   "cell_type": "markdown",
   "metadata": {},
   "source": [
    "|viz|how to compute|how to manage negative values|where / variant needed|comment|\n",
    "|-|-|-|-|-|\n",
    "|horizontal bar chart showing % total revenue for top 9 jurisdictions + rest as “OTHERS”|sum(revenue) by company x hq country x year, display top 9 and group remaining countries||`company explo` need a filter by company||"
   ]
  },
  {
   "cell_type": "code",
   "execution_count": 390,
   "metadata": {},
   "outputs": [],
   "source": [
    "def compute_top_jurisdictions_revenue(df:pd.DataFrame, company:str, year:int) -> pd.DataFrame:\n",
    "    df = df.loc[(df['mnc'] == company) & (df['year'] == year), ['jur_name', 'total_revenues']]\n",
    "    df = df.fillna(0)\n",
    "    df = df.sort_values(by='total_revenues', ascending=False)\n",
    "\n",
    "    top = df.nlargest(9, 'total_revenues').reset_index(drop=True)\n",
    "    \n",
    "    n_rows=len(df.index)\n",
    "    others = df.iloc[9:n_rows]['total_revenues'].sum()\n",
    "    top.loc[len(top.index)] = ['Others', others]\n",
    "\n",
    "    top['%_total_revenues'] = top['total_revenues'] / top['total_revenues'].sum() * 100\n",
    "    \n",
    "\n",
    "    return top.sort_values(by='total_revenues')"
   ]
  },
  {
   "cell_type": "code",
   "execution_count": 391,
   "metadata": {},
   "outputs": [
    {
     "data": {
      "text/html": [
       "<div>\n",
       "<style scoped>\n",
       "    .dataframe tbody tr th:only-of-type {\n",
       "        vertical-align: middle;\n",
       "    }\n",
       "\n",
       "    .dataframe tbody tr th {\n",
       "        vertical-align: top;\n",
       "    }\n",
       "\n",
       "    .dataframe thead th {\n",
       "        text-align: right;\n",
       "    }\n",
       "</style>\n",
       "<table border=\"1\" class=\"dataframe\">\n",
       "  <thead>\n",
       "    <tr style=\"text-align: right;\">\n",
       "      <th></th>\n",
       "      <th>jur_name</th>\n",
       "      <th>total_revenues</th>\n",
       "      <th>%_total_revenues</th>\n",
       "    </tr>\n",
       "  </thead>\n",
       "  <tbody>\n",
       "    <tr>\n",
       "      <th>9</th>\n",
       "      <td>Others</td>\n",
       "      <td>5.600000e+07</td>\n",
       "      <td>0.865399</td>\n",
       "    </tr>\n",
       "    <tr>\n",
       "      <th>8</th>\n",
       "      <td>United States of America</td>\n",
       "      <td>7.100000e+07</td>\n",
       "      <td>1.097203</td>\n",
       "    </tr>\n",
       "    <tr>\n",
       "      <th>7</th>\n",
       "      <td>Portugal</td>\n",
       "      <td>1.520000e+08</td>\n",
       "      <td>2.348941</td>\n",
       "    </tr>\n",
       "    <tr>\n",
       "      <th>6</th>\n",
       "      <td>Mexico</td>\n",
       "      <td>2.380000e+08</td>\n",
       "      <td>3.677948</td>\n",
       "    </tr>\n",
       "    <tr>\n",
       "      <th>5</th>\n",
       "      <td>Canada</td>\n",
       "      <td>3.270000e+08</td>\n",
       "      <td>5.053315</td>\n",
       "    </tr>\n",
       "    <tr>\n",
       "      <th>4</th>\n",
       "      <td>Saudi Arabia</td>\n",
       "      <td>3.290000e+08</td>\n",
       "      <td>5.084222</td>\n",
       "    </tr>\n",
       "    <tr>\n",
       "      <th>3</th>\n",
       "      <td>Poland</td>\n",
       "      <td>3.350000e+08</td>\n",
       "      <td>5.176943</td>\n",
       "    </tr>\n",
       "    <tr>\n",
       "      <th>2</th>\n",
       "      <td>Australia</td>\n",
       "      <td>8.810000e+08</td>\n",
       "      <td>13.614588</td>\n",
       "    </tr>\n",
       "    <tr>\n",
       "      <th>1</th>\n",
       "      <td>Other</td>\n",
       "      <td>1.409000e+09</td>\n",
       "      <td>21.774069</td>\n",
       "    </tr>\n",
       "    <tr>\n",
       "      <th>0</th>\n",
       "      <td>Spain</td>\n",
       "      <td>2.673000e+09</td>\n",
       "      <td>41.307371</td>\n",
       "    </tr>\n",
       "  </tbody>\n",
       "</table>\n",
       "</div>"
      ],
      "text/plain": [
       "                   jur_name  total_revenues  %_total_revenues\n",
       "9                    Others    5.600000e+07          0.865399\n",
       "8  United States of America    7.100000e+07          1.097203\n",
       "7                  Portugal    1.520000e+08          2.348941\n",
       "6                    Mexico    2.380000e+08          3.677948\n",
       "5                    Canada    3.270000e+08          5.053315\n",
       "4              Saudi Arabia    3.290000e+08          5.084222\n",
       "3                    Poland    3.350000e+08          5.176943\n",
       "2                 Australia    8.810000e+08         13.614588\n",
       "1                     Other    1.409000e+09         21.774069\n",
       "0                     Spain    2.673000e+09         41.307371"
      ]
     },
     "execution_count": 391,
     "metadata": {},
     "output_type": "execute_result"
    }
   ],
   "source": [
    "top = compute_top_jurisdictions_revenue(df=df, company=company, year=year)\n",
    "top"
   ]
  },
  {
   "cell_type": "code",
   "execution_count": 392,
   "metadata": {},
   "outputs": [
    {
     "data": {
      "image/png": "[encoded data removed]",
      "text/plain": [
       "<Figure size 640x480 with 1 Axes>"
      ]
     },
     "metadata": {},
     "output_type": "display_data"
    }
   ],
   "source": [
    "def plot_jurisdictions_top_revenue(top: pd.DataFrame):\n",
    "\n",
    "    fig, ax = plt.subplots()\n",
    "    bar = ax.barh(y=top['jur_name'], width=top['%_total_revenues'])\n",
    "\n",
    "    ax.bar_label(bar, fmt='{:.1f} %', padding=1)\n",
    "\n",
    "    ax.tick_params(axis='x', rotation=0)\n",
    "    ax.set_xlabel('%_total_revenue')\n",
    "    ax.set_ylabel('jur_name')\n",
    "\n",
    "    fig.suptitle(f'Company top jurisdictions for revenue - {company}, {year}')\n",
    "\n",
    "    plt.tight_layout()\n",
    "    plt.show()\n",
    "\n",
    "plot_jurisdictions_top_revenue(top=top)"
   ]
  },
  {
   "cell_type": "markdown",
   "metadata": {},
   "source": [
    "## #15 - company’s % pre-tax profit and % employees by jurisdiction"
   ]
  },
  {
   "cell_type": "markdown",
   "metadata": {},
   "source": [
    "|viz|how to compute|how to manage negative values|where / variant needed|comment|\n",
    "|-|-|-|-|-|\n",
    "|horizontal bar chart with one bar for % pre tax profit, the other for % employees, in different colors rank by % pre-tax profit descending|for a company : filter (profit >0) profits by JUR / total profit vs employees by JUR / total employees|**giulia : keep only positive values**|`company explo` need a filter by company||"
   ]
  },
  {
   "cell_type": "code",
   "execution_count": 393,
   "metadata": {},
   "outputs": [],
   "source": [
    "def compute_pretax_profit_and_employees_rank(df:pd.DataFrame, company:str, year:int) -> pd.DataFrame:\n",
    "    df = df.loc[\n",
    "        (df['mnc'] == company) & (df['year'] == year) & (df['profit_before_tax'] > 0), \n",
    "        ['jur_name', 'profit_before_tax', 'employees']\n",
    "    ]\n",
    "\n",
    "    df = df.fillna(0)\n",
    "\n",
    "    df['%_profit_before_tax'] = df['profit_before_tax'] / df['profit_before_tax'].sum() * 100\n",
    "    df['%_employees'] = df['employees'] / df['employees'].sum() * 100\n",
    "\n",
    "    return df.sort_values(by='profit_before_tax', ascending=True)"
   ]
  },
  {
   "cell_type": "code",
   "execution_count": 394,
   "metadata": {},
   "outputs": [
    {
     "data": {
      "text/html": [
       "<div>\n",
       "<style scoped>\n",
       "    .dataframe tbody tr th:only-of-type {\n",
       "        vertical-align: middle;\n",
       "    }\n",
       "\n",
       "    .dataframe tbody tr th {\n",
       "        vertical-align: top;\n",
       "    }\n",
       "\n",
       "    .dataframe thead th {\n",
       "        text-align: right;\n",
       "    }\n",
       "</style>\n",
       "<table border=\"1\" class=\"dataframe\">\n",
       "  <thead>\n",
       "    <tr style=\"text-align: right;\">\n",
       "      <th></th>\n",
       "      <th>jur_name</th>\n",
       "      <th>profit_before_tax</th>\n",
       "      <th>employees</th>\n",
       "      <th>%_profit_before_tax</th>\n",
       "      <th>%_employees</th>\n",
       "    </tr>\n",
       "  </thead>\n",
       "  <tbody>\n",
       "    <tr>\n",
       "      <th>6</th>\n",
       "      <td>Portugal</td>\n",
       "      <td>9000000.0</td>\n",
       "      <td>2015.0</td>\n",
       "      <td>1.495017</td>\n",
       "      <td>5.535410</td>\n",
       "    </tr>\n",
       "    <tr>\n",
       "      <th>5</th>\n",
       "      <td>Saudi Arabia</td>\n",
       "      <td>10000000.0</td>\n",
       "      <td>131.0</td>\n",
       "      <td>1.661130</td>\n",
       "      <td>0.359870</td>\n",
       "    </tr>\n",
       "    <tr>\n",
       "      <th>4</th>\n",
       "      <td>Poland</td>\n",
       "      <td>19000000.0</td>\n",
       "      <td>1523.0</td>\n",
       "      <td>3.156146</td>\n",
       "      <td>4.183836</td>\n",
       "    </tr>\n",
       "    <tr>\n",
       "      <th>3</th>\n",
       "      <td>Australia</td>\n",
       "      <td>33000000.0</td>\n",
       "      <td>1704.0</td>\n",
       "      <td>5.481728</td>\n",
       "      <td>4.681061</td>\n",
       "    </tr>\n",
       "    <tr>\n",
       "      <th>10</th>\n",
       "      <td>Other</td>\n",
       "      <td>35000000.0</td>\n",
       "      <td>7763.0</td>\n",
       "      <td>5.813953</td>\n",
       "      <td>21.325751</td>\n",
       "    </tr>\n",
       "    <tr>\n",
       "      <th>2</th>\n",
       "      <td>Mexico</td>\n",
       "      <td>54000000.0</td>\n",
       "      <td>1978.0</td>\n",
       "      <td>8.970100</td>\n",
       "      <td>5.433767</td>\n",
       "    </tr>\n",
       "    <tr>\n",
       "      <th>1</th>\n",
       "      <td>Germany</td>\n",
       "      <td>75000000.0</td>\n",
       "      <td>428.0</td>\n",
       "      <td>12.458472</td>\n",
       "      <td>1.175760</td>\n",
       "    </tr>\n",
       "    <tr>\n",
       "      <th>0</th>\n",
       "      <td>Spain</td>\n",
       "      <td>367000000.0</td>\n",
       "      <td>20860.0</td>\n",
       "      <td>60.963455</td>\n",
       "      <td>57.304544</td>\n",
       "    </tr>\n",
       "  </tbody>\n",
       "</table>\n",
       "</div>"
      ],
      "text/plain": [
       "        jur_name  profit_before_tax  employees  %_profit_before_tax  \\\n",
       "6       Portugal          9000000.0     2015.0             1.495017   \n",
       "5   Saudi Arabia         10000000.0      131.0             1.661130   \n",
       "4         Poland         19000000.0     1523.0             3.156146   \n",
       "3      Australia         33000000.0     1704.0             5.481728   \n",
       "10         Other         35000000.0     7763.0             5.813953   \n",
       "2         Mexico         54000000.0     1978.0             8.970100   \n",
       "1        Germany         75000000.0      428.0            12.458472   \n",
       "0          Spain        367000000.0    20860.0            60.963455   \n",
       "\n",
       "    %_employees  \n",
       "6      5.535410  \n",
       "5      0.359870  \n",
       "4      4.183836  \n",
       "3      4.681061  \n",
       "10    21.325751  \n",
       "2      5.433767  \n",
       "1      1.175760  \n",
       "0     57.304544  "
      ]
     },
     "execution_count": 394,
     "metadata": {},
     "output_type": "execute_result"
    }
   ],
   "source": [
    "rank = compute_pretax_profit_and_employees_rank(df, company, year)\n",
    "rank"
   ]
  },
  {
   "cell_type": "code",
   "execution_count": 396,
   "metadata": {},
   "outputs": [
    {
     "data": {
      "image/png": "[encoded data removed]",
      "text/plain": [
       "<Figure size 640x640 with 1 Axes>"
      ]
     },
     "metadata": {},
     "output_type": "display_data"
    }
   ],
   "source": [
    "def plot_pretax_profit_and_employees_rank(rank: pd.DataFrame):\n",
    "    jurisdictions = rank['jur_name'].values\n",
    "    bar_width = 0.4\n",
    "    bar_offsets = [-bar_width, 0, bar_width]\n",
    "\n",
    "    fig, ax = plt.subplots(figsize=(6.4, 6.4))\n",
    "\n",
    "    for i, (column, values) in enumerate(rank[['%_employees', '%_profit_before_tax']].items()):\n",
    "        bar_positions = []\n",
    "        for j in range(len(jurisdictions)):\n",
    "            bar_positions.append(j + bar_offsets[i])\n",
    "        bars = ax.barh(bar_positions, values, height=bar_width, label=column)\n",
    "        ax.bar_label(bars, fmt='{:.1f} %', padding=1)\n",
    "\n",
    "    ax.set_xlabel('%')\n",
    "    ax.set_yticks(range(len(jurisdictions)))\n",
    "    ax.set_yticklabels(jurisdictions)\n",
    "    ax.set_ylabel('jur_name')\n",
    "    ax.legend()\n",
    "    # ax.set_xscale('log')\n",
    "\n",
    "    fig.suptitle(f'company % pre-tax profit and % employees - {company}, {year}')\n",
    "\n",
    "    plt.tight_layout()\n",
    "    plt.show()\n",
    "\n",
    "plot_pretax_profit_and_employees_rank(rank=rank)"
   ]
  }
 ],
 "metadata": {
  "kernelspec": {
   "display_name": ".venv",
   "language": "python",
   "name": "python3"
  },
  "language_info": {
   "codemirror_mode": {
    "name": "ipython",
    "version": 3
   },
   "file_extension": ".py",
   "mimetype": "text/x-python",
   "name": "python",
   "nbconvert_exporter": "python",
   "pygments_lexer": "ipython3",
   "version": "3.12.0"
  }
 },
 "nbformat": 4,
 "nbformat_minor": 2
}
