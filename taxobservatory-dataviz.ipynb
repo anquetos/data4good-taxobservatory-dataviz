{
 "cells": [
  {
   "cell_type": "code",
   "execution_count": 180,
   "metadata": {},
   "outputs": [],
   "source": [
    "import pandas as pd\n",
    "import numpy as np\n",
    "import matplotlib.pyplot as plt\n",
    "from babel.numbers import get_currency_symbol\n",
    "import humanize"
   ]
  },
  {
   "cell_type": "markdown",
   "metadata": {},
   "source": [
    "# Data For Good - Tax Observatory Dataviz"
   ]
  },
  {
   "cell_type": "markdown",
   "metadata": {},
   "source": [
    "Visualizations for the EU Tax Observatory based on the [EU Tax Obs - Dataviz - Viz](https://docs.google.com/document/d/1q_7x8NrEWNsak9LSE3TxIiSphhVcqWqn6YeG1kQNQTk/edit#heading=h.97g77izer615) Google Docs."
   ]
  },
  {
   "cell_type": "markdown",
   "metadata": {},
   "source": [
    "## Table of contents\n",
    "* [Initialization](#initialization)\n",
    "* [#12 - available reports by company](#12---available-reports-by-company)\n",
    "* [#13 - company key financials kpis](#13---company-key-financials-kpis)\n",
    "* [#14 - company top jurisdictions for revenue](#14---company-top-jurisdictions-for-revenue)\n",
    "* [#15 - company’s % pre-tax profit and % employees by jurisdiction](#15---companys--pre-tax-profit-and--employees-by-jurisdiction)\n",
    "* [#18 - breakdown of revenue between related party and unrelated party in TH vs domestic vs non TH](#18---breakdown-of-revenue-between-related-party-and-unrelated-party-in-th-vs-domestic-vs-non-th)"
   ]
  },
  {
   "cell_type": "markdown",
   "metadata": {},
   "source": [
    "## Initialization"
   ]
  },
  {
   "cell_type": "code",
   "execution_count": 181,
   "metadata": {},
   "outputs": [],
   "source": [
    "# Import dataset in a DataFrame\n",
    "df = pd.read_csv('data_final_dataviz.csv', sep=',')"
   ]
  },
  {
   "cell_type": "markdown",
   "metadata": {},
   "source": [
    "In the website it will be possible to select a specific company. To work on the viz creation, we simulate the selection by picking a random company but also a random year."
   ]
  },
  {
   "cell_type": "code",
   "execution_count": 182,
   "metadata": {},
   "outputs": [],
   "source": [
    "# Select a random company and a random year\n",
    "def pick_random_company_and_year() -> tuple:\n",
    "    company = np.random.choice(df['mnc'].unique())\n",
    "    print(f'Selected company : {company}.')\n",
    "\n",
    "    year = np.random.choice(df.loc[df['mnc'] == company, 'year'].unique())\n",
    "    print(f'Selected year : {year}.')\n",
    "\n",
    "    return company, year"
   ]
  },
  {
   "cell_type": "code",
   "execution_count": 183,
   "metadata": {},
   "outputs": [
    {
     "name": "stdout",
     "output_type": "stream",
     "text": [
      "Selected company : DSM.\n",
      "Selected year : 2021.\n"
     ]
    }
   ],
   "source": [
    "company, year = pick_random_company_and_year()\n",
    "# company, year = 'SHELL', 2020"
   ]
  },
  {
   "cell_type": "markdown",
   "metadata": {},
   "source": [
    "## #12 - available reports by company"
   ]
  },
  {
   "cell_type": "markdown",
   "metadata": {},
   "source": [
    "|viz|how to compute|how to manage negative values|where / variant needed|comment|\n",
    "|-|-|-|-|-|\n",
    "|tbd (goal is on company page, to show reports tracked, so could be just a table showing year available for a company)|-||`company explo` need a filter by company||"
   ]
  },
  {
   "cell_type": "code",
   "execution_count": 184,
   "metadata": {},
   "outputs": [
    {
     "data": {
      "text/html": [
       "<style type=\"text/css\">\n",
       "</style>\n",
       "<table id=\"T_92488\">\n",
       "  <thead>\n",
       "  </thead>\n",
       "  <tbody>\n",
       "    <tr>\n",
       "      <th id=\"T_92488_level0_row0\" class=\"row_heading level0 row0\" >Company</th>\n",
       "      <td id=\"T_92488_row0_col0\" class=\"data row0 col0\" >DSM</td>\n",
       "    </tr>\n",
       "    <tr>\n",
       "      <th id=\"T_92488_level0_row1\" class=\"row_heading level0 row1\" >Reports</th>\n",
       "      <td id=\"T_92488_row1_col0\" class=\"data row1 col0\" >1</td>\n",
       "    </tr>\n",
       "    <tr>\n",
       "      <th id=\"T_92488_level0_row2\" class=\"row_heading level0 row2\" >Fiscal year(s) available</th>\n",
       "      <td id=\"T_92488_row2_col0\" class=\"data row2 col0\" >2021</td>\n",
       "    </tr>\n",
       "  </tbody>\n",
       "</table>\n"
      ],
      "text/plain": [
       "<pandas.io.formats.style.Styler at 0x1fd93aa3800>"
      ]
     },
     "execution_count": 184,
     "metadata": {},
     "output_type": "execute_result"
    }
   ],
   "source": [
    "def compute_company_available_reports(\n",
    "        df: pd.DataFrame=df, company: str=company) -> dict:\n",
    "    \n",
    "    available_years = df.loc[df['mnc'] == company, 'year'].unique()\n",
    "    n_reports = len(available_years)\n",
    "\n",
    "    # Convert type of items from 'int' to 'str' in available years list\n",
    "    years_string_list = [str(year) for year in available_years]\n",
    "    \n",
    "    if len(years_string_list) == 1:\n",
    "        years_string = years_string_list[0]\n",
    "    elif len(years_string_list) > 1:\n",
    "        years_string = ', '.join(years_string_list[:-1])\n",
    "        years_string += ' and ' + years_string_list[-1]\n",
    "\n",
    "    data = {\n",
    "        'Company': company,\n",
    "        'Reports': n_reports,\n",
    "        'Fiscal year(s) available': years_string\n",
    "    }\n",
    "\n",
    "    return data\n",
    "\n",
    "\n",
    "data =compute_company_available_reports()\n",
    "pd.DataFrame.from_dict(data=data, orient='index').style.hide(axis='columns')"
   ]
  },
  {
   "cell_type": "markdown",
   "metadata": {},
   "source": [
    "## #13 - company key financials kpis"
   ]
  },
  {
   "cell_type": "markdown",
   "metadata": {},
   "source": [
    "**kpis** : hq country, total revenue, total unrelated party revenues, total related party revenues, pre-tax profits, taxes paid, employees.\n",
    "\n",
    "|viz|how to compute|how to manage negative values|where / variant needed|comment|\n",
    "|-|-|-|-|-|\n",
    "|raw figure for each, or table with indicator name in col A, value in col B|hq country : -<br><br>metrics : sum (metric) by year by mnc|**giulia : keep all values, even negative values**|`company explo` need a filter by company||"
   ]
  },
  {
   "cell_type": "code",
   "execution_count": 185,
   "metadata": {},
   "outputs": [],
   "source": [
    "def compute_company_key_financials_kpis(\n",
    "        df: pd.DataFrame=df, company: str=company, year: int=None) -> dict:\n",
    "    \n",
    "    # List financial kpis\n",
    "    kpis_list = ['total_revenues', 'unrelated_revenues', 'related_revenues', \n",
    "                 'profit_before_tax', 'tax_paid', 'employees']\n",
    "    \n",
    "    years = df.loc[df['mnc'] == company, 'year'].unique()\n",
    "    currency = df['currency'].unique()[0]\n",
    "    currency_symbol = get_currency_symbol(currency, locale='en_US')\n",
    "\n",
    "    if not year or year not in years:\n",
    "        df = (df.loc[df['mnc'] == company]\n",
    "            .groupby(['year', 'upe_name'], as_index=False)[kpis_list]\n",
    "            .sum()\n",
    "        )\n",
    "    else:\n",
    "        df = (df.loc[(df['mnc'] == company) & (df['year'] == year)]\n",
    "              .groupby(['year', 'upe_name'], as_index=False)[kpis_list]\n",
    "              .sum())\n",
    "\n",
    "    df = df.set_index('year')\n",
    "\n",
    "    for column in df.columns:\n",
    "        if column not in ['employees', 'upe_name']:\n",
    "            df[column] = df[column].apply(\n",
    "                lambda x: humanize.intword(x) if isinstance(x, (int, float)) else x)\n",
    "            df[column] = currency_symbol + ' ' + df[column]\n",
    "        elif column == 'employees':\n",
    "            df[column] = df[column].astype(int)\n",
    "\n",
    "    df = df.rename(columns={'upe_name': 'headquarter'})\n",
    "    df.columns = df.columns.str.replace('_', ' ').str.capitalize()\n",
    "\n",
    "    data = df.to_dict(orient='index')\n",
    "\n",
    "    return data"
   ]
  },
  {
   "cell_type": "code",
   "execution_count": 186,
   "metadata": {},
   "outputs": [
    {
     "data": {
      "text/html": [
       "<div>\n",
       "<style scoped>\n",
       "    .dataframe tbody tr th:only-of-type {\n",
       "        vertical-align: middle;\n",
       "    }\n",
       "\n",
       "    .dataframe tbody tr th {\n",
       "        vertical-align: top;\n",
       "    }\n",
       "\n",
       "    .dataframe thead th {\n",
       "        text-align: right;\n",
       "    }\n",
       "</style>\n",
       "<table border=\"1\" class=\"dataframe\">\n",
       "  <thead>\n",
       "    <tr style=\"text-align: right;\">\n",
       "      <th></th>\n",
       "      <th>2021</th>\n",
       "    </tr>\n",
       "  </thead>\n",
       "  <tbody>\n",
       "    <tr>\n",
       "      <th>Headquarter</th>\n",
       "      <td>Netherlands</td>\n",
       "    </tr>\n",
       "    <tr>\n",
       "      <th>Total revenues</th>\n",
       "      <td>€ 9.5 billion</td>\n",
       "    </tr>\n",
       "    <tr>\n",
       "      <th>Unrelated revenues</th>\n",
       "      <td>€ 0</td>\n",
       "    </tr>\n",
       "    <tr>\n",
       "      <th>Related revenues</th>\n",
       "      <td>€ 0</td>\n",
       "    </tr>\n",
       "    <tr>\n",
       "      <th>Profit before tax</th>\n",
       "      <td>€ 1.2 billion</td>\n",
       "    </tr>\n",
       "    <tr>\n",
       "      <th>Tax paid</th>\n",
       "      <td>€ 201.0 million</td>\n",
       "    </tr>\n",
       "    <tr>\n",
       "      <th>Employees</th>\n",
       "      <td>21358</td>\n",
       "    </tr>\n",
       "  </tbody>\n",
       "</table>\n",
       "</div>"
      ],
      "text/plain": [
       "                               2021\n",
       "Headquarter             Netherlands\n",
       "Total revenues        € 9.5 billion\n",
       "Unrelated revenues              € 0\n",
       "Related revenues                € 0\n",
       "Profit before tax     € 1.2 billion\n",
       "Tax paid            € 201.0 million\n",
       "Employees                     21358"
      ]
     },
     "execution_count": 186,
     "metadata": {},
     "output_type": "execute_result"
    }
   ],
   "source": [
    "data = compute_company_key_financials_kpis()\n",
    "pd.DataFrame.from_dict(data)"
   ]
  },
  {
   "cell_type": "markdown",
   "metadata": {},
   "source": [
    "## #14 - company top jurisdictions for revenue"
   ]
  },
  {
   "cell_type": "markdown",
   "metadata": {},
   "source": [
    "|viz|how to compute|how to manage negative values|where / variant needed|comment|\n",
    "|-|-|-|-|-|\n",
    "|horizontal bar chart showing % total revenue for top 9 jurisdictions + rest as “OTHERS”|sum(revenue) by company x hq country x year, display top 9 and group remaining countries||`company explo` need a filter by company||"
   ]
  },
  {
   "cell_type": "code",
   "execution_count": 187,
   "metadata": {},
   "outputs": [],
   "source": [
    "def compute_top_jurisdictions_revenue(\n",
    "        df: pd.DataFrame=df, company: str=company, year:int=year) -> dict:\n",
    "    \n",
    "    df = df.loc[(df['mnc'] == company) & (df['year'] == year), ['jur_name', 'total_revenues']]\n",
    "    df = df.fillna(0)\n",
    "    df = df.sort_values(by='total_revenues', ascending=False)\n",
    "\n",
    "    top = df[:9].copy()\n",
    "\n",
    "    others = df[9:]['total_revenues'].sum()\n",
    "    top.loc[9] = ['Others', others]\n",
    "\n",
    "    top['total_revenues_%'] = top['total_revenues'] / top['total_revenues'].sum() * 100\n",
    "\n",
    "    top = top.sort_values(by='total_revenues_%').reset_index(drop=True)\n",
    "\n",
    "    data = top.to_dict()\n",
    "    \n",
    "    return data"
   ]
  },
  {
   "cell_type": "code",
   "execution_count": 188,
   "metadata": {},
   "outputs": [
    {
     "data": {
      "text/html": [
       "<div>\n",
       "<style scoped>\n",
       "    .dataframe tbody tr th:only-of-type {\n",
       "        vertical-align: middle;\n",
       "    }\n",
       "\n",
       "    .dataframe tbody tr th {\n",
       "        vertical-align: top;\n",
       "    }\n",
       "\n",
       "    .dataframe thead th {\n",
       "        text-align: right;\n",
       "    }\n",
       "</style>\n",
       "<table border=\"1\" class=\"dataframe\">\n",
       "  <thead>\n",
       "    <tr style=\"text-align: right;\">\n",
       "      <th></th>\n",
       "      <th>jur_name</th>\n",
       "      <th>total_revenues</th>\n",
       "      <th>total_revenues_%</th>\n",
       "    </tr>\n",
       "  </thead>\n",
       "  <tbody>\n",
       "    <tr>\n",
       "      <th>0</th>\n",
       "      <td>Others</td>\n",
       "      <td>0.000000e+00</td>\n",
       "      <td>0.000000</td>\n",
       "    </tr>\n",
       "    <tr>\n",
       "      <th>1</th>\n",
       "      <td>Other</td>\n",
       "      <td>9.800000e+07</td>\n",
       "      <td>1.034956</td>\n",
       "    </tr>\n",
       "    <tr>\n",
       "      <th>2</th>\n",
       "      <td>Other Asia</td>\n",
       "      <td>4.230000e+08</td>\n",
       "      <td>4.467209</td>\n",
       "    </tr>\n",
       "    <tr>\n",
       "      <th>3</th>\n",
       "      <td>Latin America</td>\n",
       "      <td>6.660000e+08</td>\n",
       "      <td>7.033478</td>\n",
       "    </tr>\n",
       "    <tr>\n",
       "      <th>4</th>\n",
       "      <td>China</td>\n",
       "      <td>1.208000e+09</td>\n",
       "      <td>12.757419</td>\n",
       "    </tr>\n",
       "    <tr>\n",
       "      <th>5</th>\n",
       "      <td>Other Europe</td>\n",
       "      <td>1.336000e+09</td>\n",
       "      <td>14.109198</td>\n",
       "    </tr>\n",
       "    <tr>\n",
       "      <th>6</th>\n",
       "      <td>North America</td>\n",
       "      <td>1.351000e+09</td>\n",
       "      <td>14.267610</td>\n",
       "    </tr>\n",
       "    <tr>\n",
       "      <th>7</th>\n",
       "      <td>Netherlands</td>\n",
       "      <td>2.017000e+09</td>\n",
       "      <td>21.301088</td>\n",
       "    </tr>\n",
       "    <tr>\n",
       "      <th>8</th>\n",
       "      <td>Switzerland</td>\n",
       "      <td>2.370000e+09</td>\n",
       "      <td>25.029042</td>\n",
       "    </tr>\n",
       "  </tbody>\n",
       "</table>\n",
       "</div>"
      ],
      "text/plain": [
       "        jur_name  total_revenues  total_revenues_%\n",
       "0         Others    0.000000e+00          0.000000\n",
       "1          Other    9.800000e+07          1.034956\n",
       "2     Other Asia    4.230000e+08          4.467209\n",
       "3  Latin America    6.660000e+08          7.033478\n",
       "4          China    1.208000e+09         12.757419\n",
       "5   Other Europe    1.336000e+09         14.109198\n",
       "6  North America    1.351000e+09         14.267610\n",
       "7    Netherlands    2.017000e+09         21.301088\n",
       "8    Switzerland    2.370000e+09         25.029042"
      ]
     },
     "execution_count": 188,
     "metadata": {},
     "output_type": "execute_result"
    }
   ],
   "source": [
    "pd.DataFrame(compute_top_jurisdictions_revenue())"
   ]
  },
  {
   "cell_type": "code",
   "execution_count": 189,
   "metadata": {},
   "outputs": [
    {
     "data": {
      "image/png": "[encoded data removed]",
      "text/plain": [
       "<Figure size 640x480 with 1 Axes>"
      ]
     },
     "metadata": {},
     "output_type": "display_data"
    }
   ],
   "source": [
    "def plot_jurisdictions_top_revenue():\n",
    "\n",
    "    top = pd.DataFrame(compute_top_jurisdictions_revenue())\n",
    "\n",
    "    fig, ax = plt.subplots()\n",
    "    bar = ax.barh(y=top['jur_name'], width=top['total_revenues_%'])\n",
    "\n",
    "    ax.bar_label(bar, fmt='{:.1f} %', padding=1)\n",
    "\n",
    "    ax.tick_params(axis='x', rotation=0)\n",
    "    ax.set_xlabel('total_revenue_%')\n",
    "    ax.set_ylabel('jur_name')\n",
    "\n",
    "    fig.suptitle(f'Company top jurisdictions for revenue - {company}, {year}')\n",
    "\n",
    "    plt.tight_layout()\n",
    "    plt.show()\n",
    "\n",
    "plot_jurisdictions_top_revenue()"
   ]
  },
  {
   "cell_type": "markdown",
   "metadata": {},
   "source": [
    "## #15 - company’s % pre-tax profit and % employees by jurisdiction"
   ]
  },
  {
   "cell_type": "markdown",
   "metadata": {},
   "source": [
    "|viz|how to compute|how to manage negative values|where / variant needed|comment|\n",
    "|-|-|-|-|-|\n",
    "|horizontal bar chart with one bar for % pre tax profit, the other for % employees, in different colors rank by % pre-tax profit descending|for a company : filter (profit >0) profits by JUR / total profit vs employees by JUR / total employees|**giulia : keep only positive values**|`company explo` need a filter by company||"
   ]
  },
  {
   "cell_type": "code",
   "execution_count": 190,
   "metadata": {},
   "outputs": [],
   "source": [
    "def compute_pretax_profit_and_employees_rank(\n",
    "        df: pd.DataFrame=df, company: str=company, year: int=year) -> dict:\n",
    "    \n",
    "    df = df.loc[\n",
    "        (df['mnc'] == company) & (df['year'] == year) & (df['profit_before_tax'] > 0), \n",
    "        ['jur_name', 'profit_before_tax', 'employees']\n",
    "    ]\n",
    "\n",
    "    df = df.fillna(0)\n",
    "    df = df.sort_values(by='profit_before_tax').reset_index(drop=True)\n",
    "\n",
    "    df['profit_before_tax_%'] = df['profit_before_tax'] / df['profit_before_tax'].sum() * 100\n",
    "    df['employees_%'] = df['employees'] / df['employees'].sum() * 100\n",
    "\n",
    "    data = df.to_dict()\n",
    "\n",
    "    return data"
   ]
  },
  {
   "cell_type": "code",
   "execution_count": 191,
   "metadata": {},
   "outputs": [
    {
     "data": {
      "text/html": [
       "<div>\n",
       "<style scoped>\n",
       "    .dataframe tbody tr th:only-of-type {\n",
       "        vertical-align: middle;\n",
       "    }\n",
       "\n",
       "    .dataframe tbody tr th {\n",
       "        vertical-align: top;\n",
       "    }\n",
       "\n",
       "    .dataframe thead th {\n",
       "        text-align: right;\n",
       "    }\n",
       "</style>\n",
       "<table border=\"1\" class=\"dataframe\">\n",
       "  <thead>\n",
       "    <tr style=\"text-align: right;\">\n",
       "      <th></th>\n",
       "      <th>jur_name</th>\n",
       "      <th>profit_before_tax</th>\n",
       "      <th>employees</th>\n",
       "      <th>profit_before_tax_%</th>\n",
       "      <th>employees_%</th>\n",
       "    </tr>\n",
       "  </thead>\n",
       "  <tbody>\n",
       "    <tr>\n",
       "      <th>0</th>\n",
       "      <td>Other</td>\n",
       "      <td>6000000.0</td>\n",
       "      <td>296.0</td>\n",
       "      <td>0.514139</td>\n",
       "      <td>1.385898</td>\n",
       "    </tr>\n",
       "    <tr>\n",
       "      <th>1</th>\n",
       "      <td>Other Asia</td>\n",
       "      <td>71000000.0</td>\n",
       "      <td>1709.0</td>\n",
       "      <td>6.083976</td>\n",
       "      <td>8.001686</td>\n",
       "    </tr>\n",
       "    <tr>\n",
       "      <th>2</th>\n",
       "      <td>Latin America</td>\n",
       "      <td>96000000.0</td>\n",
       "      <td>2290.0</td>\n",
       "      <td>8.226221</td>\n",
       "      <td>10.721978</td>\n",
       "    </tr>\n",
       "    <tr>\n",
       "      <th>3</th>\n",
       "      <td>China</td>\n",
       "      <td>116000000.0</td>\n",
       "      <td>4704.0</td>\n",
       "      <td>9.940017</td>\n",
       "      <td>22.024534</td>\n",
       "    </tr>\n",
       "    <tr>\n",
       "      <th>4</th>\n",
       "      <td>North America</td>\n",
       "      <td>130000000.0</td>\n",
       "      <td>3018.0</td>\n",
       "      <td>11.139674</td>\n",
       "      <td>14.130537</td>\n",
       "    </tr>\n",
       "    <tr>\n",
       "      <th>5</th>\n",
       "      <td>Other Europe</td>\n",
       "      <td>131000000.0</td>\n",
       "      <td>4161.0</td>\n",
       "      <td>11.225364</td>\n",
       "      <td>19.482161</td>\n",
       "    </tr>\n",
       "    <tr>\n",
       "      <th>6</th>\n",
       "      <td>Netherlands</td>\n",
       "      <td>270000000.0</td>\n",
       "      <td>3006.0</td>\n",
       "      <td>23.136247</td>\n",
       "      <td>14.074352</td>\n",
       "    </tr>\n",
       "    <tr>\n",
       "      <th>7</th>\n",
       "      <td>Switzerland</td>\n",
       "      <td>347000000.0</td>\n",
       "      <td>2174.0</td>\n",
       "      <td>29.734362</td>\n",
       "      <td>10.178856</td>\n",
       "    </tr>\n",
       "  </tbody>\n",
       "</table>\n",
       "</div>"
      ],
      "text/plain": [
       "        jur_name  profit_before_tax  employees  profit_before_tax_%  \\\n",
       "0          Other          6000000.0      296.0             0.514139   \n",
       "1     Other Asia         71000000.0     1709.0             6.083976   \n",
       "2  Latin America         96000000.0     2290.0             8.226221   \n",
       "3          China        116000000.0     4704.0             9.940017   \n",
       "4  North America        130000000.0     3018.0            11.139674   \n",
       "5   Other Europe        131000000.0     4161.0            11.225364   \n",
       "6    Netherlands        270000000.0     3006.0            23.136247   \n",
       "7    Switzerland        347000000.0     2174.0            29.734362   \n",
       "\n",
       "   employees_%  \n",
       "0     1.385898  \n",
       "1     8.001686  \n",
       "2    10.721978  \n",
       "3    22.024534  \n",
       "4    14.130537  \n",
       "5    19.482161  \n",
       "6    14.074352  \n",
       "7    10.178856  "
      ]
     },
     "execution_count": 191,
     "metadata": {},
     "output_type": "execute_result"
    }
   ],
   "source": [
    "pd.DataFrame(compute_pretax_profit_and_employees_rank())"
   ]
  },
  {
   "cell_type": "code",
   "execution_count": 192,
   "metadata": {},
   "outputs": [
    {
     "data": {
      "image/png": "[encoded data removed]",
      "text/plain": [
       "<Figure size 640x480 with 1 Axes>"
      ]
     },
     "metadata": {},
     "output_type": "display_data"
    }
   ],
   "source": [
    "def plot_pretax_profit_and_employees_rank():\n",
    "\n",
    "    rank = pd.DataFrame(compute_pretax_profit_and_employees_rank())\n",
    "\n",
    "    jurisdictions = rank['jur_name'].values\n",
    "    bar_width = 0.42\n",
    "    bar_offsets = [-bar_width, 0, bar_width]\n",
    "\n",
    "    fig_height = max(4.8, (0.48*len(jurisdictions)))\n",
    "    fig, ax = plt.subplots(figsize=(6.4, fig_height))\n",
    "\n",
    "    for i, (column, values) in enumerate(rank[['employees_%', 'profit_before_tax_%']].items()):\n",
    "        bar_positions = []\n",
    "        for j in range(len(jurisdictions)):\n",
    "            bar_positions.append(j + bar_offsets[i])\n",
    "        bars = ax.barh(bar_positions, values, height=bar_width, label=column)\n",
    "        ax.bar_label(bars, fmt='{:.2f} %', padding=1)\n",
    "\n",
    "    ax.set_xlabel('%')\n",
    "    ax.set_yticks(range(len(jurisdictions)))\n",
    "    ax.set_yticklabels(jurisdictions)\n",
    "    ax.set_ylabel('jur_name')\n",
    "    ax.set_xscale('symlog', linthresh=1)\n",
    "    ax.legend(loc='lower right')\n",
    "       \n",
    "    fig.suptitle(f'company % pre-tax profit and % employees - {company}, {year}')\n",
    "\n",
    "    plt.tight_layout()\n",
    "    plt.show()\n",
    "\n",
    "plot_pretax_profit_and_employees_rank()"
   ]
  },
  {
   "cell_type": "markdown",
   "metadata": {},
   "source": [
    "## #18 - breakdown of revenue between related party and unrelated party in TH vs domestic vs non TH"
   ]
  },
  {
   "cell_type": "markdown",
   "metadata": {},
   "source": [
    "|viz|how to compute|how to manage negative values|where / variant needed|comment|\n",
    "|-|-|-|-|-|\n",
    "|horizontal barchart % of revenue from related-party revenue, and % revenue from unrelated party, show value for domestic (hq country) vs tax havens vs. non havens|get total revenue in TH, in domestic country, in non TH then show the % coming from unrelated party revenue and related party revenue (sum of both should equal total revenue)||`company explo` need a filter by company|what if sum or unrelated party revenue  and related party revenue does not equal to total revenue ? safeguard ?|"
   ]
  },
  {
   "cell_type": "code",
   "execution_count": 232,
   "metadata": {},
   "outputs": [
    {
     "data": {
      "text/plain": [
       "{'th_revenues': {'unrelated_revenues': 88.20022565532007,\n",
       "  'related_revenues': 11.799774344679923},\n",
       " 'non_th_revenues': {'unrelated_revenues': 89.35686913233883,\n",
       "  'related_revenues': 10.643130867661164},\n",
       " 'domestic_revenues': {'unrelated_revenues': 91.08436129924463,\n",
       "  'related_revenues': 8.915638700755373}}"
      ]
     },
     "execution_count": 232,
     "metadata": {},
     "output_type": "execute_result"
    }
   ],
   "source": [
    "def compute_related_and_unrelated_revenues_breakdown(\n",
    "        df: pd.DataFrame=df, company: str=company, year: int=year) -> dict:\n",
    "    \n",
    "    # Create a filtered version of the dataset\n",
    "    df_temp = df.loc[(df['mnc'] == company) & (df['year'] == year)].copy()\n",
    "\n",
    "    # Create a boolean column to check if 'jur_code' is the domestic country\n",
    "    df_temp['domestic'] = df_temp.apply(\n",
    "        lambda row: row['jur_code'] == row['upe_code'], axis='columns')\n",
    "\n",
    "    # Calculate missing values in 'related_revenues' if 'unrelated_revenues' and 'total_revenues' are available\n",
    "    df_temp.loc[\n",
    "        df_temp['unrelated_revenues'].notna() \n",
    "        & df_temp['total_revenues'].notna() \n",
    "        & df_temp['related_revenues'].isna(), \n",
    "        'related_revenues'\n",
    "    ] = df_temp['total_revenues'] - df_temp['unrelated_revenues']\n",
    "\n",
    "    # Calculate missing values in 'unrelated_revenues' if 'related_revenues' and 'total_revenues' are available\n",
    "    df_temp.loc[\n",
    "        df_temp['related_revenues'].notna() \n",
    "        & df_temp['total_revenues'].notna() \n",
    "        & df_temp['unrelated_revenues'].isna(), \n",
    "        'unrelated_revenues'\n",
    "    ] = df_temp['total_revenues'] - df_temp['related_revenues']\n",
    "\n",
    "    # Remove columns where 'unrelated_revenues' or 'related_revenues' is missing\n",
    "    df_temp = df_temp.dropna(subset=['unrelated_revenues', 'related_revenues'])\n",
    "\n",
    "    # Compute kpis in a new DataFrame\n",
    "    data = pd.DataFrame()\n",
    "    data['th_revenues'] = df_temp.loc[\n",
    "        df_temp['jur_tax_haven'] == True, ['unrelated_revenues', 'related_revenues']].sum()\n",
    "    data['non_th_revenues'] = df_temp.loc[\n",
    "        df_temp['jur_tax_haven'] == False, ['unrelated_revenues', 'related_revenues']].sum()\n",
    "    data['domestic_revenues'] = df_temp.loc[\n",
    "        df_temp['domestic'] == True, ['unrelated_revenues', 'related_revenues']].sum()\n",
    "\n",
    "    # Replace values with share (%) of 'unrelated/related revenues'\n",
    "    data = data.div(data.sum(axis='rows'), axis='columns') * 100\n",
    "\n",
    "    # Convert DataFrame to dictionnary\n",
    "    data = data.to_dict()\n",
    "\n",
    "    return data\n",
    "\n",
    "compute_related_and_unrelated_revenues_breakdown(df, 'AXA', 2021)"
   ]
  },
  {
   "cell_type": "code",
   "execution_count": 235,
   "metadata": {},
   "outputs": [
    {
     "data": {
      "image/png": "[encoded data removed]",
      "text/plain": [
       "<Figure size 640x480 with 1 Axes>"
      ]
     },
     "metadata": {},
     "output_type": "display_data"
    }
   ],
   "source": [
    "fig, ax = plt.subplots()\n",
    "\n",
    "test = pd.DataFrame(compute_related_and_unrelated_revenues_breakdown(df, 'AXA', 2021)).T\n",
    "\n",
    "test.plot(kind='barh', stacked=True, ax=ax)\n",
    "\n",
    "fig.suptitle(f'{company} - {year}')\n",
    "plt.show()"
   ]
  }
 ],
 "metadata": {
  "kernelspec": {
   "display_name": ".venv",
   "language": "python",
   "name": "python3"
  },
  "language_info": {
   "codemirror_mode": {
    "name": "ipython",
    "version": 3
   },
   "file_extension": ".py",
   "mimetype": "text/x-python",
   "name": "python",
   "nbconvert_exporter": "python",
   "pygments_lexer": "ipython3",
   "version": "3.12.0"
  }
 },
 "nbformat": 4,
 "nbformat_minor": 2
}
